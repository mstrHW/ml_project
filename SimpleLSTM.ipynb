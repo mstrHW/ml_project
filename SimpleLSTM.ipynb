{
 "cells": [
  {
   "cell_type": "code",
   "execution_count": 1,
   "metadata": {},
   "outputs": [
    {
     "data": {
      "text/plain": [
       "sys.version_info(major=3, minor=7, micro=6, releaselevel='final', serial=0)"
      ]
     },
     "execution_count": 1,
     "metadata": {},
     "output_type": "execute_result"
    }
   ],
   "source": [
    "import numpy as np\n",
    "import pandas as pd\n",
    "pd.set_option('display.max_rows', 500)\n",
    "pd.set_option('display.max_columns', 100)\n",
    "\n",
    "from itertools import product\n",
    "from sklearn.preprocessing import LabelEncoder\n",
    "\n",
    "import seaborn as sns\n",
    "import matplotlib.pyplot as plt\n",
    "%matplotlib inline\n",
    "\n",
    "import time\n",
    "import sys\n",
    "import gc\n",
    "import pickle\n",
    "sys.version_info"
   ]
  },
  {
   "cell_type": "code",
   "execution_count": 2,
   "metadata": {},
   "outputs": [],
   "source": [
    "from module.data.read_data import *"
   ]
  },
  {
   "cell_type": "code",
   "execution_count": 3,
   "metadata": {},
   "outputs": [],
   "source": [
    "train = sales_file_processing()"
   ]
  },
  {
   "cell_type": "code",
   "execution_count": 4,
   "metadata": {},
   "outputs": [],
   "source": [
    "test = test_file_processing().set_index('ID')\n",
    "\n",
    "items = pd.read_csv(ITEMS_FILE)\n",
    "shops = shops_file_processing()\n",
    "cats = categories_file_processing()"
   ]
  },
  {
   "cell_type": "code",
   "execution_count": 5,
   "metadata": {},
   "outputs": [],
   "source": [
    "train = train[train.item_price<100000]\n",
    "train = train[train.item_cnt_day<1001]"
   ]
  },
  {
   "cell_type": "code",
   "execution_count": 6,
   "metadata": {},
   "outputs": [],
   "source": [
    "median = train[(train.shop_id==32)&(train.item_id==2973)&(train.date_block_num==4)&(train.item_price>0)].item_price.median()\n",
    "train.loc[train.item_price<0, 'item_price'] = median"
   ]
  },
  {
   "cell_type": "code",
   "execution_count": 7,
   "metadata": {},
   "outputs": [
    {
     "data": {
      "text/plain": [
       "1.1100032329559326"
      ]
     },
     "execution_count": 7,
     "metadata": {},
     "output_type": "execute_result"
    }
   ],
   "source": [
    "ts = time.time()\n",
    "cols = ['date_block_num','shop_id','item_id']\n",
    "group = train.groupby(cols).agg({'item_cnt_day': ['sum']})\n",
    "\n",
    "new_columns = ['item_cnt_month']\n",
    "group.columns = new_columns\n",
    "group.reset_index(inplace=True)\n",
    "group[new_columns] = group[new_columns].astype(np.float16)\n",
    "\n",
    "time.time() - ts"
   ]
  },
  {
   "cell_type": "code",
   "execution_count": 8,
   "metadata": {},
   "outputs": [],
   "source": [
    "date_block_nums = [i for i in range(35)]\n",
    "shop_ids = test['shop_id'].unique()\n",
    "item_ids = test['item_id'].unique()\n",
    "columns = [\"date_block_num\", \"shop_id\", \"item_id\"]\n",
    "\n",
    "index = pd.MultiIndex.from_product([date_block_nums, shop_ids, item_ids], names=columns)\n",
    "matrix = pd.DataFrame(index = index).reset_index()"
   ]
  },
  {
   "cell_type": "code",
   "execution_count": 9,
   "metadata": {},
   "outputs": [
    {
     "name": "stdout",
     "output_type": "stream",
     "text": [
      "<class 'pandas.core.frame.DataFrame'>\n",
      "RangeIndex: 7497000 entries, 0 to 7496999\n",
      "Data columns (total 3 columns):\n",
      "date_block_num    int8\n",
      "shop_id           int8\n",
      "item_id           int16\n",
      "dtypes: int16(1), int8(2)\n",
      "memory usage: 28.6 MB\n"
     ]
    }
   ],
   "source": [
    "matrix['date_block_num'] = matrix['date_block_num'].astype(np.int8)\n",
    "matrix['shop_id'] = matrix['shop_id'].astype(np.int8)\n",
    "matrix['item_id'] = matrix['item_id'].astype(np.int16)\n",
    "matrix.info()"
   ]
  },
  {
   "cell_type": "code",
   "execution_count": 13,
   "metadata": {},
   "outputs": [],
   "source": [
    "matrix.sort_values(cols, inplace=True)\n",
    "matrix.reset_index(drop=True, inplace=True)"
   ]
  },
  {
   "cell_type": "code",
   "execution_count": 37,
   "metadata": {},
   "outputs": [],
   "source": [
    "matrix.fillna(0, inplace=True)"
   ]
  },
  {
   "cell_type": "code",
   "execution_count": 15,
   "metadata": {},
   "outputs": [
    {
     "name": "stdout",
     "output_type": "stream",
     "text": [
      "<class 'pandas.core.frame.DataFrame'>\n",
      "RangeIndex: 7497000 entries, 0 to 7496999\n",
      "Data columns (total 3 columns):\n",
      "date_block_num    int8\n",
      "shop_id           int8\n",
      "item_id           int16\n",
      "dtypes: int16(1), int8(2)\n",
      "memory usage: 28.6 MB\n"
     ]
    }
   ],
   "source": [
    "matrix.info()"
   ]
  },
  {
   "cell_type": "code",
   "execution_count": 16,
   "metadata": {},
   "outputs": [],
   "source": [
    "matrix = pd.merge(matrix, group,  how='left', on=columns)"
   ]
  },
  {
   "cell_type": "code",
   "execution_count": 18,
   "metadata": {},
   "outputs": [
    {
     "name": "stdout",
     "output_type": "stream",
     "text": [
      "<class 'pandas.core.frame.DataFrame'>\n",
      "Int64Index: 7497000 entries, 0 to 7496999\n",
      "Data columns (total 4 columns):\n",
      "date_block_num    int8\n",
      "shop_id           int8\n",
      "item_id           int16\n",
      "item_cnt_month    float16\n",
      "dtypes: float16(1), int16(1), int8(2)\n",
      "memory usage: 100.1 MB\n"
     ]
    }
   ],
   "source": [
    "matrix.info()"
   ]
  },
  {
   "cell_type": "code",
   "execution_count": 19,
   "metadata": {},
   "outputs": [
    {
     "name": "stderr",
     "output_type": "stream",
     "text": [
      "C:\\Users\\HWer\\Anaconda3\\envs\\ml_project\\lib\\site-packages\\tqdm\\std.py:658: FutureWarning: The Panel class is removed from pandas. Accessing it from the top-level namespace will also be removed in the next version\n",
      "  from pandas import Panel\n"
     ]
    }
   ],
   "source": [
    "from tqdm.notebook import tqdm\n",
    "tqdm.pandas()"
   ]
  },
  {
   "cell_type": "code",
   "execution_count": 47,
   "metadata": {},
   "outputs": [],
   "source": [
    "def get_sets(matrix):\n",
    "    train_X = matrix[matrix.date_block_num < 32]\n",
    "    train_X = np.array(list(train_X.groupby(['shop_id', 'item_id'])['item_cnt_month'].progress_apply(pd.DataFrame.as_matrix)))\n",
    "    train_X = train_X.reshape((train_X.shape[0], train_X.shape[1], 1))\n",
    "    train_y = matrix[matrix.date_block_num == 32]['item_cnt_month']\n",
    "    \n",
    "    valid_X = matrix[(matrix.date_block_num > 0) & (matrix.date_block_num < 33)]\n",
    "    valid_X = np.array(list(valid_X.groupby(['shop_id', 'item_id'])['item_cnt_month'].progress_apply(pd.DataFrame.as_matrix)))\n",
    "    valid_X = valid_X.reshape((valid_X.shape[0], valid_X.shape[1], 1))\n",
    "    valid_y = matrix[matrix.date_block_num == 33]['item_cnt_month']\n",
    "   \n",
    "    test_X = matrix[(matrix.date_block_num > 1) & (matrix.date_block_num < 34)]\n",
    "    test_X = np.array(list(test_X.groupby(['shop_id', 'item_id'])['item_cnt_month'].progress_apply(pd.DataFrame.as_matrix)))\n",
    "    test_X = test_X.reshape((test_X.shape[0], test_X.shape[1], 1))\n",
    "    test_y = matrix[matrix.date_block_num == 34]\n",
    "\n",
    "    return (train_X, train_y), (valid_X, valid_y), (test_X, test_y)\n"
   ]
  },
  {
   "cell_type": "code",
   "execution_count": 54,
   "metadata": {},
   "outputs": [
    {
     "data": {
      "application/vnd.jupyter.widget-view+json": {
       "model_id": "0f6e79d93d3c4913bfe644182934bcdb",
       "version_major": 2,
       "version_minor": 0
      },
      "text/plain": [
       "HBox(children=(FloatProgress(value=0.0, max=214200.0), HTML(value='')))"
      ]
     },
     "metadata": {},
     "output_type": "display_data"
    },
    {
     "name": "stderr",
     "output_type": "stream",
     "text": [
      "C:\\Users\\HWer\\Anaconda3\\envs\\ml_project\\lib\\site-packages\\tqdm\\std.py:749: FutureWarning: Method .as_matrix will be removed in a future version. Use .values instead.\n",
      "  return func(*args, **kwargs)\n"
     ]
    },
    {
     "name": "stdout",
     "output_type": "stream",
     "text": [
      "\n"
     ]
    },
    {
     "data": {
      "application/vnd.jupyter.widget-view+json": {
       "model_id": "eef56b12d658475ba641f6ea4096eaa4",
       "version_major": 2,
       "version_minor": 0
      },
      "text/plain": [
       "HBox(children=(FloatProgress(value=0.0, max=214200.0), HTML(value='')))"
      ]
     },
     "metadata": {},
     "output_type": "display_data"
    },
    {
     "name": "stdout",
     "output_type": "stream",
     "text": [
      "\n"
     ]
    },
    {
     "data": {
      "application/vnd.jupyter.widget-view+json": {
       "model_id": "44dc0192691e4d36ae81683072ab25e7",
       "version_major": 2,
       "version_minor": 0
      },
      "text/plain": [
       "HBox(children=(FloatProgress(value=0.0, max=214200.0), HTML(value='')))"
      ]
     },
     "metadata": {},
     "output_type": "display_data"
    },
    {
     "name": "stdout",
     "output_type": "stream",
     "text": [
      "\n"
     ]
    }
   ],
   "source": [
    "train, valid, test_dataset = get_sets(matrix)"
   ]
  },
  {
   "cell_type": "code",
   "execution_count": 23,
   "metadata": {},
   "outputs": [
    {
     "name": "stderr",
     "output_type": "stream",
     "text": [
      "Using TensorFlow backend.\n"
     ]
    }
   ],
   "source": [
    "from keras.models import Sequential\n",
    "from keras.layers import LSTM, Dense, Dropout"
   ]
  },
  {
   "cell_type": "code",
   "execution_count": 24,
   "metadata": {},
   "outputs": [],
   "source": [
    "import keras.backend as K\n",
    "\n",
    "def rmse_keras(y_true, y_pred):\n",
    "    return K.sqrt(K.mean(K.square(y_pred - y_true))) "
   ]
  },
  {
   "cell_type": "code",
   "execution_count": 25,
   "metadata": {},
   "outputs": [],
   "source": [
    "from sklearn.metrics import mean_squared_error\n",
    "from math import sqrt\n",
    "\n",
    "def rmse_sklearn(y_actual, y_predicted):\n",
    "    return sqrt(mean_squared_error(y_actual, y_predicted))"
   ]
  },
  {
   "cell_type": "code",
   "execution_count": 39,
   "metadata": {},
   "outputs": [
    {
     "name": "stdout",
     "output_type": "stream",
     "text": [
      "Model: \"sequential_3\"\n",
      "_________________________________________________________________\n",
      "Layer (type)                 Output Shape              Param #   \n",
      "=================================================================\n",
      "lstm_3 (LSTM)                (None, 64)                16896     \n",
      "_________________________________________________________________\n",
      "dropout_3 (Dropout)          (None, 64)                0         \n",
      "_________________________________________________________________\n",
      "dense_3 (Dense)              (None, 1)                 65        \n",
      "=================================================================\n",
      "Total params: 16,961\n",
      "Trainable params: 16,961\n",
      "Non-trainable params: 0\n",
      "_________________________________________________________________\n"
     ]
    }
   ],
   "source": [
    "# our defining our model \n",
    "my_model = Sequential()\n",
    "my_model.add(LSTM(units = 64,input_shape = (32, 1)))\n",
    "my_model.add(Dropout(0.4))\n",
    "my_model.add(Dense(1))\n",
    "\n",
    "my_model.compile(loss=rmse_keras, optimizer='adam', metrics=[rmse_keras])\n",
    "my_model.summary()"
   ]
  },
  {
   "cell_type": "code",
   "execution_count": 40,
   "metadata": {
    "scrolled": true
   },
   "outputs": [
    {
     "name": "stdout",
     "output_type": "stream",
     "text": [
      "Train on 214200 samples, validate on 214200 samples\n",
      "Epoch 1/10\n",
      "214200/214200 [==============================] - 39s 180us/step - loss: 2.0187 - rmse_keras: 2.0105 - val_loss: 1.8098 - val_rmse_keras: 1.7940\n",
      "Epoch 2/10\n",
      "214200/214200 [==============================] - 38s 177us/step - loss: 1.9875 - rmse_keras: 1.9745 - val_loss: 1.7584 - val_rmse_keras: 1.7418\n",
      "Epoch 3/10\n",
      "214200/214200 [==============================] - 38s 176us/step - loss: 1.9182 - rmse_keras: 1.9172 - val_loss: 1.7283 - val_rmse_keras: 1.7114\n",
      "Epoch 4/10\n",
      "214200/214200 [==============================] - 40s 186us/step - loss: 1.8920 - rmse_keras: 1.8808 - val_loss: 1.7100 - val_rmse_keras: 1.6930\n",
      "Epoch 5/10\n",
      "214200/214200 [==============================] - 39s 181us/step - loss: 1.8248 - rmse_keras: 1.8142 - val_loss: 1.6976 - val_rmse_keras: 1.6805\n",
      "Epoch 6/10\n",
      "214200/214200 [==============================] - 39s 183us/step - loss: 1.8610 - rmse_keras: 1.8695 - val_loss: 1.6869 - val_rmse_keras: 1.6697\n",
      "Epoch 7/10\n",
      "214200/214200 [==============================] - 38s 178us/step - loss: 1.8407 - rmse_keras: 1.8308 - val_loss: 1.6795 - val_rmse_keras: 1.6624\n",
      "Epoch 8/10\n",
      "214200/214200 [==============================] - 37s 173us/step - loss: 1.8389 - rmse_keras: 1.8308 - val_loss: 1.6709 - val_rmse_keras: 1.6539\n",
      "Epoch 9/10\n",
      "214200/214200 [==============================] - 37s 173us/step - loss: 1.8441 - rmse_keras: 1.8346 - val_loss: 1.6645 - val_rmse_keras: 1.6476\n",
      "Epoch 10/10\n",
      "214200/214200 [==============================] - 38s 175us/step - loss: 1.7861 - rmse_keras: 1.7795 - val_loss: 1.6580 - val_rmse_keras: 1.6414\n"
     ]
    },
    {
     "data": {
      "text/plain": [
       "<keras.callbacks.callbacks.History at 0x27c23929848>"
      ]
     },
     "execution_count": 40,
     "metadata": {},
     "output_type": "execute_result"
    }
   ],
   "source": [
    "my_model.fit(train[0], train[1], batch_size = 4096, epochs = 10, validation_data=valid)"
   ]
  },
  {
   "cell_type": "code",
   "execution_count": 60,
   "metadata": {},
   "outputs": [],
   "source": [
    "train_pred = my_model.predict(train[0])\n",
    "valid_pred = my_model.predict(valid[0])\n",
    "test_pred = my_model.predict(test_dataset[0])"
   ]
  },
  {
   "cell_type": "code",
   "execution_count": 63,
   "metadata": {},
   "outputs": [],
   "source": [
    "mean_cv_scores = [\n",
    "    rmse_sklearn(train[1], train_pred),\n",
    "    rmse_sklearn(valid[1], valid_pred),\n",
    "    rmse_sklearn(test_dataset[1]['item_cnt_month'], test_pred),\n",
    "]"
   ]
  },
  {
   "cell_type": "code",
   "execution_count": 64,
   "metadata": {},
   "outputs": [
    {
     "data": {
      "text/plain": [
       "[2.240683552975836, 2.4549468254965574, 0.04798060650407035]"
      ]
     },
     "execution_count": 64,
     "metadata": {},
     "output_type": "execute_result"
    }
   ],
   "source": [
    "mean_cv_scores"
   ]
  },
  {
   "cell_type": "code",
   "execution_count": 57,
   "metadata": {},
   "outputs": [],
   "source": [
    "import pickle\n",
    "\n",
    "model_name = 'lstm'\n",
    "with open('{}_train_pred.pickle'.format(model_name), 'wb') as f:\n",
    "    pickle.dump(train_pred, f)\n",
    "\n",
    "with open('{}_valid_pred.pickle'.format(model_name), 'wb') as f:\n",
    "    pickle.dump(valid_pred, f)\n",
    "\n",
    "with open('{}_test_pred.pickle'.format(model_name), 'wb') as f:\n",
    "    pickle.dump(test_pred, f)"
   ]
  },
  {
   "cell_type": "code",
   "execution_count": 65,
   "metadata": {},
   "outputs": [],
   "source": [
    "with open('{}_train.pickle'.format(model_name), 'wb') as f:\n",
    "    pickle.dump(train[1], f)\n",
    "\n",
    "with open('{}_valid.pickle'.format(model_name), 'wb') as f:\n",
    "    pickle.dump(valid[1], f)"
   ]
  },
  {
   "cell_type": "code",
   "execution_count": 59,
   "metadata": {},
   "outputs": [
    {
     "name": "stderr",
     "output_type": "stream",
     "text": [
      "C:\\Users\\HWer\\Anaconda3\\envs\\ml_project\\lib\\site-packages\\ipykernel_launcher.py:8: SettingWithCopyWarning: \n",
      "A value is trying to be set on a copy of a slice from a DataFrame.\n",
      "Try using .loc[row_indexer,col_indexer] = value instead\n",
      "\n",
      "See the caveats in the documentation: http://pandas.pydata.org/pandas-docs/stable/user_guide/indexing.html#returning-a-view-versus-a-copy\n",
      "  \n"
     ]
    }
   ],
   "source": [
    "import pickle\n",
    "\n",
    "\n",
    "test = test_file_processing().set_index('ID')\n",
    "test = test[['shop_id', 'item_id']]\n",
    "\n",
    "test_y = test_dataset[1]\n",
    "test_y['item_cnt_month'] = test_pred.clip(0, 20)\n",
    "\n",
    "answer = pd.merge(test, test_y,  how='left', on=['shop_id', 'item_id'])\n",
    "\n",
    "submission = pd.DataFrame({\n",
    "    \"ID\": answer.index, \n",
    "    \"item_cnt_month\": answer['item_cnt_month'],\n",
    "})\n",
    "\n",
    "submission.to_csv('{}_submission_filtered.csv'.format(model_name), index=False)\n",
    "pickle.dump(answer['item_cnt_month'], open('{}_test_filtered.pickle'.format(model_name), 'wb'))"
   ]
  },
  {
   "cell_type": "code",
   "execution_count": null,
   "metadata": {},
   "outputs": [],
   "source": []
  }
 ],
 "metadata": {
  "kernelspec": {
   "display_name": "Python 3",
   "language": "python",
   "name": "python3"
  },
  "language_info": {
   "codemirror_mode": {
    "name": "ipython",
    "version": 3
   },
   "file_extension": ".py",
   "mimetype": "text/x-python",
   "name": "python",
   "nbconvert_exporter": "python",
   "pygments_lexer": "ipython3",
   "version": "3.7.6"
  }
 },
 "nbformat": 4,
 "nbformat_minor": 4
}
