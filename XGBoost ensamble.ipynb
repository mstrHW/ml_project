{
 "cells": [
  {
   "cell_type": "code",
   "execution_count": 1,
   "metadata": {},
   "outputs": [],
   "source": [
    "import pickle\n",
    "\n",
    "import pandas as pd\n",
    "import numpy as np"
   ]
  },
  {
   "cell_type": "code",
   "execution_count": 2,
   "metadata": {},
   "outputs": [],
   "source": [
    "models = ['lgb', 'xgb'] #, 'lstm'"
   ]
  },
  {
   "cell_type": "code",
   "execution_count": 3,
   "metadata": {},
   "outputs": [
    {
     "name": "stdout",
     "output_type": "stream",
     "text": [
      "(4777260, 1)\n",
      "(3344082, 1)\n"
     ]
    },
    {
     "ename": "ValueError",
     "evalue": "all the input array dimensions for the concatenation axis must match exactly, but along dimension 0, the array at index 0 has size 4777260 and the array at index 1 has size 3344082",
     "output_type": "error",
     "traceback": [
      "\u001b[1;31m---------------------------------------------------------------------------\u001b[0m",
      "\u001b[1;31mValueError\u001b[0m                                Traceback (most recent call last)",
      "\u001b[1;32m<ipython-input-3-2c1fa9f3dda0>\u001b[0m in \u001b[0;36m<module>\u001b[1;34m\u001b[0m\n\u001b[0;32m     10\u001b[0m         \u001b[0mtrain_parts\u001b[0m\u001b[1;33m.\u001b[0m\u001b[0mappend\u001b[0m\u001b[1;33m(\u001b[0m\u001b[0mtrain_part\u001b[0m\u001b[1;33m)\u001b[0m\u001b[1;33m\u001b[0m\u001b[1;33m\u001b[0m\u001b[0m\n\u001b[0;32m     11\u001b[0m \u001b[1;33m\u001b[0m\u001b[0m\n\u001b[1;32m---> 12\u001b[1;33m \u001b[0mX\u001b[0m \u001b[1;33m=\u001b[0m \u001b[0mnp\u001b[0m\u001b[1;33m.\u001b[0m\u001b[0mconcatenate\u001b[0m\u001b[1;33m(\u001b[0m\u001b[0mtrain_parts\u001b[0m\u001b[1;33m,\u001b[0m \u001b[0maxis\u001b[0m\u001b[1;33m=\u001b[0m\u001b[1;36m1\u001b[0m\u001b[1;33m)\u001b[0m\u001b[1;33m\u001b[0m\u001b[1;33m\u001b[0m\u001b[0m\n\u001b[0m\u001b[0;32m     13\u001b[0m \u001b[1;32mwith\u001b[0m \u001b[0mopen\u001b[0m\u001b[1;33m(\u001b[0m\u001b[1;34m'{}_valid.pickle'\u001b[0m\u001b[1;33m.\u001b[0m\u001b[0mformat\u001b[0m\u001b[1;33m(\u001b[0m\u001b[1;34m'lgb'\u001b[0m\u001b[1;33m)\u001b[0m\u001b[1;33m,\u001b[0m \u001b[1;34m'rb'\u001b[0m\u001b[1;33m)\u001b[0m \u001b[1;32mas\u001b[0m \u001b[0mf\u001b[0m\u001b[1;33m:\u001b[0m\u001b[1;33m\u001b[0m\u001b[1;33m\u001b[0m\u001b[0m\n\u001b[0;32m     14\u001b[0m     \u001b[0my\u001b[0m \u001b[1;33m=\u001b[0m \u001b[0mpickle\u001b[0m\u001b[1;33m.\u001b[0m\u001b[0mload\u001b[0m\u001b[1;33m(\u001b[0m\u001b[0mf\u001b[0m\u001b[1;33m)\u001b[0m\u001b[1;33m\u001b[0m\u001b[1;33m\u001b[0m\u001b[0m\n",
      "\u001b[1;32m<__array_function__ internals>\u001b[0m in \u001b[0;36mconcatenate\u001b[1;34m(*args, **kwargs)\u001b[0m\n",
      "\u001b[1;31mValueError\u001b[0m: all the input array dimensions for the concatenation axis must match exactly, but along dimension 0, the array at index 0 has size 4777260 and the array at index 1 has size 3344082"
     ]
    }
   ],
   "source": [
    "train_parts = []\n",
    "valid_parts = []\n",
    "test_parts = []\n",
    "\n",
    "for model in models:\n",
    "    with open('{}_train_pred.pickle'.format(model), 'rb') as f:\n",
    "        train_part = pickle.load(f)\n",
    "        train_part = train_part.reshape(-1, 1)\n",
    "        print(train_part.shape)\n",
    "        train_parts.append(train_part)\n",
    "\n",
    "X = np.concatenate(train_parts, axis=1)\n",
    "with open('{}_valid.pickle'.format('lgb'), 'rb') as f:\n",
    "    y = pickle.load(f)"
   ]
  },
  {
   "cell_type": "code",
   "execution_count": 21,
   "metadata": {},
   "outputs": [
    {
     "data": {
      "text/plain": [
       "(238172, 2)"
      ]
     },
     "execution_count": 21,
     "metadata": {},
     "output_type": "execute_result"
    }
   ],
   "source": [
    "X.shape"
   ]
  },
  {
   "cell_type": "code",
   "execution_count": 22,
   "metadata": {},
   "outputs": [
    {
     "data": {
      "text/plain": [
       "(238172,)"
      ]
     },
     "execution_count": 22,
     "metadata": {},
     "output_type": "execute_result"
    }
   ],
   "source": [
    "y.shape"
   ]
  },
  {
   "cell_type": "code",
   "execution_count": 23,
   "metadata": {},
   "outputs": [],
   "source": [
    "import xgboost as xgb"
   ]
  },
  {
   "cell_type": "code",
   "execution_count": 58,
   "metadata": {},
   "outputs": [],
   "source": [
    "clf = xgb.XGBRegressor()"
   ]
  },
  {
   "cell_type": "code",
   "execution_count": 59,
   "metadata": {},
   "outputs": [
    {
     "name": "stdout",
     "output_type": "stream",
     "text": [
      "[0]\tvalidation_0-rmse:1.11676\n",
      "Will train until validation_0-rmse hasn't improved in 10 rounds.\n",
      "[1]\tvalidation_0-rmse:1.07863\n",
      "[2]\tvalidation_0-rmse:1.04674\n",
      "[3]\tvalidation_0-rmse:1.01997\n",
      "[4]\tvalidation_0-rmse:0.997463\n",
      "[5]\tvalidation_0-rmse:0.978816\n",
      "[6]\tvalidation_0-rmse:0.963356\n",
      "[7]\tvalidation_0-rmse:0.950503\n",
      "[8]\tvalidation_0-rmse:0.939838\n",
      "[9]\tvalidation_0-rmse:0.930867\n",
      "[10]\tvalidation_0-rmse:0.923577\n",
      "[11]\tvalidation_0-rmse:0.917455\n",
      "[12]\tvalidation_0-rmse:0.912475\n",
      "[13]\tvalidation_0-rmse:0.908272\n",
      "[14]\tvalidation_0-rmse:0.904801\n",
      "[15]\tvalidation_0-rmse:0.901951\n",
      "[16]\tvalidation_0-rmse:0.899621\n",
      "[17]\tvalidation_0-rmse:0.897615\n",
      "[18]\tvalidation_0-rmse:0.896003\n",
      "[19]\tvalidation_0-rmse:0.894676\n",
      "[20]\tvalidation_0-rmse:0.893469\n",
      "[21]\tvalidation_0-rmse:0.892426\n",
      "[22]\tvalidation_0-rmse:0.891601\n",
      "[23]\tvalidation_0-rmse:0.890724\n",
      "[24]\tvalidation_0-rmse:0.890065\n",
      "[25]\tvalidation_0-rmse:0.889542\n",
      "[26]\tvalidation_0-rmse:0.889067\n",
      "[27]\tvalidation_0-rmse:0.888639\n",
      "[28]\tvalidation_0-rmse:0.888227\n",
      "[29]\tvalidation_0-rmse:0.887897\n",
      "[30]\tvalidation_0-rmse:0.88755\n",
      "[31]\tvalidation_0-rmse:0.887344\n",
      "[32]\tvalidation_0-rmse:0.887057\n",
      "[33]\tvalidation_0-rmse:0.886831\n",
      "[34]\tvalidation_0-rmse:0.886583\n",
      "[35]\tvalidation_0-rmse:0.88631\n",
      "[36]\tvalidation_0-rmse:0.886071\n",
      "[37]\tvalidation_0-rmse:0.885823\n",
      "[38]\tvalidation_0-rmse:0.885638\n",
      "[39]\tvalidation_0-rmse:0.88543\n",
      "[40]\tvalidation_0-rmse:0.885201\n",
      "[41]\tvalidation_0-rmse:0.884979\n",
      "[42]\tvalidation_0-rmse:0.884781\n",
      "[43]\tvalidation_0-rmse:0.884499\n",
      "[44]\tvalidation_0-rmse:0.88423\n",
      "[45]\tvalidation_0-rmse:0.883819\n",
      "[46]\tvalidation_0-rmse:0.883751\n",
      "[47]\tvalidation_0-rmse:0.883672\n",
      "[48]\tvalidation_0-rmse:0.883503\n",
      "[49]\tvalidation_0-rmse:0.883341\n",
      "[50]\tvalidation_0-rmse:0.883246\n",
      "[51]\tvalidation_0-rmse:0.883179\n",
      "[52]\tvalidation_0-rmse:0.882851\n",
      "[53]\tvalidation_0-rmse:0.882049\n",
      "[54]\tvalidation_0-rmse:0.881999\n",
      "[55]\tvalidation_0-rmse:0.881839\n",
      "[56]\tvalidation_0-rmse:0.881694\n",
      "[57]\tvalidation_0-rmse:0.881642\n",
      "[58]\tvalidation_0-rmse:0.881373\n",
      "[59]\tvalidation_0-rmse:0.880965\n",
      "[60]\tvalidation_0-rmse:0.88078\n",
      "[61]\tvalidation_0-rmse:0.880734\n",
      "[62]\tvalidation_0-rmse:0.880623\n",
      "[63]\tvalidation_0-rmse:0.880511\n",
      "[64]\tvalidation_0-rmse:0.880281\n",
      "[65]\tvalidation_0-rmse:0.880046\n",
      "[66]\tvalidation_0-rmse:0.879995\n",
      "[67]\tvalidation_0-rmse:0.879799\n",
      "[68]\tvalidation_0-rmse:0.879621\n",
      "[69]\tvalidation_0-rmse:0.879323\n",
      "[70]\tvalidation_0-rmse:0.87925\n",
      "[71]\tvalidation_0-rmse:0.879084\n",
      "[72]\tvalidation_0-rmse:0.878921\n",
      "[73]\tvalidation_0-rmse:0.878697\n",
      "[74]\tvalidation_0-rmse:0.878685\n",
      "[75]\tvalidation_0-rmse:0.878522\n",
      "[76]\tvalidation_0-rmse:0.878457\n",
      "[77]\tvalidation_0-rmse:0.878314\n",
      "[78]\tvalidation_0-rmse:0.877974\n",
      "[79]\tvalidation_0-rmse:0.877923\n",
      "[80]\tvalidation_0-rmse:0.877723\n",
      "[81]\tvalidation_0-rmse:0.877454\n",
      "[82]\tvalidation_0-rmse:0.877292\n",
      "[83]\tvalidation_0-rmse:0.877069\n",
      "[84]\tvalidation_0-rmse:0.876904\n",
      "[85]\tvalidation_0-rmse:0.876773\n",
      "[86]\tvalidation_0-rmse:0.876517\n",
      "[87]\tvalidation_0-rmse:0.876334\n",
      "[88]\tvalidation_0-rmse:0.876279\n",
      "[89]\tvalidation_0-rmse:0.876226\n",
      "[90]\tvalidation_0-rmse:0.876024\n",
      "[91]\tvalidation_0-rmse:0.875865\n",
      "[92]\tvalidation_0-rmse:0.875705\n",
      "[93]\tvalidation_0-rmse:0.87557\n",
      "[94]\tvalidation_0-rmse:0.875389\n",
      "[95]\tvalidation_0-rmse:0.875275\n",
      "[96]\tvalidation_0-rmse:0.875009\n",
      "[97]\tvalidation_0-rmse:0.874976\n",
      "[98]\tvalidation_0-rmse:0.874759\n",
      "[99]\tvalidation_0-rmse:0.874553\n"
     ]
    },
    {
     "data": {
      "text/plain": [
       "XGBRegressor(base_score=0.5, booster='gbtree', colsample_bylevel=1,\n",
       "             colsample_bytree=1, gamma=0, learning_rate=0.1, max_delta_step=0,\n",
       "             max_depth=3, min_child_weight=1, missing=None, n_estimators=100,\n",
       "             n_jobs=1, nthread=None, objective='reg:linear', random_state=0,\n",
       "             reg_alpha=0, reg_lambda=1, scale_pos_weight=1, seed=None,\n",
       "             silent=True, subsample=1)"
      ]
     },
     "execution_count": 59,
     "metadata": {},
     "output_type": "execute_result"
    }
   ],
   "source": [
    "clf.fit(\n",
    "    X, \n",
    "    y, \n",
    "    eval_metric=\"rmse\", \n",
    "    eval_set=[(X, y)], \n",
    "    verbose=True, \n",
    "    early_stopping_rounds=10,\n",
    ")"
   ]
  },
  {
   "cell_type": "code",
   "execution_count": 60,
   "metadata": {},
   "outputs": [],
   "source": [
    "preds = clf.predict(X)"
   ]
  },
  {
   "cell_type": "code",
   "execution_count": 61,
   "metadata": {},
   "outputs": [],
   "source": [
    "from sklearn.metrics import mean_squared_error\n",
    "from math import sqrt\n",
    "\n",
    "def rmse_sklearn(y_actual, y_predicted):\n",
    "    return sqrt(mean_squared_error(y_actual, y_predicted))"
   ]
  },
  {
   "cell_type": "code",
   "execution_count": 62,
   "metadata": {},
   "outputs": [
    {
     "data": {
      "text/plain": [
       "0.8745526123709251"
      ]
     },
     "execution_count": 62,
     "metadata": {},
     "output_type": "execute_result"
    }
   ],
   "source": [
    "rmse_sklearn(y, preds)"
   ]
  },
  {
   "cell_type": "code",
   "execution_count": 63,
   "metadata": {},
   "outputs": [
    {
     "name": "stdout",
     "output_type": "stream",
     "text": [
      "(214200, 1)\n",
      "(214200, 1)\n"
     ]
    }
   ],
   "source": [
    "train_parts = []\n",
    "\n",
    "for model in models:\n",
    "    with open('{}_test_pred.pickle'.format(model), 'rb') as f:\n",
    "        train_part = pickle.load(f)\n",
    "        train_part = train_part.reshape(-1, 1)\n",
    "        print(train_part.shape)\n",
    "        train_parts.append(train_part)\n",
    "    \n",
    "test_X = np.concatenate(train_parts, axis=1)"
   ]
  },
  {
   "cell_type": "code",
   "execution_count": 64,
   "metadata": {},
   "outputs": [],
   "source": [
    "test_preds = clf.predict(test_X)"
   ]
  },
  {
   "cell_type": "code",
   "execution_count": 65,
   "metadata": {},
   "outputs": [
    {
     "data": {
      "text/plain": [
       "(214200, 3)"
      ]
     },
     "execution_count": 65,
     "metadata": {},
     "output_type": "execute_result"
    }
   ],
   "source": [
    "from module.data.read_data import *\n",
    "\n",
    "test = test_file_processing().set_index('ID')\n",
    "test.shape"
   ]
  },
  {
   "cell_type": "code",
   "execution_count": 66,
   "metadata": {},
   "outputs": [],
   "source": [
    "import pickle\n",
    "\n",
    "submission = pd.DataFrame({\n",
    "    \"ID\": test.index, \n",
    "    \"item_cnt_month\": test_preds.clip(0, 20),\n",
    "})\n",
    "\n",
    "submission.to_csv('ensamble_submission.csv', index=False)\n",
    "pickle.dump(test_preds, open('ensamble_test.pickle', 'wb'))"
   ]
  },
  {
   "cell_type": "code",
   "execution_count": null,
   "metadata": {},
   "outputs": [],
   "source": []
  }
 ],
 "metadata": {
  "kernelspec": {
   "display_name": "Python 3",
   "language": "python",
   "name": "python3"
  },
  "language_info": {
   "codemirror_mode": {
    "name": "ipython",
    "version": 3
   },
   "file_extension": ".py",
   "mimetype": "text/x-python",
   "name": "python",
   "nbconvert_exporter": "python",
   "pygments_lexer": "ipython3",
   "version": "3.7.6"
  }
 },
 "nbformat": 4,
 "nbformat_minor": 4
}
