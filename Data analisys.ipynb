{
 "cells": [
  {
   "cell_type": "code",
   "execution_count": 1,
   "metadata": {},
   "outputs": [],
   "source": [
    "import numpy as np\n",
    "import pandas as pd\n",
    "import time"
   ]
  },
  {
   "cell_type": "code",
   "execution_count": 59,
   "metadata": {},
   "outputs": [],
   "source": [
    "from tqdm.notebook import tqdm"
   ]
  },
  {
   "cell_type": "code",
   "execution_count": 60,
   "metadata": {
    "scrolled": true
   },
   "outputs": [
    {
     "name": "stderr",
     "output_type": "stream",
     "text": [
      "C:\\Users\\HWer\\Anaconda3\\envs\\ml_project\\lib\\site-packages\\tqdm\\std.py:658: FutureWarning: The Panel class is removed from pandas. Accessing it from the top-level namespace will also be removed in the next version\n",
      "  from pandas import Panel\n"
     ]
    }
   ],
   "source": [
    "tqdm.pandas()"
   ]
  },
  {
   "cell_type": "code",
   "execution_count": 2,
   "metadata": {},
   "outputs": [],
   "source": [
    "from module.data.read_data import *"
   ]
  },
  {
   "cell_type": "code",
   "execution_count": 3,
   "metadata": {},
   "outputs": [],
   "source": [
    "train = sales_file_processing()"
   ]
  },
  {
   "cell_type": "code",
   "execution_count": 4,
   "metadata": {},
   "outputs": [],
   "source": [
    "test = test_file_processing().set_index('ID')"
   ]
  },
  {
   "cell_type": "code",
   "execution_count": 5,
   "metadata": {},
   "outputs": [],
   "source": [
    "shops_count = test.shop_id.unique().shape[0]\n",
    "items_count = test.item_id.unique().shape[0]"
   ]
  },
  {
   "cell_type": "code",
   "execution_count": 6,
   "metadata": {},
   "outputs": [
    {
     "name": "stdout",
     "output_type": "stream",
     "text": [
      "42\n",
      "5100\n",
      "214200\n",
      "(214200, 3)\n"
     ]
    }
   ],
   "source": [
    "print(shops_count)\n",
    "print(items_count)\n",
    "print(shops_count * items_count)\n",
    "print(test.shape)"
   ]
  },
  {
   "cell_type": "code",
   "execution_count": 7,
   "metadata": {
    "scrolled": true
   },
   "outputs": [
    {
     "name": "stdout",
     "output_type": "stream",
     "text": [
      "<class 'pandas.core.frame.DataFrame'>\n",
      "RangeIndex: 2935849 entries, 0 to 2935848\n",
      "Data columns (total 6 columns):\n",
      "date              object\n",
      "date_block_num    int64\n",
      "shop_id           int64\n",
      "item_id           int64\n",
      "item_price        float64\n",
      "item_cnt_day      float64\n",
      "dtypes: float64(2), int64(3), object(1)\n",
      "memory usage: 134.4+ MB\n"
     ]
    }
   ],
   "source": [
    "train.info()"
   ]
  },
  {
   "cell_type": "code",
   "execution_count": 8,
   "metadata": {},
   "outputs": [],
   "source": [
    "train['date_block_num'] = train['date_block_num'].astype(np.uint8)\n",
    "train['shop_id'] = train['shop_id'].astype(np.uint8)\n",
    "train['item_id'] = train['item_id'].astype(np.uint16)\n",
    "train['item_price'] = train['item_price'].astype(np.float16)\n",
    "train['item_cnt_day'] = train['item_cnt_day'].astype(np.float16)"
   ]
  },
  {
   "cell_type": "code",
   "execution_count": 9,
   "metadata": {},
   "outputs": [
    {
     "data": {
      "text/plain": [
       "1.0728211402893066"
      ]
     },
     "execution_count": 9,
     "metadata": {},
     "output_type": "execute_result"
    }
   ],
   "source": [
    "ts = time.time()\n",
    "cols = ['date_block_num','shop_id','item_id']\n",
    "train = train.groupby(cols).agg({'item_cnt_day': ['sum']})\n",
    "\n",
    "new_columns = ['item_cnt_month']\n",
    "train.columns = new_columns\n",
    "train.reset_index(inplace=True)\n",
    "train[new_columns] = train[new_columns].astype(np.float16)\n",
    "\n",
    "time.time() - ts"
   ]
  },
  {
   "cell_type": "code",
   "execution_count": 10,
   "metadata": {},
   "outputs": [],
   "source": [
    "test['date_block_num'] = 34\n",
    "test['date_block_num'] = test['date_block_num'].astype(np.uint8)\n",
    "test['shop_id'] = test['shop_id'].astype(np.uint8)\n",
    "test['item_id'] = test['item_id'].astype(np.uint16)"
   ]
  },
  {
   "cell_type": "code",
   "execution_count": 53,
   "metadata": {},
   "outputs": [
    {
     "data": {
      "text/plain": [
       "0.592414379119873"
      ]
     },
     "execution_count": 53,
     "metadata": {},
     "output_type": "execute_result"
    }
   ],
   "source": [
    "ts = time.time()\n",
    "columns = ['date_block_num', 'shop_id', 'item_id']\n",
    "matrix = pd.concat([train, test], ignore_index=True, sort=False, keys=columns)\n",
    "matrix.fillna(0, inplace=True) # 34 month\n",
    "matrix.sort_values(by=columns, inplace=True)\n",
    "matrix.reset_index(drop=True, inplace=True) \n",
    "time.time() - ts"
   ]
  },
  {
   "cell_type": "code",
   "execution_count": 54,
   "metadata": {},
   "outputs": [],
   "source": [
    "matrix['date_block_num'] = matrix['date_block_num'].astype(np.uint8)\n",
    "matrix['shop_id'] = matrix['shop_id'].astype(np.uint8)\n",
    "matrix['item_id'] = matrix['item_id'].astype(np.uint16)\n",
    "matrix['item_cnt_month'] = matrix['item_cnt_month'].astype(np.float16)"
   ]
  },
  {
   "cell_type": "code",
   "execution_count": 55,
   "metadata": {},
   "outputs": [
    {
     "name": "stdout",
     "output_type": "stream",
     "text": [
      "<class 'pandas.core.frame.DataFrame'>\n",
      "RangeIndex: 1822472 entries, 0 to 1822471\n",
      "Data columns (total 4 columns):\n",
      "date_block_num    uint8\n",
      "shop_id           uint8\n",
      "item_id           uint16\n",
      "item_cnt_month    float16\n",
      "dtypes: float16(1), uint16(1), uint8(2)\n",
      "memory usage: 10.4 MB\n"
     ]
    }
   ],
   "source": [
    "matrix.info()"
   ]
  },
  {
   "cell_type": "code",
   "execution_count": 56,
   "metadata": {},
   "outputs": [],
   "source": [
    "matrix['previous_block_num'] = 0\n",
    "matrix['previous_block_num'] = matrix['previous_block_num'].astype(np.uint8)"
   ]
  },
  {
   "cell_type": "code",
   "execution_count": 57,
   "metadata": {},
   "outputs": [],
   "source": [
    "matrix['block_num_diff'] = 0\n",
    "matrix['block_num_diff'] = matrix['block_num_diff'].astype(np.uint8)"
   ]
  },
  {
   "cell_type": "code",
   "execution_count": 58,
   "metadata": {},
   "outputs": [],
   "source": [
    "_grouped = matrix.groupby(['shop_id', 'item_id'])"
   ]
  },
  {
   "cell_type": "code",
   "execution_count": 61,
   "metadata": {
    "scrolled": true
   },
   "outputs": [
    {
     "data": {
      "application/vnd.jupyter.widget-view+json": {
       "model_id": "a71140998aeb44dfa706c73e7efe76f9",
       "version_major": 2,
       "version_minor": 0
      },
      "text/plain": [
       "HBox(children=(FloatProgress(value=0.0, max=520915.0), HTML(value='')))"
      ]
     },
     "metadata": {},
     "output_type": "display_data"
    },
    {
     "name": "stdout",
     "output_type": "stream",
     "text": [
      "\n"
     ]
    }
   ],
   "source": [
    "matrix['previous_block_num'] = _grouped['date_block_num'].progress_apply(lambda x: x.shift(periods=1, fill_value=0))"
   ]
  },
  {
   "cell_type": "code",
   "execution_count": 62,
   "metadata": {},
   "outputs": [
    {
     "data": {
      "application/vnd.jupyter.widget-view+json": {
       "model_id": "9b436d659d5b4215b14a3bcdb6fcf846",
       "version_major": 2,
       "version_minor": 0
      },
      "text/plain": [
       "HBox(children=(FloatProgress(value=0.0, max=520915.0), HTML(value='')))"
      ]
     },
     "metadata": {},
     "output_type": "display_data"
    },
    {
     "name": "stdout",
     "output_type": "stream",
     "text": [
      "\n"
     ]
    }
   ],
   "source": [
    "matrix['previous_sales'] = _grouped['item_cnt_month'].progress_apply(lambda x: x.shift(periods=1, fill_value=0))"
   ]
  },
  {
   "cell_type": "code",
   "execution_count": 63,
   "metadata": {},
   "outputs": [],
   "source": [
    "matrix['block_num_diff'] = matrix['date_block_num'] - matrix['previous_block_num']"
   ]
  },
  {
   "cell_type": "code",
   "execution_count": 64,
   "metadata": {},
   "outputs": [
    {
     "data": {
      "text/plain": [
       "(1822472, 7)"
      ]
     },
     "execution_count": 64,
     "metadata": {},
     "output_type": "execute_result"
    }
   ],
   "source": [
    "matrix.shape"
   ]
  },
  {
   "cell_type": "code",
   "execution_count": 51,
   "metadata": {},
   "outputs": [],
   "source": [
    "matrix = matrix[matrix.block_num_diff.isin([0, 1])]"
   ]
  },
  {
   "cell_type": "code",
   "execution_count": 52,
   "metadata": {},
   "outputs": [
    {
     "data": {
      "text/plain": [
       "(805091, 7)"
      ]
     },
     "execution_count": 52,
     "metadata": {},
     "output_type": "execute_result"
    }
   ],
   "source": [
    "matrix.shape"
   ]
  },
  {
   "cell_type": "code",
   "execution_count": 33,
   "metadata": {},
   "outputs": [
    {
     "data": {
      "text/plain": [
       "58.03832411766052"
      ]
     },
     "execution_count": 33,
     "metadata": {},
     "output_type": "execute_result"
    }
   ],
   "source": [
    "ts = time.time()\n",
    "_filtered = _grouped['date_block_num'].filter(lambda x: x.count() > 3)\n",
    "\n",
    "time.time() - ts"
   ]
  },
  {
   "cell_type": "code",
   "execution_count": 68,
   "metadata": {},
   "outputs": [],
   "source": [
    "counted = matrix.groupby(['shop_id', 'item_id'])['date_block_num'].count()"
   ]
  },
  {
   "cell_type": "code",
   "execution_count": 71,
   "metadata": {},
   "outputs": [
    {
     "data": {
      "text/html": [
       "<div>\n",
       "<style scoped>\n",
       "    .dataframe tbody tr th:only-of-type {\n",
       "        vertical-align: middle;\n",
       "    }\n",
       "\n",
       "    .dataframe tbody tr th {\n",
       "        vertical-align: top;\n",
       "    }\n",
       "\n",
       "    .dataframe thead th {\n",
       "        text-align: right;\n",
       "    }\n",
       "</style>\n",
       "<table border=\"1\" class=\"dataframe\">\n",
       "  <thead>\n",
       "    <tr style=\"text-align: right;\">\n",
       "      <th></th>\n",
       "      <th>date_block_num</th>\n",
       "      <th>shop_id</th>\n",
       "      <th>item_id</th>\n",
       "      <th>item_cnt_month</th>\n",
       "      <th>previous_block_num</th>\n",
       "      <th>block_num_diff</th>\n",
       "      <th>previous_sales</th>\n",
       "    </tr>\n",
       "  </thead>\n",
       "  <tbody>\n",
       "    <tr>\n",
       "      <th>210755</th>\n",
       "      <td>3</td>\n",
       "      <td>28</td>\n",
       "      <td>20949</td>\n",
       "      <td>7.0</td>\n",
       "      <td>0</td>\n",
       "      <td>3</td>\n",
       "      <td>0.0</td>\n",
       "    </tr>\n",
       "    <tr>\n",
       "      <th>264523</th>\n",
       "      <td>4</td>\n",
       "      <td>28</td>\n",
       "      <td>20949</td>\n",
       "      <td>504.0</td>\n",
       "      <td>3</td>\n",
       "      <td>1</td>\n",
       "      <td>7.0</td>\n",
       "    </tr>\n",
       "    <tr>\n",
       "      <th>319094</th>\n",
       "      <td>5</td>\n",
       "      <td>28</td>\n",
       "      <td>20949</td>\n",
       "      <td>634.0</td>\n",
       "      <td>4</td>\n",
       "      <td>1</td>\n",
       "      <td>504.0</td>\n",
       "    </tr>\n",
       "    <tr>\n",
       "      <th>377258</th>\n",
       "      <td>6</td>\n",
       "      <td>28</td>\n",
       "      <td>20949</td>\n",
       "      <td>540.0</td>\n",
       "      <td>5</td>\n",
       "      <td>1</td>\n",
       "      <td>634.0</td>\n",
       "    </tr>\n",
       "    <tr>\n",
       "      <th>435137</th>\n",
       "      <td>7</td>\n",
       "      <td>28</td>\n",
       "      <td>20949</td>\n",
       "      <td>641.0</td>\n",
       "      <td>6</td>\n",
       "      <td>1</td>\n",
       "      <td>540.0</td>\n",
       "    </tr>\n",
       "    <tr>\n",
       "      <th>490170</th>\n",
       "      <td>8</td>\n",
       "      <td>28</td>\n",
       "      <td>20949</td>\n",
       "      <td>584.0</td>\n",
       "      <td>7</td>\n",
       "      <td>1</td>\n",
       "      <td>641.0</td>\n",
       "    </tr>\n",
       "    <tr>\n",
       "      <th>542043</th>\n",
       "      <td>9</td>\n",
       "      <td>28</td>\n",
       "      <td>20949</td>\n",
       "      <td>430.0</td>\n",
       "      <td>8</td>\n",
       "      <td>1</td>\n",
       "      <td>584.0</td>\n",
       "    </tr>\n",
       "    <tr>\n",
       "      <th>592752</th>\n",
       "      <td>10</td>\n",
       "      <td>28</td>\n",
       "      <td>20949</td>\n",
       "      <td>568.0</td>\n",
       "      <td>9</td>\n",
       "      <td>1</td>\n",
       "      <td>430.0</td>\n",
       "    </tr>\n",
       "    <tr>\n",
       "      <th>651307</th>\n",
       "      <td>11</td>\n",
       "      <td>28</td>\n",
       "      <td>20949</td>\n",
       "      <td>759.0</td>\n",
       "      <td>10</td>\n",
       "      <td>1</td>\n",
       "      <td>568.0</td>\n",
       "    </tr>\n",
       "    <tr>\n",
       "      <th>711326</th>\n",
       "      <td>12</td>\n",
       "      <td>28</td>\n",
       "      <td>20949</td>\n",
       "      <td>552.0</td>\n",
       "      <td>11</td>\n",
       "      <td>1</td>\n",
       "      <td>759.0</td>\n",
       "    </tr>\n",
       "    <tr>\n",
       "      <th>762457</th>\n",
       "      <td>13</td>\n",
       "      <td>28</td>\n",
       "      <td>20949</td>\n",
       "      <td>500.0</td>\n",
       "      <td>12</td>\n",
       "      <td>1</td>\n",
       "      <td>552.0</td>\n",
       "    </tr>\n",
       "    <tr>\n",
       "      <th>809862</th>\n",
       "      <td>14</td>\n",
       "      <td>28</td>\n",
       "      <td>20949</td>\n",
       "      <td>530.0</td>\n",
       "      <td>13</td>\n",
       "      <td>1</td>\n",
       "      <td>500.0</td>\n",
       "    </tr>\n",
       "    <tr>\n",
       "      <th>857256</th>\n",
       "      <td>15</td>\n",
       "      <td>28</td>\n",
       "      <td>20949</td>\n",
       "      <td>444.0</td>\n",
       "      <td>14</td>\n",
       "      <td>1</td>\n",
       "      <td>530.0</td>\n",
       "    </tr>\n",
       "    <tr>\n",
       "      <th>902187</th>\n",
       "      <td>16</td>\n",
       "      <td>28</td>\n",
       "      <td>20949</td>\n",
       "      <td>441.0</td>\n",
       "      <td>15</td>\n",
       "      <td>1</td>\n",
       "      <td>444.0</td>\n",
       "    </tr>\n",
       "    <tr>\n",
       "      <th>948367</th>\n",
       "      <td>17</td>\n",
       "      <td>28</td>\n",
       "      <td>20949</td>\n",
       "      <td>579.0</td>\n",
       "      <td>16</td>\n",
       "      <td>1</td>\n",
       "      <td>441.0</td>\n",
       "    </tr>\n",
       "    <tr>\n",
       "      <th>994178</th>\n",
       "      <td>18</td>\n",
       "      <td>28</td>\n",
       "      <td>20949</td>\n",
       "      <td>423.0</td>\n",
       "      <td>17</td>\n",
       "      <td>1</td>\n",
       "      <td>579.0</td>\n",
       "    </tr>\n",
       "    <tr>\n",
       "      <th>1039877</th>\n",
       "      <td>19</td>\n",
       "      <td>28</td>\n",
       "      <td>20949</td>\n",
       "      <td>493.0</td>\n",
       "      <td>18</td>\n",
       "      <td>1</td>\n",
       "      <td>423.0</td>\n",
       "    </tr>\n",
       "    <tr>\n",
       "      <th>1083490</th>\n",
       "      <td>20</td>\n",
       "      <td>28</td>\n",
       "      <td>20949</td>\n",
       "      <td>415.0</td>\n",
       "      <td>19</td>\n",
       "      <td>1</td>\n",
       "      <td>493.0</td>\n",
       "    </tr>\n",
       "    <tr>\n",
       "      <th>1125522</th>\n",
       "      <td>21</td>\n",
       "      <td>28</td>\n",
       "      <td>20949</td>\n",
       "      <td>422.0</td>\n",
       "      <td>20</td>\n",
       "      <td>1</td>\n",
       "      <td>415.0</td>\n",
       "    </tr>\n",
       "    <tr>\n",
       "      <th>1168723</th>\n",
       "      <td>22</td>\n",
       "      <td>28</td>\n",
       "      <td>20949</td>\n",
       "      <td>498.0</td>\n",
       "      <td>21</td>\n",
       "      <td>1</td>\n",
       "      <td>422.0</td>\n",
       "    </tr>\n",
       "    <tr>\n",
       "      <th>1220873</th>\n",
       "      <td>23</td>\n",
       "      <td>28</td>\n",
       "      <td>20949</td>\n",
       "      <td>739.0</td>\n",
       "      <td>22</td>\n",
       "      <td>1</td>\n",
       "      <td>498.0</td>\n",
       "    </tr>\n",
       "    <tr>\n",
       "      <th>1274080</th>\n",
       "      <td>24</td>\n",
       "      <td>28</td>\n",
       "      <td>20949</td>\n",
       "      <td>627.0</td>\n",
       "      <td>23</td>\n",
       "      <td>1</td>\n",
       "      <td>739.0</td>\n",
       "    </tr>\n",
       "    <tr>\n",
       "      <th>1319183</th>\n",
       "      <td>25</td>\n",
       "      <td>28</td>\n",
       "      <td>20949</td>\n",
       "      <td>45.0</td>\n",
       "      <td>24</td>\n",
       "      <td>1</td>\n",
       "      <td>627.0</td>\n",
       "    </tr>\n",
       "    <tr>\n",
       "      <th>1360179</th>\n",
       "      <td>26</td>\n",
       "      <td>28</td>\n",
       "      <td>20949</td>\n",
       "      <td>77.0</td>\n",
       "      <td>25</td>\n",
       "      <td>1</td>\n",
       "      <td>45.0</td>\n",
       "    </tr>\n",
       "    <tr>\n",
       "      <th>1398209</th>\n",
       "      <td>27</td>\n",
       "      <td>28</td>\n",
       "      <td>20949</td>\n",
       "      <td>320.0</td>\n",
       "      <td>26</td>\n",
       "      <td>1</td>\n",
       "      <td>77.0</td>\n",
       "    </tr>\n",
       "    <tr>\n",
       "      <th>1430918</th>\n",
       "      <td>28</td>\n",
       "      <td>28</td>\n",
       "      <td>20949</td>\n",
       "      <td>309.0</td>\n",
       "      <td>27</td>\n",
       "      <td>1</td>\n",
       "      <td>320.0</td>\n",
       "    </tr>\n",
       "    <tr>\n",
       "      <th>1463297</th>\n",
       "      <td>29</td>\n",
       "      <td>28</td>\n",
       "      <td>20949</td>\n",
       "      <td>328.0</td>\n",
       "      <td>28</td>\n",
       "      <td>1</td>\n",
       "      <td>309.0</td>\n",
       "    </tr>\n",
       "    <tr>\n",
       "      <th>1495485</th>\n",
       "      <td>30</td>\n",
       "      <td>28</td>\n",
       "      <td>20949</td>\n",
       "      <td>299.0</td>\n",
       "      <td>29</td>\n",
       "      <td>1</td>\n",
       "      <td>328.0</td>\n",
       "    </tr>\n",
       "    <tr>\n",
       "      <th>1528312</th>\n",
       "      <td>31</td>\n",
       "      <td>28</td>\n",
       "      <td>20949</td>\n",
       "      <td>284.0</td>\n",
       "      <td>30</td>\n",
       "      <td>1</td>\n",
       "      <td>299.0</td>\n",
       "    </tr>\n",
       "    <tr>\n",
       "      <th>1560531</th>\n",
       "      <td>32</td>\n",
       "      <td>28</td>\n",
       "      <td>20949</td>\n",
       "      <td>237.0</td>\n",
       "      <td>31</td>\n",
       "      <td>1</td>\n",
       "      <td>284.0</td>\n",
       "    </tr>\n",
       "    <tr>\n",
       "      <th>1591790</th>\n",
       "      <td>33</td>\n",
       "      <td>28</td>\n",
       "      <td>20949</td>\n",
       "      <td>229.0</td>\n",
       "      <td>32</td>\n",
       "      <td>1</td>\n",
       "      <td>237.0</td>\n",
       "    </tr>\n",
       "    <tr>\n",
       "      <th>1704943</th>\n",
       "      <td>34</td>\n",
       "      <td>28</td>\n",
       "      <td>20949</td>\n",
       "      <td>0.0</td>\n",
       "      <td>33</td>\n",
       "      <td>1</td>\n",
       "      <td>229.0</td>\n",
       "    </tr>\n",
       "  </tbody>\n",
       "</table>\n",
       "</div>"
      ],
      "text/plain": [
       "         date_block_num  shop_id  item_id  item_cnt_month  previous_block_num  \\\n",
       "210755                3       28    20949             7.0                   0   \n",
       "264523                4       28    20949           504.0                   3   \n",
       "319094                5       28    20949           634.0                   4   \n",
       "377258                6       28    20949           540.0                   5   \n",
       "435137                7       28    20949           641.0                   6   \n",
       "490170                8       28    20949           584.0                   7   \n",
       "542043                9       28    20949           430.0                   8   \n",
       "592752               10       28    20949           568.0                   9   \n",
       "651307               11       28    20949           759.0                  10   \n",
       "711326               12       28    20949           552.0                  11   \n",
       "762457               13       28    20949           500.0                  12   \n",
       "809862               14       28    20949           530.0                  13   \n",
       "857256               15       28    20949           444.0                  14   \n",
       "902187               16       28    20949           441.0                  15   \n",
       "948367               17       28    20949           579.0                  16   \n",
       "994178               18       28    20949           423.0                  17   \n",
       "1039877              19       28    20949           493.0                  18   \n",
       "1083490              20       28    20949           415.0                  19   \n",
       "1125522              21       28    20949           422.0                  20   \n",
       "1168723              22       28    20949           498.0                  21   \n",
       "1220873              23       28    20949           739.0                  22   \n",
       "1274080              24       28    20949           627.0                  23   \n",
       "1319183              25       28    20949            45.0                  24   \n",
       "1360179              26       28    20949            77.0                  25   \n",
       "1398209              27       28    20949           320.0                  26   \n",
       "1430918              28       28    20949           309.0                  27   \n",
       "1463297              29       28    20949           328.0                  28   \n",
       "1495485              30       28    20949           299.0                  29   \n",
       "1528312              31       28    20949           284.0                  30   \n",
       "1560531              32       28    20949           237.0                  31   \n",
       "1591790              33       28    20949           229.0                  32   \n",
       "1704943              34       28    20949             0.0                  33   \n",
       "\n",
       "         block_num_diff  previous_sales  \n",
       "210755                3             0.0  \n",
       "264523                1             7.0  \n",
       "319094                1           504.0  \n",
       "377258                1           634.0  \n",
       "435137                1           540.0  \n",
       "490170                1           641.0  \n",
       "542043                1           584.0  \n",
       "592752                1           430.0  \n",
       "651307                1           568.0  \n",
       "711326                1           759.0  \n",
       "762457                1           552.0  \n",
       "809862                1           500.0  \n",
       "857256                1           530.0  \n",
       "902187                1           444.0  \n",
       "948367                1           441.0  \n",
       "994178                1           579.0  \n",
       "1039877               1           423.0  \n",
       "1083490               1           493.0  \n",
       "1125522               1           415.0  \n",
       "1168723               1           422.0  \n",
       "1220873               1           498.0  \n",
       "1274080               1           739.0  \n",
       "1319183               1           627.0  \n",
       "1360179               1            45.0  \n",
       "1398209               1            77.0  \n",
       "1430918               1           320.0  \n",
       "1463297               1           309.0  \n",
       "1495485               1           328.0  \n",
       "1528312               1           299.0  \n",
       "1560531               1           284.0  \n",
       "1591790               1           237.0  \n",
       "1704943               1           229.0  "
      ]
     },
     "execution_count": 71,
     "metadata": {},
     "output_type": "execute_result"
    }
   ],
   "source": [
    "matrix[(matrix['shop_id'] == 28) & (matrix['item_id'] == 20949)]"
   ]
  },
  {
   "cell_type": "raw",
   "metadata": {},
   "source": [
    "filtered = counted[counted > 1]"
   ]
  },
  {
   "cell_type": "code",
   "execution_count": 69,
   "metadata": {},
   "outputs": [
    {
     "data": {
      "text/plain": [
       "(137895,)"
      ]
     },
     "execution_count": 69,
     "metadata": {},
     "output_type": "execute_result"
    }
   ],
   "source": [
    "filtered.shape"
   ]
  },
  {
   "cell_type": "code",
   "execution_count": 70,
   "metadata": {},
   "outputs": [
    {
     "data": {
      "text/plain": [
       "count    137895.000000\n",
       "mean          5.068995\n",
       "std           4.603767\n",
       "min           2.000000\n",
       "25%           2.000000\n",
       "50%           3.000000\n",
       "75%           6.000000\n",
       "max          35.000000\n",
       "Name: date_block_num, dtype: float64"
      ]
     },
     "execution_count": 70,
     "metadata": {},
     "output_type": "execute_result"
    }
   ],
   "source": [
    "filtered.describe()"
   ]
  },
  {
   "cell_type": "code",
   "execution_count": 34,
   "metadata": {},
   "outputs": [],
   "source": [
    "xs = [i for i in range(34)]"
   ]
  },
  {
   "cell_type": "code",
   "execution_count": 66,
   "metadata": {
    "scrolled": true
   },
   "outputs": [
    {
     "data": {
      "text/plain": [
       "<matplotlib.axes._subplots.AxesSubplot at 0x29582419c48>"
      ]
     },
     "execution_count": 66,
     "metadata": {},
     "output_type": "execute_result"
    },
    {
     "data": {
      "image/png": "[encoded data removed]",
      "text/plain": [
       "<Figure size 1152x648 with 1 Axes>"
      ]
     },
     "metadata": {
      "needs_background": "light"
     },
     "output_type": "display_data"
    }
   ],
   "source": [
    "pd.value_counts(filtered).plot.bar(figsize=(16, 9), x=xs, xticks=xs, rot=0)"
   ]
  },
  {
   "cell_type": "code",
   "execution_count": 63,
   "metadata": {},
   "outputs": [
    {
     "data": {
      "text/html": [
       "<div>\n",
       "<style scoped>\n",
       "    .dataframe tbody tr th:only-of-type {\n",
       "        vertical-align: middle;\n",
       "    }\n",
       "\n",
       "    .dataframe tbody tr th {\n",
       "        vertical-align: top;\n",
       "    }\n",
       "\n",
       "    .dataframe thead th {\n",
       "        text-align: right;\n",
       "    }\n",
       "</style>\n",
       "<table border=\"1\" class=\"dataframe\">\n",
       "  <thead>\n",
       "    <tr style=\"text-align: right;\">\n",
       "      <th></th>\n",
       "      <th></th>\n",
       "      <th>date</th>\n",
       "      <th>date_block_num</th>\n",
       "      <th>item_price</th>\n",
       "      <th>item_cnt_day</th>\n",
       "      <th>previous_block_num</th>\n",
       "      <th>block_num_diff</th>\n",
       "    </tr>\n",
       "    <tr>\n",
       "      <th>shop_id</th>\n",
       "      <th>item_id</th>\n",
       "      <th></th>\n",
       "      <th></th>\n",
       "      <th></th>\n",
       "      <th></th>\n",
       "      <th></th>\n",
       "      <th></th>\n",
       "    </tr>\n",
       "  </thead>\n",
       "  <tbody>\n",
       "    <tr>\n",
       "      <th rowspan=\"5\" valign=\"top\">2</th>\n",
       "      <th>27</th>\n",
       "      <td>1</td>\n",
       "      <td>1</td>\n",
       "      <td>1</td>\n",
       "      <td>1</td>\n",
       "      <td>1</td>\n",
       "      <td>1</td>\n",
       "    </tr>\n",
       "    <tr>\n",
       "      <th>30</th>\n",
       "      <td>1</td>\n",
       "      <td>1</td>\n",
       "      <td>1</td>\n",
       "      <td>1</td>\n",
       "      <td>1</td>\n",
       "      <td>1</td>\n",
       "    </tr>\n",
       "    <tr>\n",
       "      <th>31</th>\n",
       "      <td>7</td>\n",
       "      <td>7</td>\n",
       "      <td>7</td>\n",
       "      <td>7</td>\n",
       "      <td>7</td>\n",
       "      <td>7</td>\n",
       "    </tr>\n",
       "    <tr>\n",
       "      <th>32</th>\n",
       "      <td>4</td>\n",
       "      <td>4</td>\n",
       "      <td>4</td>\n",
       "      <td>4</td>\n",
       "      <td>4</td>\n",
       "      <td>4</td>\n",
       "    </tr>\n",
       "    <tr>\n",
       "      <th>33</th>\n",
       "      <td>5</td>\n",
       "      <td>5</td>\n",
       "      <td>5</td>\n",
       "      <td>5</td>\n",
       "      <td>5</td>\n",
       "      <td>5</td>\n",
       "    </tr>\n",
       "    <tr>\n",
       "      <th>...</th>\n",
       "      <th>...</th>\n",
       "      <td>...</td>\n",
       "      <td>...</td>\n",
       "      <td>...</td>\n",
       "      <td>...</td>\n",
       "      <td>...</td>\n",
       "      <td>...</td>\n",
       "    </tr>\n",
       "    <tr>\n",
       "      <th rowspan=\"5\" valign=\"top\">59</th>\n",
       "      <th>22151</th>\n",
       "      <td>2</td>\n",
       "      <td>2</td>\n",
       "      <td>2</td>\n",
       "      <td>2</td>\n",
       "      <td>2</td>\n",
       "      <td>2</td>\n",
       "    </tr>\n",
       "    <tr>\n",
       "      <th>22154</th>\n",
       "      <td>1</td>\n",
       "      <td>1</td>\n",
       "      <td>1</td>\n",
       "      <td>1</td>\n",
       "      <td>1</td>\n",
       "      <td>1</td>\n",
       "    </tr>\n",
       "    <tr>\n",
       "      <th>22162</th>\n",
       "      <td>14</td>\n",
       "      <td>14</td>\n",
       "      <td>14</td>\n",
       "      <td>14</td>\n",
       "      <td>14</td>\n",
       "      <td>14</td>\n",
       "    </tr>\n",
       "    <tr>\n",
       "      <th>22164</th>\n",
       "      <td>4</td>\n",
       "      <td>4</td>\n",
       "      <td>4</td>\n",
       "      <td>4</td>\n",
       "      <td>4</td>\n",
       "      <td>4</td>\n",
       "    </tr>\n",
       "    <tr>\n",
       "      <th>22167</th>\n",
       "      <td>1</td>\n",
       "      <td>1</td>\n",
       "      <td>1</td>\n",
       "      <td>1</td>\n",
       "      <td>1</td>\n",
       "      <td>1</td>\n",
       "    </tr>\n",
       "  </tbody>\n",
       "</table>\n",
       "<p>271658 rows × 6 columns</p>\n",
       "</div>"
      ],
      "text/plain": [
       "                 date  date_block_num  item_price  item_cnt_day  \\\n",
       "shop_id item_id                                                   \n",
       "2       27          1               1           1             1   \n",
       "        30          1               1           1             1   \n",
       "        31          7               7           7             7   \n",
       "        32          4               4           4             4   \n",
       "        33          5               5           5             5   \n",
       "...               ...             ...         ...           ...   \n",
       "59      22151       2               2           2             2   \n",
       "        22154       1               1           1             1   \n",
       "        22162      14              14          14            14   \n",
       "        22164       4               4           4             4   \n",
       "        22167       1               1           1             1   \n",
       "\n",
       "                 previous_block_num  block_num_diff  \n",
       "shop_id item_id                                      \n",
       "2       27                        1               1  \n",
       "        30                        1               1  \n",
       "        31                        7               7  \n",
       "        32                        4               4  \n",
       "        33                        5               5  \n",
       "...                             ...             ...  \n",
       "59      22151                     2               2  \n",
       "        22154                     1               1  \n",
       "        22162                    14              14  \n",
       "        22164                     4               4  \n",
       "        22167                     1               1  \n",
       "\n",
       "[271658 rows x 6 columns]"
      ]
     },
     "execution_count": 63,
     "metadata": {},
     "output_type": "execute_result"
    }
   ],
   "source": [
    "counted"
   ]
  },
  {
   "cell_type": "code",
   "execution_count": 34,
   "metadata": {},
   "outputs": [
    {
     "data": {
      "text/plain": [
       "1           0\n",
       "7           0\n",
       "8           0\n",
       "9           0\n",
       "10          0\n",
       "           ..\n",
       "3150036    34\n",
       "3150042    34\n",
       "3150044    34\n",
       "3150046    34\n",
       "3150048    34\n",
       "Name: date_block_num, Length: 2649793, dtype: uint8"
      ]
     },
     "execution_count": 34,
     "metadata": {},
     "output_type": "execute_result"
    }
   ],
   "source": [
    "_filtered"
   ]
  },
  {
   "cell_type": "code",
   "execution_count": null,
   "metadata": {},
   "outputs": [],
   "source": []
  }
 ],
 "metadata": {
  "kernelspec": {
   "display_name": "Python 3",
   "language": "python",
   "name": "python3"
  },
  "language_info": {
   "codemirror_mode": {
    "name": "ipython",
    "version": 3
   },
   "file_extension": ".py",
   "mimetype": "text/x-python",
   "name": "python",
   "nbconvert_exporter": "python",
   "pygments_lexer": "ipython3",
   "version": "3.7.6"
  }
 },
 "nbformat": 4,
 "nbformat_minor": 4
}
