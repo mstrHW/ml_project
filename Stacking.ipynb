{
 "cells": [
  {
   "cell_type": "code",
   "execution_count": 1,
   "metadata": {},
   "outputs": [],
   "source": [
    "import os"
   ]
  },
  {
   "cell_type": "code",
   "execution_count": 2,
   "metadata": {},
   "outputs": [],
   "source": [
    "trained_models_dir = 'trained_models_dir'\n",
    "trained_models_dir = trained_models_dir + '/lgb'\n",
    "if not os.path.exists(trained_models_dir):\n",
    "    os.makedirs(trained_models_dir)"
   ]
  },
  {
   "cell_type": "code",
   "execution_count": 3,
   "metadata": {},
   "outputs": [],
   "source": [
    "search_results = []\n",
    "search_results_file = os.path.join(trained_models_dir, 'search_results.json')"
   ]
  },
  {
   "cell_type": "code",
   "execution_count": 4,
   "metadata": {},
   "outputs": [],
   "source": [
    "import json"
   ]
  },
  {
   "cell_type": "code",
   "execution_count": 5,
   "metadata": {},
   "outputs": [],
   "source": [
    "with open(search_results_file, 'r') as file:\n",
    "    search_results = json.load(file)"
   ]
  },
  {
   "cell_type": "code",
   "execution_count": 6,
   "metadata": {},
   "outputs": [],
   "source": [
    "val_scores = [record['scores']['val'] for record in search_results]\n",
    "sorted_scores = sorted(val_scores)"
   ]
  },
  {
   "cell_type": "code",
   "execution_count": 7,
   "metadata": {},
   "outputs": [],
   "source": [
    "import pandas as pd"
   ]
  },
  {
   "cell_type": "code",
   "execution_count": 8,
   "metadata": {},
   "outputs": [],
   "source": [
    "_train_data = pd.read_pickle('D:/ml_data/pd_data_train.pkl')\n",
    "_valid_data = pd.read_pickle('D:/ml_data/pd_data_valid.pkl')\n",
    "_test_data = pd.read_pickle('D:/ml_data/pd_data_test.pkl')"
   ]
  },
  {
   "cell_type": "code",
   "execution_count": 9,
   "metadata": {},
   "outputs": [],
   "source": [
    "def get_X_y(data):\n",
    "    #     data = data[data.date_block_num > 11]\n",
    "    X = data.drop(['date_block_num', 'item_cnt_month', 'shop_id', 'item_id'], axis=1)\n",
    "    y = data['item_cnt_month']\n",
    "    return X, y"
   ]
  },
  {
   "cell_type": "code",
   "execution_count": 10,
   "metadata": {},
   "outputs": [],
   "source": [
    "train_X, train_y = get_X_y(_train_data)\n",
    "valid_X, valid_y = get_X_y(_valid_data)\n",
    "test_X, test_y = get_X_y(_test_data)\n",
    "\n",
    "del _train_data\n",
    "del _valid_data\n",
    "del _test_data"
   ]
  },
  {
   "cell_type": "code",
   "execution_count": 11,
   "metadata": {},
   "outputs": [],
   "source": [
    "from tqdm.notebook import tqdm"
   ]
  },
  {
   "cell_type": "code",
   "execution_count": 12,
   "metadata": {},
   "outputs": [],
   "source": [
    "import lightgbm as lgb"
   ]
  },
  {
   "cell_type": "code",
   "execution_count": 13,
   "metadata": {},
   "outputs": [
    {
     "data": {
      "application/vnd.jupyter.widget-view+json": {
       "model_id": "815db7e9ee4e47fca75260328a9b7700",
       "version_major": 2,
       "version_minor": 0
      },
      "text/plain": [
       "HBox(children=(FloatProgress(value=0.0, max=15.0), HTML(value='')))"
      ]
     },
     "metadata": {},
     "output_type": "display_data"
    },
    {
     "name": "stdout",
     "output_type": "stream",
     "text": [
      "\n"
     ]
    }
   ],
   "source": [
    "train_preds = []\n",
    "valid_preds = []\n",
    "test_preds = []\n",
    "\n",
    "for i in tqdm(range(15)):\n",
    "    min_value = sorted_scores[i]\n",
    "    min_index = val_scores.index(min_value)\n",
    "    \n",
    "    best_model = search_results[min_index]\n",
    "    \n",
    "    bst = lgb.Booster(model_file=os.path.join(best_model['model_path'], 'lgb_model_filtered.txt'))\n",
    "    train_pred = bst.predict(train_X)\n",
    "    valid_pred = bst.predict(valid_X)\n",
    "    test_pred = bst.predict(test_X)\n",
    "    \n",
    "    train_preds.append(train_pred)\n",
    "    valid_preds.append(valid_pred)\n",
    "    test_preds.append(test_pred)\n",
    "    "
   ]
  },
  {
   "cell_type": "code",
   "execution_count": 14,
   "metadata": {},
   "outputs": [],
   "source": [
    "def reshape_preds(preds):\n",
    "    for i, pred in enumerate(preds):\n",
    "        pred = pred.reshape(pred.shape[0], 1)\n",
    "        preds[i] = pred\n",
    "\n",
    "    for pred in preds:\n",
    "        print(pred.shape)\n",
    "    \n",
    "    return preds"
   ]
  },
  {
   "cell_type": "code",
   "execution_count": 15,
   "metadata": {},
   "outputs": [
    {
     "name": "stdout",
     "output_type": "stream",
     "text": [
      "(4777260, 1)\n",
      "(4777260, 1)\n",
      "(4777260, 1)\n",
      "(4777260, 1)\n",
      "(4777260, 1)\n",
      "(4777260, 1)\n",
      "(4777260, 1)\n",
      "(4777260, 1)\n",
      "(4777260, 1)\n",
      "(4777260, 1)\n",
      "(4777260, 1)\n",
      "(4777260, 1)\n",
      "(4777260, 1)\n",
      "(4777260, 1)\n",
      "(4777260, 1)\n"
     ]
    }
   ],
   "source": [
    "train_preds = reshape_preds(train_preds)"
   ]
  },
  {
   "cell_type": "code",
   "execution_count": 16,
   "metadata": {},
   "outputs": [
    {
     "name": "stdout",
     "output_type": "stream",
     "text": [
      "(238172, 1)\n",
      "(238172, 1)\n",
      "(238172, 1)\n",
      "(238172, 1)\n",
      "(238172, 1)\n",
      "(238172, 1)\n",
      "(238172, 1)\n",
      "(238172, 1)\n",
      "(238172, 1)\n",
      "(238172, 1)\n",
      "(238172, 1)\n",
      "(238172, 1)\n",
      "(238172, 1)\n",
      "(238172, 1)\n",
      "(238172, 1)\n",
      "(214200, 1)\n",
      "(214200, 1)\n",
      "(214200, 1)\n",
      "(214200, 1)\n",
      "(214200, 1)\n",
      "(214200, 1)\n",
      "(214200, 1)\n",
      "(214200, 1)\n",
      "(214200, 1)\n",
      "(214200, 1)\n",
      "(214200, 1)\n",
      "(214200, 1)\n",
      "(214200, 1)\n",
      "(214200, 1)\n",
      "(214200, 1)\n"
     ]
    }
   ],
   "source": [
    "valid_preds = reshape_preds(valid_preds)\n",
    "test_preds = reshape_preds(test_preds)"
   ]
  },
  {
   "cell_type": "code",
   "execution_count": 17,
   "metadata": {},
   "outputs": [],
   "source": [
    "import numpy as np"
   ]
  },
  {
   "cell_type": "code",
   "execution_count": 18,
   "metadata": {},
   "outputs": [],
   "source": [
    "train_data = np.concatenate(train_preds, axis=1)"
   ]
  },
  {
   "cell_type": "code",
   "execution_count": 19,
   "metadata": {},
   "outputs": [],
   "source": [
    "valid_data = np.concatenate(valid_preds, axis=1)\n",
    "test_data = np.concatenate(test_preds, axis=1)"
   ]
  },
  {
   "cell_type": "code",
   "execution_count": 20,
   "metadata": {},
   "outputs": [],
   "source": [
    "from lightgbm import LGBMRegressor"
   ]
  },
  {
   "cell_type": "code",
   "execution_count": 32,
   "metadata": {},
   "outputs": [
    {
     "name": "stdout",
     "output_type": "stream",
     "text": [
      "[1]\ttraining's rmse: 1.38997\ttraining's l2: 1.93202\tvalid_1's rmse: 1.09678\tvalid_1's l2: 1.20292\n",
      "Training until validation scores don't improve for 10 rounds\n",
      "[2]\ttraining's rmse: 1.33279\ttraining's l2: 1.77634\tvalid_1's rmse: 1.06079\tvalid_1's l2: 1.12527\n",
      "[3]\ttraining's rmse: 1.28445\ttraining's l2: 1.64981\tvalid_1's rmse: 1.03044\tvalid_1's l2: 1.06181\n",
      "[4]\ttraining's rmse: 1.24387\ttraining's l2: 1.5472\tvalid_1's rmse: 1.00585\tvalid_1's l2: 1.01173\n",
      "[5]\ttraining's rmse: 1.20982\ttraining's l2: 1.46368\tvalid_1's rmse: 0.985835\tvalid_1's l2: 0.971871\n",
      "[6]\ttraining's rmse: 1.18147\ttraining's l2: 1.39586\tvalid_1's rmse: 0.969727\tvalid_1's l2: 0.94037\n",
      "[7]\ttraining's rmse: 1.1579\ttraining's l2: 1.34073\tvalid_1's rmse: 0.956659\tvalid_1's l2: 0.915197\n",
      "[8]\ttraining's rmse: 1.13826\ttraining's l2: 1.29564\tvalid_1's rmse: 0.945966\tvalid_1's l2: 0.894852\n",
      "[9]\ttraining's rmse: 1.12212\ttraining's l2: 1.25916\tvalid_1's rmse: 0.937768\tvalid_1's l2: 0.879409\n",
      "[10]\ttraining's rmse: 1.1088\ttraining's l2: 1.22945\tvalid_1's rmse: 0.931235\tvalid_1's l2: 0.867198\n",
      "[11]\ttraining's rmse: 1.09779\ttraining's l2: 1.20514\tvalid_1's rmse: 0.926054\tvalid_1's l2: 0.857577\n",
      "[12]\ttraining's rmse: 1.08867\ttraining's l2: 1.1852\tvalid_1's rmse: 0.922099\tvalid_1's l2: 0.850267\n",
      "[13]\ttraining's rmse: 1.0812\ttraining's l2: 1.16899\tvalid_1's rmse: 0.919073\tvalid_1's l2: 0.844695\n",
      "[14]\ttraining's rmse: 1.07506\ttraining's l2: 1.15576\tvalid_1's rmse: 0.916674\tvalid_1's l2: 0.840291\n",
      "[15]\ttraining's rmse: 1.06998\ttraining's l2: 1.14485\tvalid_1's rmse: 0.914923\tvalid_1's l2: 0.837085\n",
      "[16]\ttraining's rmse: 1.06581\ttraining's l2: 1.13596\tvalid_1's rmse: 0.913563\tvalid_1's l2: 0.834597\n",
      "[17]\ttraining's rmse: 1.06236\ttraining's l2: 1.12862\tvalid_1's rmse: 0.912622\tvalid_1's l2: 0.832879\n",
      "[18]\ttraining's rmse: 1.05951\ttraining's l2: 1.12256\tvalid_1's rmse: 0.911911\tvalid_1's l2: 0.831582\n",
      "[19]\ttraining's rmse: 1.05713\ttraining's l2: 1.11753\tvalid_1's rmse: 0.911417\tvalid_1's l2: 0.830682\n",
      "[20]\ttraining's rmse: 1.05517\ttraining's l2: 1.11338\tvalid_1's rmse: 0.911207\tvalid_1's l2: 0.830297\n",
      "[21]\ttraining's rmse: 1.05348\ttraining's l2: 1.10983\tvalid_1's rmse: 0.911016\tvalid_1's l2: 0.829951\n",
      "[22]\ttraining's rmse: 1.05212\ttraining's l2: 1.10696\tvalid_1's rmse: 0.911097\tvalid_1's l2: 0.830098\n",
      "[23]\ttraining's rmse: 1.05098\ttraining's l2: 1.10456\tvalid_1's rmse: 0.91102\tvalid_1's l2: 0.829957\n",
      "[24]\ttraining's rmse: 1.05002\ttraining's l2: 1.10255\tvalid_1's rmse: 0.911023\tvalid_1's l2: 0.829962\n",
      "[25]\ttraining's rmse: 1.04917\ttraining's l2: 1.10075\tvalid_1's rmse: 0.911107\tvalid_1's l2: 0.830116\n",
      "[26]\ttraining's rmse: 1.04839\ttraining's l2: 1.09913\tvalid_1's rmse: 0.911142\tvalid_1's l2: 0.830179\n",
      "[27]\ttraining's rmse: 1.04775\ttraining's l2: 1.09779\tvalid_1's rmse: 0.911303\tvalid_1's l2: 0.830473\n",
      "[28]\ttraining's rmse: 1.04721\ttraining's l2: 1.09665\tvalid_1's rmse: 0.911491\tvalid_1's l2: 0.830815\n",
      "[29]\ttraining's rmse: 1.04674\ttraining's l2: 1.09566\tvalid_1's rmse: 0.911753\tvalid_1's l2: 0.831293\n",
      "[30]\ttraining's rmse: 1.04634\ttraining's l2: 1.09483\tvalid_1's rmse: 0.911809\tvalid_1's l2: 0.831396\n",
      "[31]\ttraining's rmse: 1.04598\ttraining's l2: 1.09407\tvalid_1's rmse: 0.912016\tvalid_1's l2: 0.831773\n",
      "Early stopping, best iteration is:\n",
      "[21]\ttraining's rmse: 1.05348\ttraining's l2: 1.10983\tvalid_1's rmse: 0.911016\tvalid_1's l2: 0.829951\n"
     ]
    },
    {
     "data": {
      "text/plain": [
       "LGBMRegressor(boosting_type='gbdt', class_weight=None, colsample_bytree=1.0,\n",
       "              importance_type='split', learning_rate=0.1, max_depth=-1,\n",
       "              min_child_samples=20, min_child_weight=0.001, min_split_gain=0.0,\n",
       "              n_estimators=100, n_jobs=-1, num_leaves=31, objective=None,\n",
       "              random_state=None, reg_alpha=0.0, reg_lambda=0.0, seed=123,\n",
       "              silent=True, subsample=1.0, subsample_for_bin=200000,\n",
       "              subsample_freq=0)"
      ]
     },
     "execution_count": 32,
     "metadata": {},
     "output_type": "execute_result"
    }
   ],
   "source": [
    "import xgboost as xgb\n",
    "# xgb_params = {\n",
    "#     'seed': 123,\n",
    "#     'colsample_bytree': 0.7,\n",
    "#     'silent': 1,\n",
    "#     'subsample': 0.7,\n",
    "#     'learning_rate': 0.075,\n",
    "#     'objective': 'binary:logistic',\n",
    "#     'max_depth': 4,\n",
    "#     'num_parallel_tree': 1,\n",
    "#     'min_child_weight': 1,\n",
    "#     'nrounds': 200\n",
    "# }\n",
    "# model = xgb.XGBRegressor(seed=123)\n",
    "model = LGBMRegressor(seed=123)\n",
    "\n",
    "model.fit(\n",
    "    train_data, \n",
    "    train_y, \n",
    "    eval_metric=\"rmse\", \n",
    "    eval_set=[(train_data, train_y), (valid_data, valid_y)], \n",
    "    verbose=True, \n",
    "    early_stopping_rounds=10,\n",
    ")"
   ]
  },
  {
   "cell_type": "code",
   "execution_count": 28,
   "metadata": {},
   "outputs": [],
   "source": [
    "from sklearn.metrics import mean_squared_error\n",
    "from math import sqrt\n",
    "\n",
    "def rmse_sklearn(y_actual, y_predicted):\n",
    "    return sqrt(mean_squared_error(y_actual, y_predicted))"
   ]
  },
  {
   "cell_type": "code",
   "execution_count": 31,
   "metadata": {},
   "outputs": [
    {
     "data": {
      "text/plain": [
       "1.0368996963181198"
      ]
     },
     "execution_count": 31,
     "metadata": {},
     "output_type": "execute_result"
    }
   ],
   "source": [
    "rmse_sklearn(train_y, model.predict(train_data))"
   ]
  },
  {
   "cell_type": "code",
   "execution_count": 29,
   "metadata": {},
   "outputs": [
    {
     "data": {
      "text/plain": [
       "0.9006118999007613"
      ]
     },
     "execution_count": 29,
     "metadata": {},
     "output_type": "execute_result"
    }
   ],
   "source": [
    "rmse_sklearn(valid_y, model.predict(valid_data))"
   ]
  },
  {
   "cell_type": "code",
   "execution_count": 30,
   "metadata": {},
   "outputs": [
    {
     "data": {
      "text/plain": [
       "0.8480768874035476"
      ]
     },
     "execution_count": 30,
     "metadata": {},
     "output_type": "execute_result"
    }
   ],
   "source": [
    "rmse_sklearn(test_y, model.predict(test_data))"
   ]
  },
  {
   "cell_type": "code",
   "execution_count": 24,
   "metadata": {},
   "outputs": [],
   "source": [
    "test_preds = model.predict(test_data)"
   ]
  },
  {
   "cell_type": "code",
   "execution_count": 25,
   "metadata": {},
   "outputs": [
    {
     "data": {
      "text/plain": [
       "array([0.6402179 , 0.40975285, 1.023922  , ..., 0.07356885, 0.05130315,\n",
       "       0.06615463], dtype=float32)"
      ]
     },
     "execution_count": 25,
     "metadata": {},
     "output_type": "execute_result"
    }
   ],
   "source": [
    "test_preds"
   ]
  },
  {
   "cell_type": "code",
   "execution_count": 26,
   "metadata": {},
   "outputs": [
    {
     "data": {
      "text/plain": [
       "(214200, 3)"
      ]
     },
     "execution_count": 26,
     "metadata": {},
     "output_type": "execute_result"
    }
   ],
   "source": [
    "from module.data.read_data import *\n",
    "\n",
    "test = test_file_processing().set_index('ID')\n",
    "test.shape"
   ]
  },
  {
   "cell_type": "code",
   "execution_count": 27,
   "metadata": {},
   "outputs": [],
   "source": [
    "import pickle\n",
    "\n",
    "submission = pd.DataFrame({\n",
    "    \"ID\": test.index, \n",
    "    \"item_cnt_month\": test_preds.clip(0, 20),\n",
    "})\n",
    "\n",
    "submission.to_csv('ensamble_submission.csv', index=False)\n",
    "pickle.dump(test_preds, open('ensamble_test.pickle', 'wb'))"
   ]
  },
  {
   "cell_type": "code",
   "execution_count": 33,
   "metadata": {},
   "outputs": [],
   "source": [
    "from sklearn.linear_model import LinearRegression"
   ]
  },
  {
   "cell_type": "code",
   "execution_count": 35,
   "metadata": {},
   "outputs": [
    {
     "data": {
      "text/plain": [
       "LinearRegression(copy_X=True, fit_intercept=True, n_jobs=None, normalize=False)"
      ]
     },
     "execution_count": 35,
     "metadata": {},
     "output_type": "execute_result"
    }
   ],
   "source": [
    "logistic_regression = LinearRegression()\n",
    "logistic_regression.fit(train_data, train_y)"
   ]
  },
  {
   "cell_type": "code",
   "execution_count": 36,
   "metadata": {},
   "outputs": [
    {
     "data": {
      "text/plain": [
       "1.0289852674014432"
      ]
     },
     "execution_count": 36,
     "metadata": {},
     "output_type": "execute_result"
    }
   ],
   "source": [
    "rmse_sklearn(train_y, logistic_regression.predict(train_data))"
   ]
  },
  {
   "cell_type": "code",
   "execution_count": 37,
   "metadata": {},
   "outputs": [
    {
     "data": {
      "text/plain": [
       "0.902103593832498"
      ]
     },
     "execution_count": 37,
     "metadata": {},
     "output_type": "execute_result"
    }
   ],
   "source": [
    "rmse_sklearn(valid_y, logistic_regression.predict(valid_data))"
   ]
  },
  {
   "cell_type": "code",
   "execution_count": 38,
   "metadata": {},
   "outputs": [
    {
     "data": {
      "text/plain": [
       "0.9156722806371645"
      ]
     },
     "execution_count": 38,
     "metadata": {},
     "output_type": "execute_result"
    }
   ],
   "source": [
    "rmse_sklearn(test_y, logistic_regression.predict(test_data))"
   ]
  },
  {
   "cell_type": "code",
   "execution_count": 39,
   "metadata": {},
   "outputs": [],
   "source": [
    "test_preds = logistic_regression.predict(test_data)"
   ]
  },
  {
   "cell_type": "code",
   "execution_count": 40,
   "metadata": {},
   "outputs": [
    {
     "data": {
      "text/plain": [
       "array([ 0.67985803,  0.40878188,  1.20240332, ...,  0.06233808,\n",
       "       -0.00574399,  0.04421888])"
      ]
     },
     "execution_count": 40,
     "metadata": {},
     "output_type": "execute_result"
    }
   ],
   "source": [
    "test_preds"
   ]
  },
  {
   "cell_type": "code",
   "execution_count": 41,
   "metadata": {},
   "outputs": [
    {
     "data": {
      "text/plain": [
       "(214200, 3)"
      ]
     },
     "execution_count": 41,
     "metadata": {},
     "output_type": "execute_result"
    }
   ],
   "source": [
    "from module.data.read_data import *\n",
    "\n",
    "test = test_file_processing().set_index('ID')\n",
    "test.shape"
   ]
  },
  {
   "cell_type": "code",
   "execution_count": 42,
   "metadata": {},
   "outputs": [],
   "source": [
    "import pickle\n",
    "\n",
    "submission = pd.DataFrame({\n",
    "    \"ID\": test.index, \n",
    "    \"item_cnt_month\": test_preds.clip(0, 20),\n",
    "})\n",
    "\n",
    "submission.to_csv('ensamble_submission.csv', index=False)\n",
    "pickle.dump(test_preds, open('ensamble_test.pickle', 'wb'))"
   ]
  },
  {
   "cell_type": "code",
   "execution_count": null,
   "metadata": {},
   "outputs": [],
   "source": []
  }
 ],
 "metadata": {
  "kernelspec": {
   "display_name": "Python 3",
   "language": "python",
   "name": "python3"
  },
  "language_info": {
   "codemirror_mode": {
    "name": "ipython",
    "version": 3
   },
   "file_extension": ".py",
   "mimetype": "text/x-python",
   "name": "python",
   "nbconvert_exporter": "python",
   "pygments_lexer": "ipython3",
   "version": "3.7.6"
  }
 },
 "nbformat": 4,
 "nbformat_minor": 4
}
