{
 "cells": [
  {
   "cell_type": "code",
   "execution_count": 1,
   "metadata": {},
   "outputs": [
    {
     "data": {
      "text/plain": [
       "sys.version_info(major=3, minor=7, micro=6, releaselevel='final', serial=0)"
      ]
     },
     "execution_count": 1,
     "metadata": {},
     "output_type": "execute_result"
    }
   ],
   "source": [
    "import numpy as np\n",
    "import pandas as pd\n",
    "pd.set_option('display.max_rows', 500)\n",
    "pd.set_option('display.max_columns', 100)\n",
    "\n",
    "from itertools import product\n",
    "from sklearn.preprocessing import LabelEncoder\n",
    "\n",
    "import seaborn as sns\n",
    "import matplotlib.pyplot as plt\n",
    "%matplotlib inline\n",
    "\n",
    "import time\n",
    "import sys\n",
    "import gc\n",
    "import pickle\n",
    "sys.version_info"
   ]
  },
  {
   "cell_type": "code",
   "execution_count": 2,
   "metadata": {},
   "outputs": [],
   "source": [
    "from module.data.read_data import *"
   ]
  },
  {
   "cell_type": "code",
   "execution_count": 3,
   "metadata": {},
   "outputs": [],
   "source": [
    "train = sales_file_processing()"
   ]
  },
  {
   "cell_type": "code",
   "execution_count": 4,
   "metadata": {},
   "outputs": [],
   "source": [
    "test = test_file_processing().set_index('ID')\n",
    "\n",
    "items = pd.read_csv(ITEMS_FILE)\n",
    "shops = shops_file_processing()\n",
    "cats = categories_file_processing()"
   ]
  },
  {
   "cell_type": "code",
   "execution_count": 5,
   "metadata": {},
   "outputs": [],
   "source": [
    "train = train[train.item_price<100000]\n",
    "train = train[train.item_cnt_day<1001]"
   ]
  },
  {
   "cell_type": "code",
   "execution_count": 6,
   "metadata": {},
   "outputs": [],
   "source": [
    "median = train[(train.shop_id==32)&(train.item_id==2973)&(train.date_block_num==4)&(train.item_price>0)].item_price.median()\n",
    "train.loc[train.item_price<0, 'item_price'] = median"
   ]
  },
  {
   "cell_type": "code",
   "execution_count": 7,
   "metadata": {},
   "outputs": [
    {
     "name": "stdout",
     "output_type": "stream",
     "text": [
      "<class 'pandas.core.frame.DataFrame'>\n",
      "Int64Index: 2935847 entries, 0 to 2935848\n",
      "Data columns (total 6 columns):\n",
      "date              object\n",
      "date_block_num    int64\n",
      "shop_id           int64\n",
      "item_id           int64\n",
      "item_price        float64\n",
      "item_cnt_day      float64\n",
      "dtypes: float64(2), int64(3), object(1)\n",
      "memory usage: 156.8+ MB\n"
     ]
    }
   ],
   "source": [
    "train.info()"
   ]
  },
  {
   "cell_type": "code",
   "execution_count": 8,
   "metadata": {},
   "outputs": [
    {
     "data": {
      "text/plain": [
       "1.6565687656402588"
      ]
     },
     "execution_count": 8,
     "metadata": {},
     "output_type": "execute_result"
    }
   ],
   "source": [
    "ts = time.time()\n",
    "cols = ['date_block_num','shop_id','item_id']\n",
    "group = train.groupby(cols).agg({'item_cnt_day': ['sum']})\n",
    "\n",
    "new_columns = ['item_cnt_month']\n",
    "group.columns = new_columns\n",
    "group.reset_index(inplace=True)\n",
    "group[new_columns] = group[new_columns].astype(np.float16)\n",
    "\n",
    "time.time() - ts"
   ]
  },
  {
   "cell_type": "code",
   "execution_count": 9,
   "metadata": {},
   "outputs": [
    {
     "data": {
      "text/plain": [
       "3.962399482727051"
      ]
     },
     "execution_count": 9,
     "metadata": {},
     "output_type": "execute_result"
    }
   ],
   "source": [
    "ts = time.time()\n",
    "cols = ['date_block_num','shop_id','item_id']\n",
    "group = train.groupby(cols).agg({'item_cnt_day': ['sum'], \n",
    "                                 'item_price': ['first', 'last', 'min', 'mean', 'max']})\n",
    "\n",
    "new_columns = ['item_cnt_month', 'item_price_open', 'item_price_close', 'item_price_min', 'item_price_mean', 'item_price_max']\n",
    "group.columns = new_columns\n",
    "group.reset_index(inplace=True)\n",
    "group[new_columns] = group[new_columns].astype(np.float16)\n",
    "\n",
    "time.time() - ts"
   ]
  },
  {
   "cell_type": "code",
   "execution_count": 10,
   "metadata": {},
   "outputs": [
    {
     "name": "stdout",
     "output_type": "stream",
     "text": [
      "<class 'pandas.core.frame.DataFrame'>\n",
      "RangeIndex: 1608271 entries, 0 to 1608270\n",
      "Data columns (total 9 columns):\n",
      "date_block_num      1608271 non-null int64\n",
      "shop_id             1608271 non-null int64\n",
      "item_id             1608271 non-null int64\n",
      "item_cnt_month      1608271 non-null float16\n",
      "item_price_open     1608271 non-null float16\n",
      "item_price_close    1608271 non-null float16\n",
      "item_price_min      1608271 non-null float16\n",
      "item_price_mean     1608271 non-null float16\n",
      "item_price_max      1608271 non-null float16\n",
      "dtypes: float16(6), int64(3)\n",
      "memory usage: 55.2 MB\n"
     ]
    }
   ],
   "source": [
    "group.info()"
   ]
  },
  {
   "cell_type": "code",
   "execution_count": 11,
   "metadata": {},
   "outputs": [
    {
     "data": {
      "text/plain": [
       "4737"
      ]
     },
     "execution_count": 11,
     "metadata": {},
     "output_type": "execute_result"
    }
   ],
   "source": [
    "item_ids = set(train['item_id'].unique())\n",
    "# item_ids.shape\n",
    "item_ids_test = set(test['item_id'].unique())\n",
    "# item_ids_test.shape\n",
    "len(item_ids & item_ids_test)"
   ]
  },
  {
   "cell_type": "code",
   "execution_count": 12,
   "metadata": {},
   "outputs": [],
   "source": [
    "date_block_nums = [i for i in range(35)]\n",
    "shop_ids = test['shop_id'].unique()\n",
    "item_ids = test['item_id'].unique()\n",
    "columns = [\"date_block_num\", \"shop_id\", \"item_id\"]\n",
    "\n",
    "index = pd.MultiIndex.from_product([date_block_nums, shop_ids, item_ids], names=columns)\n",
    "matrix = pd.DataFrame(index = index).reset_index()"
   ]
  },
  {
   "cell_type": "code",
   "execution_count": 13,
   "metadata": {},
   "outputs": [
    {
     "name": "stdout",
     "output_type": "stream",
     "text": [
      "<class 'pandas.core.frame.DataFrame'>\n",
      "RangeIndex: 7497000 entries, 0 to 7496999\n",
      "Data columns (total 3 columns):\n",
      "date_block_num    int64\n",
      "shop_id           uint64\n",
      "item_id           uint64\n",
      "dtypes: int64(1), uint64(2)\n",
      "memory usage: 171.6 MB\n"
     ]
    }
   ],
   "source": [
    "matrix.info()"
   ]
  },
  {
   "cell_type": "code",
   "execution_count": 14,
   "metadata": {},
   "outputs": [
    {
     "name": "stdout",
     "output_type": "stream",
     "text": [
      "<class 'pandas.core.frame.DataFrame'>\n",
      "RangeIndex: 7497000 entries, 0 to 7496999\n",
      "Data columns (total 3 columns):\n",
      "date_block_num    int8\n",
      "shop_id           int8\n",
      "item_id           int16\n",
      "dtypes: int16(1), int8(2)\n",
      "memory usage: 28.6 MB\n"
     ]
    }
   ],
   "source": [
    "matrix['date_block_num'] = matrix['date_block_num'].astype(np.int8)\n",
    "matrix['shop_id'] = matrix['shop_id'].astype(np.int8)\n",
    "matrix['item_id'] = matrix['item_id'].astype(np.int16)\n",
    "matrix.info()"
   ]
  },
  {
   "cell_type": "code",
   "execution_count": 15,
   "metadata": {},
   "outputs": [],
   "source": [
    "matrix.sort_values(cols,inplace=True)"
   ]
  },
  {
   "cell_type": "code",
   "execution_count": 16,
   "metadata": {},
   "outputs": [
    {
     "data": {
      "text/html": [
       "<div>\n",
       "<style scoped>\n",
       "    .dataframe tbody tr th:only-of-type {\n",
       "        vertical-align: middle;\n",
       "    }\n",
       "\n",
       "    .dataframe tbody tr th {\n",
       "        vertical-align: top;\n",
       "    }\n",
       "\n",
       "    .dataframe thead th {\n",
       "        text-align: right;\n",
       "    }\n",
       "</style>\n",
       "<table border=\"1\" class=\"dataframe\">\n",
       "  <thead>\n",
       "    <tr style=\"text-align: right;\">\n",
       "      <th></th>\n",
       "      <th>date_block_num</th>\n",
       "      <th>shop_id</th>\n",
       "      <th>item_id</th>\n",
       "    </tr>\n",
       "  </thead>\n",
       "  <tbody>\n",
       "    <tr>\n",
       "      <th>22987</th>\n",
       "      <td>0</td>\n",
       "      <td>2</td>\n",
       "      <td>30</td>\n",
       "    </tr>\n",
       "    <tr>\n",
       "      <th>20994</th>\n",
       "      <td>0</td>\n",
       "      <td>2</td>\n",
       "      <td>31</td>\n",
       "    </tr>\n",
       "    <tr>\n",
       "      <th>20995</th>\n",
       "      <td>0</td>\n",
       "      <td>2</td>\n",
       "      <td>32</td>\n",
       "    </tr>\n",
       "    <tr>\n",
       "      <th>22492</th>\n",
       "      <td>0</td>\n",
       "      <td>2</td>\n",
       "      <td>33</td>\n",
       "    </tr>\n",
       "    <tr>\n",
       "      <th>22491</th>\n",
       "      <td>0</td>\n",
       "      <td>2</td>\n",
       "      <td>38</td>\n",
       "    </tr>\n",
       "  </tbody>\n",
       "</table>\n",
       "</div>"
      ],
      "text/plain": [
       "       date_block_num  shop_id  item_id\n",
       "22987               0        2       30\n",
       "20994               0        2       31\n",
       "20995               0        2       32\n",
       "22492               0        2       33\n",
       "22491               0        2       38"
      ]
     },
     "execution_count": 16,
     "metadata": {},
     "output_type": "execute_result"
    }
   ],
   "source": [
    "matrix.head()"
   ]
  },
  {
   "cell_type": "code",
   "execution_count": 17,
   "metadata": {},
   "outputs": [],
   "source": [
    "matrix = pd.merge(matrix, group,  how='left', on=columns)"
   ]
  },
  {
   "cell_type": "code",
   "execution_count": 18,
   "metadata": {},
   "outputs": [],
   "source": [
    "matrix = pd.merge(matrix, shops, on=['shop_id'], how='left')\n",
    "matrix = pd.merge(matrix, items, on=['item_id'], how='left')\n",
    "matrix = pd.merge(matrix, cats, on=['item_category_id'], how='left')"
   ]
  },
  {
   "cell_type": "code",
   "execution_count": 19,
   "metadata": {},
   "outputs": [],
   "source": [
    "matrix['item_category_id'] = matrix['item_category_id'].astype(np.uint8)\n",
    "matrix.drop(['item_name'], axis=1, inplace=True)"
   ]
  },
  {
   "cell_type": "code",
   "execution_count": 20,
   "metadata": {},
   "outputs": [
    {
     "data": {
      "text/html": [
       "<div>\n",
       "<style scoped>\n",
       "    .dataframe tbody tr th:only-of-type {\n",
       "        vertical-align: middle;\n",
       "    }\n",
       "\n",
       "    .dataframe tbody tr th {\n",
       "        vertical-align: top;\n",
       "    }\n",
       "\n",
       "    .dataframe thead th {\n",
       "        text-align: right;\n",
       "    }\n",
       "</style>\n",
       "<table border=\"1\" class=\"dataframe\">\n",
       "  <thead>\n",
       "    <tr style=\"text-align: right;\">\n",
       "      <th></th>\n",
       "      <th>date_block_num</th>\n",
       "      <th>shop_id</th>\n",
       "      <th>item_id</th>\n",
       "      <th>item_cnt_month</th>\n",
       "      <th>item_price_open</th>\n",
       "      <th>item_price_close</th>\n",
       "      <th>item_price_min</th>\n",
       "      <th>item_price_mean</th>\n",
       "      <th>item_price_max</th>\n",
       "      <th>city_id</th>\n",
       "      <th>item_category_id</th>\n",
       "      <th>category_id</th>\n",
       "      <th>subcategory_id</th>\n",
       "      <th>subsubcategory_id</th>\n",
       "    </tr>\n",
       "  </thead>\n",
       "  <tbody>\n",
       "    <tr>\n",
       "      <th>0</th>\n",
       "      <td>0</td>\n",
       "      <td>2</td>\n",
       "      <td>30</td>\n",
       "      <td>NaN</td>\n",
       "      <td>NaN</td>\n",
       "      <td>NaN</td>\n",
       "      <td>NaN</td>\n",
       "      <td>NaN</td>\n",
       "      <td>NaN</td>\n",
       "      <td>1</td>\n",
       "      <td>40</td>\n",
       "      <td>6</td>\n",
       "      <td>9</td>\n",
       "      <td>22</td>\n",
       "    </tr>\n",
       "    <tr>\n",
       "      <th>1</th>\n",
       "      <td>0</td>\n",
       "      <td>2</td>\n",
       "      <td>31</td>\n",
       "      <td>NaN</td>\n",
       "      <td>NaN</td>\n",
       "      <td>NaN</td>\n",
       "      <td>NaN</td>\n",
       "      <td>NaN</td>\n",
       "      <td>NaN</td>\n",
       "      <td>1</td>\n",
       "      <td>37</td>\n",
       "      <td>6</td>\n",
       "      <td>8</td>\n",
       "      <td>19</td>\n",
       "    </tr>\n",
       "    <tr>\n",
       "      <th>2</th>\n",
       "      <td>0</td>\n",
       "      <td>2</td>\n",
       "      <td>32</td>\n",
       "      <td>NaN</td>\n",
       "      <td>NaN</td>\n",
       "      <td>NaN</td>\n",
       "      <td>NaN</td>\n",
       "      <td>NaN</td>\n",
       "      <td>NaN</td>\n",
       "      <td>1</td>\n",
       "      <td>40</td>\n",
       "      <td>6</td>\n",
       "      <td>9</td>\n",
       "      <td>22</td>\n",
       "    </tr>\n",
       "    <tr>\n",
       "      <th>3</th>\n",
       "      <td>0</td>\n",
       "      <td>2</td>\n",
       "      <td>33</td>\n",
       "      <td>1.0</td>\n",
       "      <td>499.0</td>\n",
       "      <td>499.0</td>\n",
       "      <td>499.0</td>\n",
       "      <td>499.0</td>\n",
       "      <td>499.0</td>\n",
       "      <td>1</td>\n",
       "      <td>37</td>\n",
       "      <td>6</td>\n",
       "      <td>8</td>\n",
       "      <td>19</td>\n",
       "    </tr>\n",
       "    <tr>\n",
       "      <th>4</th>\n",
       "      <td>0</td>\n",
       "      <td>2</td>\n",
       "      <td>38</td>\n",
       "      <td>NaN</td>\n",
       "      <td>NaN</td>\n",
       "      <td>NaN</td>\n",
       "      <td>NaN</td>\n",
       "      <td>NaN</td>\n",
       "      <td>NaN</td>\n",
       "      <td>1</td>\n",
       "      <td>41</td>\n",
       "      <td>6</td>\n",
       "      <td>9</td>\n",
       "      <td>23</td>\n",
       "    </tr>\n",
       "  </tbody>\n",
       "</table>\n",
       "</div>"
      ],
      "text/plain": [
       "   date_block_num  shop_id  item_id  item_cnt_month  item_price_open  \\\n",
       "0               0        2       30             NaN              NaN   \n",
       "1               0        2       31             NaN              NaN   \n",
       "2               0        2       32             NaN              NaN   \n",
       "3               0        2       33             1.0            499.0   \n",
       "4               0        2       38             NaN              NaN   \n",
       "\n",
       "   item_price_close  item_price_min  item_price_mean  item_price_max  city_id  \\\n",
       "0               NaN             NaN              NaN             NaN        1   \n",
       "1               NaN             NaN              NaN             NaN        1   \n",
       "2               NaN             NaN              NaN             NaN        1   \n",
       "3             499.0           499.0            499.0           499.0        1   \n",
       "4               NaN             NaN              NaN             NaN        1   \n",
       "\n",
       "   item_category_id  category_id  subcategory_id  subsubcategory_id  \n",
       "0                40            6               9                 22  \n",
       "1                37            6               8                 19  \n",
       "2                40            6               9                 22  \n",
       "3                37            6               8                 19  \n",
       "4                41            6               9                 23  "
      ]
     },
     "execution_count": 20,
     "metadata": {},
     "output_type": "execute_result"
    }
   ],
   "source": [
    "matrix.head()"
   ]
  },
  {
   "cell_type": "code",
   "execution_count": 21,
   "metadata": {},
   "outputs": [
    {
     "name": "stdout",
     "output_type": "stream",
     "text": [
      "<class 'pandas.core.frame.DataFrame'>\n",
      "Int64Index: 7497000 entries, 0 to 7496999\n",
      "Data columns (total 14 columns):\n",
      "date_block_num       int8\n",
      "shop_id              int8\n",
      "item_id              int16\n",
      "item_cnt_month       float16\n",
      "item_price_open      float16\n",
      "item_price_close     float16\n",
      "item_price_min       float16\n",
      "item_price_mean      float16\n",
      "item_price_max       float16\n",
      "city_id              uint8\n",
      "item_category_id     uint8\n",
      "category_id          uint8\n",
      "subcategory_id       uint8\n",
      "subsubcategory_id    uint8\n",
      "dtypes: float16(6), int16(1), int8(2), uint8(5)\n",
      "memory usage: 207.3 MB\n"
     ]
    }
   ],
   "source": [
    "matrix.fillna(0, inplace=True)\n",
    "matrix.info()"
   ]
  },
  {
   "cell_type": "code",
   "execution_count": 22,
   "metadata": {},
   "outputs": [],
   "source": [
    "def __add_grouped_basics(df, columns, shift_size=None):\n",
    "    _group_values = df.groupby(columns).agg({'item_cnt_month': ['min', 'mean', 'max']})\n",
    "\n",
    "    column_base_name = '+'.join(columns)\n",
    "    new_columns = [\n",
    "        'item_cnt_month min per {}'.format(column_base_name),\n",
    "        'item_cnt_month mean per {}'.format(column_base_name),\n",
    "        'item_cnt_month max per {}'.format(column_base_name),\n",
    "    ]\n",
    "\n",
    "    _group_values.columns = new_columns\n",
    "    _group_values.reset_index(inplace=True)\n",
    "    \n",
    "    df = pd.merge(df, _group_values, on=columns, how='left')\n",
    "    del _group_values\n",
    "    \n",
    "    _shift_columns = ['shop_id', 'item_id']\n",
    "\n",
    "    return df"
   ]
  },
  {
   "cell_type": "code",
   "execution_count": 23,
   "metadata": {},
   "outputs": [
    {
     "data": {
      "text/plain": [
       "19.454951286315918"
      ]
     },
     "execution_count": 23,
     "metadata": {},
     "output_type": "execute_result"
    }
   ],
   "source": [
    "ts = time.time()\n",
    "matrix = __add_grouped_basics(matrix, ['date_block_num', 'item_id'])\n",
    "matrix = __add_grouped_basics(matrix, ['date_block_num', 'shop_id'])\n",
    "matrix = __add_grouped_basics(matrix, ['date_block_num', 'city_id'])\n",
    "matrix = __add_grouped_basics(matrix, ['date_block_num', 'category_id'])\n",
    "time.time() - ts"
   ]
  },
  {
   "cell_type": "code",
   "execution_count": 24,
   "metadata": {},
   "outputs": [
    {
     "data": {
      "text/plain": [
       "20.33559560775757"
      ]
     },
     "execution_count": 24,
     "metadata": {},
     "output_type": "execute_result"
    }
   ],
   "source": [
    "ts = time.time()\n",
    "matrix = __add_grouped_basics(matrix, ['date_block_num', 'shop_id', 'category_id'])\n",
    "matrix = __add_grouped_basics(matrix, ['date_block_num', 'shop_id', 'category_id', 'subcategory_id'])\n",
    "matrix = __add_grouped_basics(matrix, ['date_block_num', 'shop_id', 'city_id'])\n",
    "time.time() - ts"
   ]
  },
  {
   "cell_type": "code",
   "execution_count": 25,
   "metadata": {},
   "outputs": [
    {
     "data": {
      "text/plain": [
       "32.96780180931091"
      ]
     },
     "execution_count": 25,
     "metadata": {},
     "output_type": "execute_result"
    }
   ],
   "source": [
    "ts = time.time()\n",
    "matrix = __add_grouped_basics(matrix, ['date_block_num', 'category_id', 'city_id'])\n",
    "matrix = __add_grouped_basics(matrix, ['date_block_num', 'category_id', 'item_id'])\n",
    "matrix = __add_grouped_basics(matrix, ['date_block_num', 'category_id', 'subcategory_id'])\n",
    "matrix = __add_grouped_basics(matrix, ['date_block_num', 'category_id', 'subcategory_id', 'city_id'])\n",
    "time.time() - ts"
   ]
  },
  {
   "cell_type": "code",
   "execution_count": 26,
   "metadata": {},
   "outputs": [
    {
     "data": {
      "text/plain": [
       "17.000518798828125"
      ]
     },
     "execution_count": 26,
     "metadata": {},
     "output_type": "execute_result"
    }
   ],
   "source": [
    "ts = time.time()\n",
    "matrix = __add_grouped_basics(matrix, ['date_block_num'])\n",
    "matrix = __add_grouped_basics(matrix, ['date_block_num', 'shop_id', 'subcategory_id'])\n",
    "\n",
    "time.time() - ts"
   ]
  },
  {
   "cell_type": "code",
   "execution_count": 27,
   "metadata": {},
   "outputs": [
    {
     "data": {
      "text/plain": [
       "26.059285402297974"
      ]
     },
     "execution_count": 27,
     "metadata": {},
     "output_type": "execute_result"
    }
   ],
   "source": [
    "ts = time.time()\n",
    "matrix = __add_grouped_basics(matrix, ['date_block_num', 'shop_id', 'subsubcategory_id'])\n",
    "matrix = __add_grouped_basics(matrix, ['date_block_num', 'item_id', 'city_id'])\n",
    "\n",
    "time.time() - ts"
   ]
  },
  {
   "cell_type": "code",
   "execution_count": 28,
   "metadata": {},
   "outputs": [
    {
     "data": {
      "text/plain": [
       "19.51977825164795"
      ]
     },
     "execution_count": 28,
     "metadata": {},
     "output_type": "execute_result"
    }
   ],
   "source": [
    "ts = time.time()\n",
    "matrix = __add_grouped_basics(matrix, ['date_block_num', 'subcategory_id'])\n",
    "matrix = __add_grouped_basics(matrix, ['date_block_num', 'subsubcategory_id'])\n",
    "\n",
    "time.time() - ts"
   ]
  },
  {
   "cell_type": "code",
   "execution_count": 29,
   "metadata": {},
   "outputs": [],
   "source": [
    "matrix.to_pickle('data_5.pkl')"
   ]
  },
  {
   "cell_type": "code",
   "execution_count": 30,
   "metadata": {},
   "outputs": [
    {
     "data": {
      "text/plain": [
       "7.431118011474609"
      ]
     },
     "execution_count": 30,
     "metadata": {},
     "output_type": "execute_result"
    }
   ],
   "source": [
    "ts = time.time()\n",
    "grouped_columns = ['date_block_num','item_id']\n",
    "methods = ['first', 'last', 'min', 'mean', 'max']\n",
    "group = train.groupby(grouped_columns).agg({'item_price': methods})\n",
    "\n",
    "new_columns = ['item_{}_item_price'.format(method) for method in methods]\n",
    "group.columns = new_columns\n",
    "group.reset_index(inplace=True)\n",
    "\n",
    "matrix = pd.merge(matrix, group, on=grouped_columns, how='left')\n",
    "matrix[new_columns] = matrix[new_columns].astype(np.float16)\n",
    "\n",
    "time.time() - ts"
   ]
  },
  {
   "cell_type": "code",
   "execution_count": 31,
   "metadata": {},
   "outputs": [
    {
     "name": "stdout",
     "output_type": "stream",
     "text": [
      "<class 'pandas.core.frame.DataFrame'>\n",
      "Int64Index: 7497000 entries, 0 to 7496999\n",
      "Data columns (total 70 columns):\n",
      "date_block_num                                                               int8\n",
      "shop_id                                                                      int8\n",
      "item_id                                                                      int16\n",
      "item_cnt_month                                                               float16\n",
      "item_price_open                                                              float16\n",
      "item_price_close                                                             float16\n",
      "item_price_min                                                               float16\n",
      "item_price_mean                                                              float16\n",
      "item_price_max                                                               float16\n",
      "city_id                                                                      uint8\n",
      "item_category_id                                                             uint8\n",
      "category_id                                                                  uint8\n",
      "subcategory_id                                                               uint8\n",
      "subsubcategory_id                                                            uint8\n",
      "item_cnt_month min per date_block_num+item_id                                float16\n",
      "item_cnt_month mean per date_block_num+item_id                               float16\n",
      "item_cnt_month max per date_block_num+item_id                                float16\n",
      "item_cnt_month min per date_block_num+shop_id                                float16\n",
      "item_cnt_month mean per date_block_num+shop_id                               float16\n",
      "item_cnt_month max per date_block_num+shop_id                                float16\n",
      "item_cnt_month min per date_block_num+city_id                                float16\n",
      "item_cnt_month mean per date_block_num+city_id                               float16\n",
      "item_cnt_month max per date_block_num+city_id                                float16\n",
      "item_cnt_month min per date_block_num+category_id                            float16\n",
      "item_cnt_month mean per date_block_num+category_id                           float16\n",
      "item_cnt_month max per date_block_num+category_id                            float16\n",
      "item_cnt_month min per date_block_num+shop_id+category_id                    float16\n",
      "item_cnt_month mean per date_block_num+shop_id+category_id                   float16\n",
      "item_cnt_month max per date_block_num+shop_id+category_id                    float16\n",
      "item_cnt_month min per date_block_num+shop_id+category_id+subcategory_id     float16\n",
      "item_cnt_month mean per date_block_num+shop_id+category_id+subcategory_id    float16\n",
      "item_cnt_month max per date_block_num+shop_id+category_id+subcategory_id     float16\n",
      "item_cnt_month min per date_block_num+shop_id+city_id                        float16\n",
      "item_cnt_month mean per date_block_num+shop_id+city_id                       float16\n",
      "item_cnt_month max per date_block_num+shop_id+city_id                        float16\n",
      "item_cnt_month min per date_block_num+category_id+city_id                    float16\n",
      "item_cnt_month mean per date_block_num+category_id+city_id                   float16\n",
      "item_cnt_month max per date_block_num+category_id+city_id                    float16\n",
      "item_cnt_month min per date_block_num+category_id+item_id                    float16\n",
      "item_cnt_month mean per date_block_num+category_id+item_id                   float16\n",
      "item_cnt_month max per date_block_num+category_id+item_id                    float16\n",
      "item_cnt_month min per date_block_num+category_id+subcategory_id             float16\n",
      "item_cnt_month mean per date_block_num+category_id+subcategory_id            float16\n",
      "item_cnt_month max per date_block_num+category_id+subcategory_id             float16\n",
      "item_cnt_month min per date_block_num+category_id+subcategory_id+city_id     float16\n",
      "item_cnt_month mean per date_block_num+category_id+subcategory_id+city_id    float16\n",
      "item_cnt_month max per date_block_num+category_id+subcategory_id+city_id     float16\n",
      "item_cnt_month min per date_block_num                                        float16\n",
      "item_cnt_month mean per date_block_num                                       float16\n",
      "item_cnt_month max per date_block_num                                        float16\n",
      "item_cnt_month min per date_block_num+shop_id+subcategory_id                 float16\n",
      "item_cnt_month mean per date_block_num+shop_id+subcategory_id                float16\n",
      "item_cnt_month max per date_block_num+shop_id+subcategory_id                 float16\n",
      "item_cnt_month min per date_block_num+shop_id+subsubcategory_id              float16\n",
      "item_cnt_month mean per date_block_num+shop_id+subsubcategory_id             float16\n",
      "item_cnt_month max per date_block_num+shop_id+subsubcategory_id              float16\n",
      "item_cnt_month min per date_block_num+item_id+city_id                        float16\n",
      "item_cnt_month mean per date_block_num+item_id+city_id                       float16\n",
      "item_cnt_month max per date_block_num+item_id+city_id                        float16\n",
      "item_cnt_month min per date_block_num+subcategory_id                         float16\n",
      "item_cnt_month mean per date_block_num+subcategory_id                        float16\n",
      "item_cnt_month max per date_block_num+subcategory_id                         float16\n",
      "item_cnt_month min per date_block_num+subsubcategory_id                      float16\n",
      "item_cnt_month mean per date_block_num+subsubcategory_id                     float16\n",
      "item_cnt_month max per date_block_num+subsubcategory_id                      float16\n",
      "item_first_item_price                                                        float16\n",
      "item_last_item_price                                                         float16\n",
      "item_min_item_price                                                          float16\n",
      "item_mean_item_price                                                         float16\n",
      "item_max_item_price                                                          float16\n",
      "dtypes: float16(62), int16(1), int8(2), uint8(5)\n",
      "memory usage: 1008.1 MB\n"
     ]
    }
   ],
   "source": [
    "matrix.info()"
   ]
  },
  {
   "cell_type": "code",
   "execution_count": 32,
   "metadata": {},
   "outputs": [],
   "source": [
    "del test\n",
    "del items\n",
    "del cats\n",
    "del shops"
   ]
  },
  {
   "cell_type": "code",
   "execution_count": 33,
   "metadata": {},
   "outputs": [
    {
     "data": {
      "text/plain": [
       "10.25257134437561"
      ]
     },
     "execution_count": 33,
     "metadata": {},
     "output_type": "execute_result"
    }
   ],
   "source": [
    "train['revenue'] = train['item_price'] *  train['item_cnt_day']\n",
    "\n",
    "\n",
    "ts = time.time()\n",
    "grouped_columns = ['date_block_num', 'shop_id']\n",
    "methods = ['sum']\n",
    "group = train.groupby(grouped_columns).agg({'revenue': methods})\n",
    "\n",
    "new_columns = ['date_shop_revenue_{}'.format(method) for method in methods]\n",
    "group.columns = new_columns\n",
    "group.reset_index(inplace=True)\n",
    "\n",
    "matrix = pd.merge(matrix, group, on=grouped_columns, how='left')\n",
    "matrix[new_columns] = matrix[new_columns].astype(np.float16)\n",
    "\n",
    "time.time() - ts"
   ]
  },
  {
   "cell_type": "code",
   "execution_count": 34,
   "metadata": {},
   "outputs": [
    {
     "name": "stdout",
     "output_type": "stream",
     "text": [
      "<class 'pandas.core.frame.DataFrame'>\n",
      "Int64Index: 7497000 entries, 0 to 7496999\n",
      "Data columns (total 71 columns):\n",
      "date_block_num                                                               int8\n",
      "shop_id                                                                      int8\n",
      "item_id                                                                      int16\n",
      "item_cnt_month                                                               float16\n",
      "item_price_open                                                              float16\n",
      "item_price_close                                                             float16\n",
      "item_price_min                                                               float16\n",
      "item_price_mean                                                              float16\n",
      "item_price_max                                                               float16\n",
      "city_id                                                                      uint8\n",
      "item_category_id                                                             uint8\n",
      "category_id                                                                  uint8\n",
      "subcategory_id                                                               uint8\n",
      "subsubcategory_id                                                            uint8\n",
      "item_cnt_month min per date_block_num+item_id                                float16\n",
      "item_cnt_month mean per date_block_num+item_id                               float16\n",
      "item_cnt_month max per date_block_num+item_id                                float16\n",
      "item_cnt_month min per date_block_num+shop_id                                float16\n",
      "item_cnt_month mean per date_block_num+shop_id                               float16\n",
      "item_cnt_month max per date_block_num+shop_id                                float16\n",
      "item_cnt_month min per date_block_num+city_id                                float16\n",
      "item_cnt_month mean per date_block_num+city_id                               float16\n",
      "item_cnt_month max per date_block_num+city_id                                float16\n",
      "item_cnt_month min per date_block_num+category_id                            float16\n",
      "item_cnt_month mean per date_block_num+category_id                           float16\n",
      "item_cnt_month max per date_block_num+category_id                            float16\n",
      "item_cnt_month min per date_block_num+shop_id+category_id                    float16\n",
      "item_cnt_month mean per date_block_num+shop_id+category_id                   float16\n",
      "item_cnt_month max per date_block_num+shop_id+category_id                    float16\n",
      "item_cnt_month min per date_block_num+shop_id+category_id+subcategory_id     float16\n",
      "item_cnt_month mean per date_block_num+shop_id+category_id+subcategory_id    float16\n",
      "item_cnt_month max per date_block_num+shop_id+category_id+subcategory_id     float16\n",
      "item_cnt_month min per date_block_num+shop_id+city_id                        float16\n",
      "item_cnt_month mean per date_block_num+shop_id+city_id                       float16\n",
      "item_cnt_month max per date_block_num+shop_id+city_id                        float16\n",
      "item_cnt_month min per date_block_num+category_id+city_id                    float16\n",
      "item_cnt_month mean per date_block_num+category_id+city_id                   float16\n",
      "item_cnt_month max per date_block_num+category_id+city_id                    float16\n",
      "item_cnt_month min per date_block_num+category_id+item_id                    float16\n",
      "item_cnt_month mean per date_block_num+category_id+item_id                   float16\n",
      "item_cnt_month max per date_block_num+category_id+item_id                    float16\n",
      "item_cnt_month min per date_block_num+category_id+subcategory_id             float16\n",
      "item_cnt_month mean per date_block_num+category_id+subcategory_id            float16\n",
      "item_cnt_month max per date_block_num+category_id+subcategory_id             float16\n",
      "item_cnt_month min per date_block_num+category_id+subcategory_id+city_id     float16\n",
      "item_cnt_month mean per date_block_num+category_id+subcategory_id+city_id    float16\n",
      "item_cnt_month max per date_block_num+category_id+subcategory_id+city_id     float16\n",
      "item_cnt_month min per date_block_num                                        float16\n",
      "item_cnt_month mean per date_block_num                                       float16\n",
      "item_cnt_month max per date_block_num                                        float16\n",
      "item_cnt_month min per date_block_num+shop_id+subcategory_id                 float16\n",
      "item_cnt_month mean per date_block_num+shop_id+subcategory_id                float16\n",
      "item_cnt_month max per date_block_num+shop_id+subcategory_id                 float16\n",
      "item_cnt_month min per date_block_num+shop_id+subsubcategory_id              float16\n",
      "item_cnt_month mean per date_block_num+shop_id+subsubcategory_id             float16\n",
      "item_cnt_month max per date_block_num+shop_id+subsubcategory_id              float16\n",
      "item_cnt_month min per date_block_num+item_id+city_id                        float16\n",
      "item_cnt_month mean per date_block_num+item_id+city_id                       float16\n",
      "item_cnt_month max per date_block_num+item_id+city_id                        float16\n",
      "item_cnt_month min per date_block_num+subcategory_id                         float16\n",
      "item_cnt_month mean per date_block_num+subcategory_id                        float16\n",
      "item_cnt_month max per date_block_num+subcategory_id                         float16\n",
      "item_cnt_month min per date_block_num+subsubcategory_id                      float16\n",
      "item_cnt_month mean per date_block_num+subsubcategory_id                     float16\n",
      "item_cnt_month max per date_block_num+subsubcategory_id                      float16\n",
      "item_first_item_price                                                        float16\n",
      "item_last_item_price                                                         float16\n",
      "item_min_item_price                                                          float16\n",
      "item_mean_item_price                                                         float16\n",
      "item_max_item_price                                                          float16\n",
      "date_shop_revenue_sum                                                        float16\n",
      "dtypes: float16(63), int16(1), int8(2), uint8(5)\n",
      "memory usage: 1022.4 MB\n"
     ]
    }
   ],
   "source": [
    "matrix.info()"
   ]
  },
  {
   "cell_type": "code",
   "execution_count": 35,
   "metadata": {},
   "outputs": [],
   "source": [
    "matrix.to_pickle('data_51.pkl')"
   ]
  },
  {
   "cell_type": "code",
   "execution_count": 36,
   "metadata": {},
   "outputs": [],
   "source": [
    "matrix['month'] = matrix['date_block_num'] % 12"
   ]
  },
  {
   "cell_type": "code",
   "execution_count": 37,
   "metadata": {},
   "outputs": [],
   "source": [
    "days = pd.Series([31,28,31,30,31,30,31,31,30,31,30,31])\n",
    "matrix['days'] = matrix['month'].map(days).astype(np.int8)"
   ]
  },
  {
   "cell_type": "code",
   "execution_count": 38,
   "metadata": {},
   "outputs": [],
   "source": [
    "seasons = pd.Series([0, 0, 1, 1, 1, 2, 2, 2, 3, 3, 3, 0])\n",
    "matrix['season'] = matrix['month'].map(seasons).astype(np.int8)"
   ]
  },
  {
   "cell_type": "code",
   "execution_count": 39,
   "metadata": {},
   "outputs": [],
   "source": [
    "matrix.to_pickle('data_5full.pkl')"
   ]
  },
  {
   "cell_type": "code",
   "execution_count": 40,
   "metadata": {},
   "outputs": [
    {
     "data": {
      "text/plain": [
       "698.6369967460632"
      ]
     },
     "execution_count": 40,
     "metadata": {},
     "output_type": "execute_result"
    }
   ],
   "source": [
    "ts = time.time()\n",
    "cache = {}\n",
    "matrix['item_shop_last_sale'] = -1\n",
    "matrix['item_shop_last_sale'] = matrix['item_shop_last_sale'].astype(np.int8)\n",
    "for idx, row in matrix.iterrows():    \n",
    "    key = str(row.item_id)+' '+str(row.shop_id)\n",
    "    if key not in cache:\n",
    "        if row.item_cnt_month!=0:\n",
    "            cache[key] = row.date_block_num\n",
    "    else:\n",
    "        last_date_block_num = cache[key]\n",
    "        matrix.at[idx, 'item_shop_last_sale'] = row.date_block_num - last_date_block_num\n",
    "        cache[key] = row.date_block_num         \n",
    "time.time() - ts"
   ]
  },
  {
   "cell_type": "code",
   "execution_count": 41,
   "metadata": {},
   "outputs": [
    {
     "data": {
      "text/plain": [
       "437.3858404159546"
      ]
     },
     "execution_count": 41,
     "metadata": {},
     "output_type": "execute_result"
    }
   ],
   "source": [
    "ts = time.time()\n",
    "cache = {}\n",
    "matrix['item_last_sale'] = -1\n",
    "matrix['item_last_sale'] = matrix['item_last_sale'].astype(np.int8)\n",
    "for idx, row in matrix.iterrows():    \n",
    "    key = row.item_id\n",
    "    if key not in cache:\n",
    "        if row.item_cnt_month!=0:\n",
    "            cache[key] = row.date_block_num\n",
    "    else:\n",
    "        last_date_block_num = cache[key]\n",
    "        if row.date_block_num>last_date_block_num:\n",
    "            matrix.at[idx, 'item_last_sale'] = row.date_block_num - last_date_block_num\n",
    "            cache[key] = row.date_block_num         \n",
    "time.time() - ts"
   ]
  },
  {
   "cell_type": "code",
   "execution_count": 42,
   "metadata": {},
   "outputs": [
    {
     "data": {
      "text/plain": [
       "1.2926743030548096"
      ]
     },
     "execution_count": 42,
     "metadata": {},
     "output_type": "execute_result"
    }
   ],
   "source": [
    "ts = time.time()\n",
    "matrix['item_shop_first_sale'] = matrix['date_block_num'] - matrix.groupby(['item_id','shop_id'])['date_block_num'].transform('min')\n",
    "matrix['item_first_sale'] = matrix['date_block_num'] - matrix.groupby('item_id')['date_block_num'].transform('min')\n",
    "time.time() - ts"
   ]
  },
  {
   "cell_type": "code",
   "execution_count": 43,
   "metadata": {},
   "outputs": [
    {
     "name": "stdout",
     "output_type": "stream",
     "text": [
      "<class 'pandas.core.frame.DataFrame'>\n",
      "Int64Index: 7497000 entries, 0 to 7496999\n",
      "Data columns (total 78 columns):\n",
      "date_block_num                                                               int8\n",
      "shop_id                                                                      int8\n",
      "item_id                                                                      int16\n",
      "item_cnt_month                                                               float16\n",
      "item_price_open                                                              float16\n",
      "item_price_close                                                             float16\n",
      "item_price_min                                                               float16\n",
      "item_price_mean                                                              float16\n",
      "item_price_max                                                               float16\n",
      "city_id                                                                      uint8\n",
      "item_category_id                                                             uint8\n",
      "category_id                                                                  uint8\n",
      "subcategory_id                                                               uint8\n",
      "subsubcategory_id                                                            uint8\n",
      "item_cnt_month min per date_block_num+item_id                                float16\n",
      "item_cnt_month mean per date_block_num+item_id                               float16\n",
      "item_cnt_month max per date_block_num+item_id                                float16\n",
      "item_cnt_month min per date_block_num+shop_id                                float16\n",
      "item_cnt_month mean per date_block_num+shop_id                               float16\n",
      "item_cnt_month max per date_block_num+shop_id                                float16\n",
      "item_cnt_month min per date_block_num+city_id                                float16\n",
      "item_cnt_month mean per date_block_num+city_id                               float16\n",
      "item_cnt_month max per date_block_num+city_id                                float16\n",
      "item_cnt_month min per date_block_num+category_id                            float16\n",
      "item_cnt_month mean per date_block_num+category_id                           float16\n",
      "item_cnt_month max per date_block_num+category_id                            float16\n",
      "item_cnt_month min per date_block_num+shop_id+category_id                    float16\n",
      "item_cnt_month mean per date_block_num+shop_id+category_id                   float16\n",
      "item_cnt_month max per date_block_num+shop_id+category_id                    float16\n",
      "item_cnt_month min per date_block_num+shop_id+category_id+subcategory_id     float16\n",
      "item_cnt_month mean per date_block_num+shop_id+category_id+subcategory_id    float16\n",
      "item_cnt_month max per date_block_num+shop_id+category_id+subcategory_id     float16\n",
      "item_cnt_month min per date_block_num+shop_id+city_id                        float16\n",
      "item_cnt_month mean per date_block_num+shop_id+city_id                       float16\n",
      "item_cnt_month max per date_block_num+shop_id+city_id                        float16\n",
      "item_cnt_month min per date_block_num+category_id+city_id                    float16\n",
      "item_cnt_month mean per date_block_num+category_id+city_id                   float16\n",
      "item_cnt_month max per date_block_num+category_id+city_id                    float16\n",
      "item_cnt_month min per date_block_num+category_id+item_id                    float16\n",
      "item_cnt_month mean per date_block_num+category_id+item_id                   float16\n",
      "item_cnt_month max per date_block_num+category_id+item_id                    float16\n",
      "item_cnt_month min per date_block_num+category_id+subcategory_id             float16\n",
      "item_cnt_month mean per date_block_num+category_id+subcategory_id            float16\n",
      "item_cnt_month max per date_block_num+category_id+subcategory_id             float16\n",
      "item_cnt_month min per date_block_num+category_id+subcategory_id+city_id     float16\n",
      "item_cnt_month mean per date_block_num+category_id+subcategory_id+city_id    float16\n",
      "item_cnt_month max per date_block_num+category_id+subcategory_id+city_id     float16\n",
      "item_cnt_month min per date_block_num                                        float16\n",
      "item_cnt_month mean per date_block_num                                       float16\n",
      "item_cnt_month max per date_block_num                                        float16\n",
      "item_cnt_month min per date_block_num+shop_id+subcategory_id                 float16\n",
      "item_cnt_month mean per date_block_num+shop_id+subcategory_id                float16\n",
      "item_cnt_month max per date_block_num+shop_id+subcategory_id                 float16\n",
      "item_cnt_month min per date_block_num+shop_id+subsubcategory_id              float16\n",
      "item_cnt_month mean per date_block_num+shop_id+subsubcategory_id             float16\n",
      "item_cnt_month max per date_block_num+shop_id+subsubcategory_id              float16\n",
      "item_cnt_month min per date_block_num+item_id+city_id                        float16\n",
      "item_cnt_month mean per date_block_num+item_id+city_id                       float16\n",
      "item_cnt_month max per date_block_num+item_id+city_id                        float16\n",
      "item_cnt_month min per date_block_num+subcategory_id                         float16\n",
      "item_cnt_month mean per date_block_num+subcategory_id                        float16\n",
      "item_cnt_month max per date_block_num+subcategory_id                         float16\n",
      "item_cnt_month min per date_block_num+subsubcategory_id                      float16\n",
      "item_cnt_month mean per date_block_num+subsubcategory_id                     float16\n",
      "item_cnt_month max per date_block_num+subsubcategory_id                      float16\n",
      "item_first_item_price                                                        float16\n",
      "item_last_item_price                                                         float16\n",
      "item_min_item_price                                                          float16\n",
      "item_mean_item_price                                                         float16\n",
      "item_max_item_price                                                          float16\n",
      "date_shop_revenue_sum                                                        float16\n",
      "month                                                                        int8\n",
      "days                                                                         int8\n",
      "season                                                                       int8\n",
      "item_shop_last_sale                                                          int8\n",
      "item_last_sale                                                               int8\n",
      "item_shop_first_sale                                                         int8\n",
      "item_first_sale                                                              int8\n",
      "dtypes: float16(63), int16(1), int8(9), uint8(5)\n",
      "memory usage: 1.0 GB\n"
     ]
    }
   ],
   "source": [
    "matrix.info()"
   ]
  },
  {
   "cell_type": "code",
   "execution_count": 44,
   "metadata": {},
   "outputs": [
    {
     "data": {
      "text/plain": [
       "0.660386323928833"
      ]
     },
     "execution_count": 44,
     "metadata": {},
     "output_type": "execute_result"
    }
   ],
   "source": [
    "ts = time.time()\n",
    "def fill_na(df):\n",
    "    for col in df.columns:\n",
    "        if ('_lag_' in col) & (df[col].isnull().any()):\n",
    "            if ('item_cnt' in col):\n",
    "                df[col].fillna(0, inplace=True)         \n",
    "    return df\n",
    "\n",
    "matrix = fill_na(matrix)\n",
    "time.time() - ts"
   ]
  },
  {
   "cell_type": "code",
   "execution_count": 45,
   "metadata": {},
   "outputs": [
    {
     "ename": "NameError",
     "evalue": "name 'items' is not defined",
     "output_type": "error",
     "traceback": [
      "\u001b[1;31m---------------------------------------------------------------------------\u001b[0m",
      "\u001b[1;31mNameError\u001b[0m                                 Traceback (most recent call last)",
      "\u001b[1;32m<ipython-input-45-2239847f1582>\u001b[0m in \u001b[0;36m<module>\u001b[1;34m\u001b[0m\n\u001b[0;32m      3\u001b[0m \u001b[1;31m# del cache\u001b[0m\u001b[1;33m\u001b[0m\u001b[1;33m\u001b[0m\u001b[1;33m\u001b[0m\u001b[0m\n\u001b[0;32m      4\u001b[0m \u001b[1;32mdel\u001b[0m \u001b[0mgroup\u001b[0m\u001b[1;33m\u001b[0m\u001b[1;33m\u001b[0m\u001b[0m\n\u001b[1;32m----> 5\u001b[1;33m \u001b[1;32mdel\u001b[0m \u001b[0mitems\u001b[0m\u001b[1;33m\u001b[0m\u001b[1;33m\u001b[0m\u001b[0m\n\u001b[0m\u001b[0;32m      6\u001b[0m \u001b[1;32mdel\u001b[0m \u001b[0mshops\u001b[0m\u001b[1;33m\u001b[0m\u001b[1;33m\u001b[0m\u001b[0m\n\u001b[0;32m      7\u001b[0m \u001b[1;32mdel\u001b[0m \u001b[0mcats\u001b[0m\u001b[1;33m\u001b[0m\u001b[1;33m\u001b[0m\u001b[0m\n",
      "\u001b[1;31mNameError\u001b[0m: name 'items' is not defined"
     ]
    }
   ],
   "source": [
    "matrix.to_pickle('data_lstm_full.pkl')\n",
    "del matrix\n",
    "# del cache\n",
    "del group\n",
    "del items\n",
    "del shops\n",
    "del cats\n",
    "del train\n",
    "# leave test for submission\n",
    "gc.collect();"
   ]
  },
  {
   "cell_type": "code",
   "execution_count": null,
   "metadata": {},
   "outputs": [],
   "source": []
  }
 ],
 "metadata": {
  "kernelspec": {
   "display_name": "Python 3",
   "language": "python",
   "name": "python3"
  },
  "language_info": {
   "codemirror_mode": {
    "name": "ipython",
    "version": 3
   },
   "file_extension": ".py",
   "mimetype": "text/x-python",
   "name": "python",
   "nbconvert_exporter": "python",
   "pygments_lexer": "ipython3",
   "version": "3.7.6"
  }
 },
 "nbformat": 4,
 "nbformat_minor": 4
}
