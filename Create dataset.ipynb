{
 "cells": [
  {
   "cell_type": "code",
   "execution_count": 3,
   "metadata": {
    "_cell_guid": "b1076dfc-b9ad-4769-8c92-a6c4dae69d19",
    "_uuid": "8f2839f25d086af736a60e9eeb907d3b93b6e0e5"
   },
   "outputs": [
    {
     "data": {
      "text/plain": [
       "sys.version_info(major=3, minor=7, micro=6, releaselevel='final', serial=0)"
      ]
     },
     "execution_count": 3,
     "metadata": {},
     "output_type": "execute_result"
    }
   ],
   "source": [
    "import numpy as np\n",
    "import pandas as pd\n",
    "pd.set_option('display.max_rows', 500)\n",
    "pd.set_option('display.max_columns', 100)\n",
    "\n",
    "from itertools import product\n",
    "from sklearn.preprocessing import LabelEncoder\n",
    "\n",
    "import seaborn as sns\n",
    "import matplotlib.pyplot as plt\n",
    "%matplotlib inline\n",
    "\n",
    "from xgboost import XGBRegressor\n",
    "from xgboost import plot_importance\n",
    "\n",
    "def plot_features(booster, figsize):    \n",
    "    fig, ax = plt.subplots(1,1,figsize=figsize)\n",
    "    return plot_importance(booster=booster, ax=ax)\n",
    "\n",
    "import time\n",
    "import sys\n",
    "import gc\n",
    "import pickle\n",
    "sys.version_info"
   ]
  },
  {
   "cell_type": "code",
   "execution_count": 4,
   "metadata": {},
   "outputs": [],
   "source": [
    "from module.data.read_data import *"
   ]
  },
  {
   "cell_type": "code",
   "execution_count": 5,
   "metadata": {},
   "outputs": [],
   "source": [
    "train = sales_file_processing()"
   ]
  },
  {
   "cell_type": "code",
   "execution_count": 6,
   "metadata": {},
   "outputs": [],
   "source": [
    "test = test_file_processing().set_index('ID')\n",
    "\n",
    "items = pd.read_csv(ITEMS_FILE)\n",
    "shops = shops_file_processing()\n",
    "cats = categories_file_processing()"
   ]
  },
  {
   "cell_type": "code",
   "execution_count": 7,
   "metadata": {
    "scrolled": true
   },
   "outputs": [
    {
     "name": "stdout",
     "output_type": "stream",
     "text": [
      "<class 'pandas.core.frame.DataFrame'>\n",
      "Int64Index: 214200 entries, 0 to 214199\n",
      "Data columns (total 3 columns):\n",
      "shop_id           214200 non-null uint8\n",
      "item_id           214200 non-null uint16\n",
      "date_block_num    214200 non-null uint8\n",
      "dtypes: uint16(1), uint8(2)\n",
      "memory usage: 2.5 MB\n"
     ]
    }
   ],
   "source": [
    "test.info()"
   ]
  },
  {
   "cell_type": "markdown",
   "metadata": {
    "_uuid": "ed7a190645750a818e29a6291ba2553a91764c7c"
   },
   "source": [
    "## Outliers"
   ]
  },
  {
   "cell_type": "markdown",
   "metadata": {
    "_uuid": "425d8f2dc08378977b393bf80c5fdcf0fba2c992"
   },
   "source": [
    "There are items with strange prices and sales. After detailed exploration I decided to remove items with price > 100000 and sales > 1001 (1000 is ok)."
   ]
  },
  {
   "cell_type": "code",
   "execution_count": 9,
   "metadata": {
    "_uuid": "5a864412fafc3129a3e9bd5bb1f18a7cf0c62935"
   },
   "outputs": [
    {
     "data": {
      "text/plain": [
       "<matplotlib.axes._subplots.AxesSubplot at 0x18284b22a08>"
      ]
     },
     "execution_count": 9,
     "metadata": {},
     "output_type": "execute_result"
    },
    {
     "data": {
      "image/png": "[encoded data removed]",
      "text/plain": [
       "<Figure size 720x288 with 1 Axes>"
      ]
     },
     "metadata": {
      "needs_background": "light"
     },
     "output_type": "display_data"
    },
    {
     "data": {
      "image/png": "[encoded data removed]",
      "text/plain": [
       "<Figure size 720x288 with 1 Axes>"
      ]
     },
     "metadata": {
      "needs_background": "light"
     },
     "output_type": "display_data"
    }
   ],
   "source": [
    "plt.figure(figsize=(10,4))\n",
    "plt.xlim(-100, 3000)\n",
    "sns.boxplot(x=train.item_cnt_day)\n",
    "\n",
    "plt.figure(figsize=(10,4))\n",
    "plt.xlim(train.item_price.min(), train.item_price.max()*1.1)\n",
    "sns.boxplot(x=train.item_price)"
   ]
  },
  {
   "cell_type": "code",
   "execution_count": 10,
   "metadata": {
    "_uuid": "7e621535d112603c60aeb2c2f83dbbf96d36b732"
   },
   "outputs": [],
   "source": [
    "train = train[train.item_price<100000]\n",
    "train = train[train.item_cnt_day<1001]"
   ]
  },
  {
   "cell_type": "markdown",
   "metadata": {
    "_uuid": "d2f99368478e3063b1c379537944e954d7186928"
   },
   "source": [
    "There is one item with price below zero. Fill it with median."
   ]
  },
  {
   "cell_type": "code",
   "execution_count": 11,
   "metadata": {
    "_uuid": "0fc6b90b22fe232f4240ac8f965cc52b3db5526a"
   },
   "outputs": [],
   "source": [
    "median = train[(train.shop_id==32)&(train.item_id==2973)&(train.date_block_num==4)&(train.item_price>0)].item_price.median()\n",
    "train.loc[train.item_price<0, 'item_price'] = median"
   ]
  },
  {
   "cell_type": "markdown",
   "metadata": {
    "_uuid": "62c5f83fa222595da99294f465ab28e80ce415e9"
   },
   "source": [
    "## Monthly sales\n",
    "Test set is a product of some shops and some items within 34 month. There are 5100 items * 42 shops = 214200 pairs. 363 items are new compared to the train. Hence, for the most of the items in the test set target value should be zero. \n",
    "In the other hand train set contains only pairs which were sold or returned in the past. Tha main idea is to calculate monthly sales and <b>extend it with zero sales</b> for each unique pair within the month. This way train data will be similar to test data."
   ]
  },
  {
   "cell_type": "code",
   "execution_count": 11,
   "metadata": {
    "_uuid": "7626c7455ea71b65894c6c866519df15080fa2ac",
    "scrolled": true
   },
   "outputs": [
    {
     "data": {
      "text/plain": [
       "11.442414283752441"
      ]
     },
     "execution_count": 11,
     "metadata": {},
     "output_type": "execute_result"
    }
   ],
   "source": [
    "ts = time.time()\n",
    "matrix = []\n",
    "cols = ['date_block_num','shop_id','item_id']\n",
    "for i in range(34):\n",
    "    sales = train[train.date_block_num==i]\n",
    "    _tmp = np.array(list(product([i], sales.shop_id.unique(), sales.item_id.unique())), dtype='int16')\n",
    "    matrix.append(_tmp)\n",
    "    \n",
    "matrix = pd.DataFrame(np.vstack(matrix), columns=cols)\n",
    "matrix['date_block_num'] = matrix['date_block_num'].astype(np.int8)\n",
    "matrix['shop_id'] = matrix['shop_id'].astype(np.int8)\n",
    "matrix['item_id'] = matrix['item_id'].astype(np.int16)\n",
    "matrix.sort_values(cols,inplace=True)\n",
    "time.time() - ts"
   ]
  },
  {
   "cell_type": "code",
   "execution_count": 11,
   "metadata": {},
   "outputs": [],
   "source": [
    "# date_block_nums = [i for i in range(35)]\n",
    "# shop_ids = test['shop_id'].unique()\n",
    "# item_ids = test['item_id'].unique()\n",
    "# columns = [\"date_block_num\", \"shop_id\", \"item_id\"]\n",
    "\n",
    "# index = pd.MultiIndex.from_product([date_block_nums, shop_ids, item_ids], names=columns)\n",
    "# matrix = pd.DataFrame(index = index).reset_index()\n",
    "# matrix['date_block_num'] = matrix['date_block_num'].astype(np.int8)\n",
    "# matrix['shop_id'] = matrix['shop_id'].astype(np.int8)\n",
    "# matrix['item_id'] = matrix['item_id'].astype(np.int16)\n",
    "# matrix.sort_values(columns, inplace=True)\n",
    "# matrix.fillna(0, inplace=True)"
   ]
  },
  {
   "cell_type": "code",
   "execution_count": 12,
   "metadata": {},
   "outputs": [
    {
     "name": "stdout",
     "output_type": "stream",
     "text": [
      "<class 'pandas.core.frame.DataFrame'>\n",
      "Int64Index: 10842077 entries, 114910 to 10698738\n",
      "Data columns (total 3 columns):\n",
      "date_block_num    int8\n",
      "shop_id           int8\n",
      "item_id           int16\n",
      "dtypes: int16(1), int8(2)\n",
      "memory usage: 124.1 MB\n"
     ]
    }
   ],
   "source": [
    "matrix.info()"
   ]
  },
  {
   "cell_type": "markdown",
   "metadata": {
    "_uuid": "867e91a7570dd78b4834f4f1a166e58f80b63f93"
   },
   "source": [
    "Aggregate train set by shop/item pairs to calculate target aggreagates, then <b>clip(0,20)</b> target value. This way train target will be similar to the test predictions.\n",
    "\n",
    "<i>I use floats instead of ints for item_cnt_month to avoid downcasting it after concatination with the test set later. If it would be int16, after concatination with NaN values it becomes int64, but foat16 becomes float16 even with NaNs.</i>"
   ]
  },
  {
   "cell_type": "code",
   "execution_count": 13,
   "metadata": {
    "_uuid": "7dd27181918fc7df89676e24d72130d183929d2d"
   },
   "outputs": [
    {
     "data": {
      "text/plain": [
       "6.551445722579956"
      ]
     },
     "execution_count": 13,
     "metadata": {},
     "output_type": "execute_result"
    }
   ],
   "source": [
    "ts = time.time()\n",
    "cols = ['date_block_num','shop_id','item_id']\n",
    "group = train.groupby(cols).agg({'item_cnt_day': ['sum'], \n",
    "                                 'item_price': ['first', 'last', 'min', 'mean', 'max']})\n",
    "\n",
    "new_columns = ['item_cnt_month', 'item_price_open', 'item_price_close', 'item_price_min', 'item_price_mean', 'item_price_max']\n",
    "group.columns = new_columns\n",
    "group.reset_index(inplace=True)\n",
    "group[new_columns] = group[new_columns].astype(np.float16)\n",
    "\n",
    "matrix = pd.merge(matrix, group, on=cols, how='left')\n",
    "matrix['item_cnt_month'] = matrix['item_cnt_month'].fillna(0).clip(0,20).astype(np.float16)\n",
    "\n",
    "time.time() - ts"
   ]
  },
  {
   "cell_type": "code",
   "execution_count": 14,
   "metadata": {},
   "outputs": [
    {
     "name": "stdout",
     "output_type": "stream",
     "text": [
      "<class 'pandas.core.frame.DataFrame'>\n",
      "Int64Index: 10842077 entries, 0 to 10842076\n",
      "Data columns (total 9 columns):\n",
      "date_block_num      int8\n",
      "shop_id             int8\n",
      "item_id             int16\n",
      "item_cnt_month      float16\n",
      "item_price_open     float16\n",
      "item_price_close    float16\n",
      "item_price_min      float16\n",
      "item_price_mean     float16\n",
      "item_price_max      float16\n",
      "dtypes: float16(6), int16(1), int8(2)\n",
      "memory usage: 248.2 MB\n"
     ]
    }
   ],
   "source": [
    "matrix.info()"
   ]
  },
  {
   "cell_type": "markdown",
   "metadata": {
    "_uuid": "315bc6107a93f3926a64fd09ea9244e9281ee41f"
   },
   "source": [
    "## Test set\n",
    "To use time tricks append test pairs to the matrix."
   ]
  },
  {
   "cell_type": "code",
   "execution_count": 15,
   "metadata": {
    "_uuid": "29d02bdb4fa768577607bf735b918ca81da85d41"
   },
   "outputs": [],
   "source": [
    "test['date_block_num'] = 34\n",
    "test['date_block_num'] = test['date_block_num'].astype(np.int8)\n",
    "test['shop_id'] = test['shop_id'].astype(np.int8)\n",
    "test['item_id'] = test['item_id'].astype(np.int16)"
   ]
  },
  {
   "cell_type": "code",
   "execution_count": 16,
   "metadata": {
    "_uuid": "177fbbab94c8057d67d61357d29581248468a74d"
   },
   "outputs": [
    {
     "data": {
      "text/plain": [
       "0.2902238368988037"
      ]
     },
     "execution_count": 16,
     "metadata": {},
     "output_type": "execute_result"
    }
   ],
   "source": [
    "ts = time.time()\n",
    "matrix = pd.concat([matrix, test], ignore_index=True, sort=False, keys=cols)\n",
    "matrix.fillna(0, inplace=True) # 34 month\n",
    "time.time() - ts"
   ]
  },
  {
   "cell_type": "code",
   "execution_count": 17,
   "metadata": {
    "scrolled": true
   },
   "outputs": [
    {
     "name": "stdout",
     "output_type": "stream",
     "text": [
      "<class 'pandas.core.frame.DataFrame'>\n",
      "RangeIndex: 11056277 entries, 0 to 11056276\n",
      "Data columns (total 9 columns):\n",
      "date_block_num      int8\n",
      "shop_id             int8\n",
      "item_id             int16\n",
      "item_cnt_month      float16\n",
      "item_price_open     float16\n",
      "item_price_close    float16\n",
      "item_price_min      float16\n",
      "item_price_mean     float16\n",
      "item_price_max      float16\n",
      "dtypes: float16(6), int16(1), int8(2)\n",
      "memory usage: 168.7 MB\n"
     ]
    }
   ],
   "source": [
    "matrix.info()"
   ]
  },
  {
   "cell_type": "code",
   "execution_count": 19,
   "metadata": {},
   "outputs": [
    {
     "data": {
      "text/html": [
       "<div>\n",
       "<style scoped>\n",
       "    .dataframe tbody tr th:only-of-type {\n",
       "        vertical-align: middle;\n",
       "    }\n",
       "\n",
       "    .dataframe tbody tr th {\n",
       "        vertical-align: top;\n",
       "    }\n",
       "\n",
       "    .dataframe thead th {\n",
       "        text-align: right;\n",
       "    }\n",
       "</style>\n",
       "<table border=\"1\" class=\"dataframe\">\n",
       "  <thead>\n",
       "    <tr style=\"text-align: right;\">\n",
       "      <th></th>\n",
       "      <th>date_block_num</th>\n",
       "      <th>shop_id</th>\n",
       "      <th>item_id</th>\n",
       "      <th>item_cnt_month</th>\n",
       "      <th>item_price_open</th>\n",
       "      <th>item_price_close</th>\n",
       "      <th>item_price_min</th>\n",
       "      <th>item_price_mean</th>\n",
       "      <th>item_price_max</th>\n",
       "    </tr>\n",
       "  </thead>\n",
       "  <tbody>\n",
       "    <tr>\n",
       "      <th>0</th>\n",
       "      <td>0</td>\n",
       "      <td>2</td>\n",
       "      <td>19</td>\n",
       "      <td>0.0</td>\n",
       "      <td>0.0</td>\n",
       "      <td>0.0</td>\n",
       "      <td>0.0</td>\n",
       "      <td>0.0</td>\n",
       "      <td>0.0</td>\n",
       "    </tr>\n",
       "    <tr>\n",
       "      <th>1</th>\n",
       "      <td>0</td>\n",
       "      <td>2</td>\n",
       "      <td>27</td>\n",
       "      <td>1.0</td>\n",
       "      <td>2500.0</td>\n",
       "      <td>2500.0</td>\n",
       "      <td>2500.0</td>\n",
       "      <td>2500.0</td>\n",
       "      <td>2500.0</td>\n",
       "    </tr>\n",
       "    <tr>\n",
       "      <th>2</th>\n",
       "      <td>0</td>\n",
       "      <td>2</td>\n",
       "      <td>28</td>\n",
       "      <td>0.0</td>\n",
       "      <td>0.0</td>\n",
       "      <td>0.0</td>\n",
       "      <td>0.0</td>\n",
       "      <td>0.0</td>\n",
       "      <td>0.0</td>\n",
       "    </tr>\n",
       "    <tr>\n",
       "      <th>3</th>\n",
       "      <td>0</td>\n",
       "      <td>2</td>\n",
       "      <td>29</td>\n",
       "      <td>0.0</td>\n",
       "      <td>0.0</td>\n",
       "      <td>0.0</td>\n",
       "      <td>0.0</td>\n",
       "      <td>0.0</td>\n",
       "      <td>0.0</td>\n",
       "    </tr>\n",
       "    <tr>\n",
       "      <th>4</th>\n",
       "      <td>0</td>\n",
       "      <td>2</td>\n",
       "      <td>32</td>\n",
       "      <td>0.0</td>\n",
       "      <td>0.0</td>\n",
       "      <td>0.0</td>\n",
       "      <td>0.0</td>\n",
       "      <td>0.0</td>\n",
       "      <td>0.0</td>\n",
       "    </tr>\n",
       "  </tbody>\n",
       "</table>\n",
       "</div>"
      ],
      "text/plain": [
       "   date_block_num  shop_id  item_id  item_cnt_month  item_price_open  \\\n",
       "0               0        2       19             0.0              0.0   \n",
       "1               0        2       27             1.0           2500.0   \n",
       "2               0        2       28             0.0              0.0   \n",
       "3               0        2       29             0.0              0.0   \n",
       "4               0        2       32             0.0              0.0   \n",
       "\n",
       "   item_price_close  item_price_min  item_price_mean  item_price_max  \n",
       "0               0.0             0.0              0.0             0.0  \n",
       "1            2500.0          2500.0           2500.0          2500.0  \n",
       "2               0.0             0.0              0.0             0.0  \n",
       "3               0.0             0.0              0.0             0.0  \n",
       "4               0.0             0.0              0.0             0.0  "
      ]
     },
     "execution_count": 19,
     "metadata": {},
     "output_type": "execute_result"
    }
   ],
   "source": [
    "matrix.head()"
   ]
  },
  {
   "cell_type": "markdown",
   "metadata": {
    "_uuid": "233e394a6cebf36ef002dc76fef8d430026a52b3"
   },
   "source": [
    "## Shops/Items/Cats features"
   ]
  },
  {
   "cell_type": "code",
   "execution_count": 20,
   "metadata": {},
   "outputs": [
    {
     "data": {
      "text/plain": [
       "4.965687036514282"
      ]
     },
     "execution_count": 20,
     "metadata": {},
     "output_type": "execute_result"
    }
   ],
   "source": [
    "ts = time.time()\n",
    "matrix = pd.merge(matrix, shops, on=['shop_id'], how='left')\n",
    "matrix = pd.merge(matrix, items, on=['item_id'], how='left')\n",
    "matrix = pd.merge(matrix, cats, on=['item_category_id'], how='left')\n",
    "time.time() - ts"
   ]
  },
  {
   "cell_type": "code",
   "execution_count": 21,
   "metadata": {},
   "outputs": [],
   "source": [
    "matrix['item_category_id'] = matrix['item_category_id'].astype(np.uint8)\n",
    "matrix.drop(['item_name'], axis=1, inplace=True)"
   ]
  },
  {
   "cell_type": "code",
   "execution_count": 22,
   "metadata": {},
   "outputs": [
    {
     "name": "stdout",
     "output_type": "stream",
     "text": [
      "<class 'pandas.core.frame.DataFrame'>\n",
      "Int64Index: 11056277 entries, 0 to 11056276\n",
      "Data columns (total 14 columns):\n",
      "date_block_num       int8\n",
      "shop_id              int8\n",
      "item_id              int16\n",
      "item_cnt_month       float16\n",
      "item_price_open      float16\n",
      "item_price_close     float16\n",
      "item_price_min       float16\n",
      "item_price_mean      float16\n",
      "item_price_max       float16\n",
      "city_id              uint8\n",
      "item_category_id     uint8\n",
      "category_id          uint8\n",
      "subcategory_id       uint8\n",
      "subsubcategory_id    uint8\n",
      "dtypes: float16(6), int16(1), int8(2), uint8(5)\n",
      "memory usage: 305.8 MB\n"
     ]
    }
   ],
   "source": [
    "matrix.info()"
   ]
  },
  {
   "cell_type": "markdown",
   "metadata": {
    "_uuid": "8358b291fdc8e0e7d1b5700974803b3f104715f7"
   },
   "source": [
    "## Traget lags"
   ]
  },
  {
   "cell_type": "code",
   "execution_count": 17,
   "metadata": {
    "_uuid": "9cd7bcc7643ce4545475e8e6f80d09a979aac42d"
   },
   "outputs": [],
   "source": [
    "import pandas as pd\n",
    "\n",
    "\n",
    "def __shift_and_append_column(df, grouped_columns, column, shift_size, drop=False):\n",
    "    if 'date_block_num' not in grouped_columns:\n",
    "        grouped_columns.insert(0, 'date_block_num')\n",
    "    old_columns = grouped_columns.copy()\n",
    "    old_columns.append(column)\n",
    "    tmp = df[old_columns]\n",
    "    result = df[old_columns]\n",
    "    \n",
    "    added_columns = []\n",
    "    for _shift in shift_size:\n",
    "        new_column_name = column + ' previous {}'.format(_shift)\n",
    "        added_columns.append(new_column_name)\n",
    "        new_columns = grouped_columns.copy()\n",
    "        new_columns.append(new_column_name)\n",
    "        \n",
    "        shifted = tmp.copy()\n",
    "        shifted.columns = new_columns\n",
    "        shifted['date_block_num'] += _shift\n",
    "\n",
    "        result = pd.merge(result, shifted, on=grouped_columns, how='left')\n",
    "        \n",
    "        del shifted\n",
    "\n",
    "    df = df.join(result[added_columns])\n",
    "    \n",
    "    del result\n",
    "    \n",
    "    if drop:\n",
    "        df.drop([column], axis=1, inplace=True)\n",
    "    \n",
    "    return df"
   ]
  },
  {
   "cell_type": "code",
   "execution_count": 24,
   "metadata": {
    "scrolled": true
   },
   "outputs": [],
   "source": [
    "grouped_columns = ['shop_id', 'item_id']\n",
    "matrix = __shift_and_append_column(matrix, grouped_columns, 'item_cnt_month', [1, 2, 3])"
   ]
  },
  {
   "cell_type": "code",
   "execution_count": 25,
   "metadata": {},
   "outputs": [],
   "source": [
    "matrix = __shift_and_append_column(matrix, grouped_columns, 'item_price_open', [1, 2, 3], drop=True)\n",
    "matrix = __shift_and_append_column(matrix, grouped_columns, 'item_price_close', [1, 2, 3], drop=True)\n",
    "matrix = __shift_and_append_column(matrix, grouped_columns, 'item_price_min', [1, 2, 3], drop=True)\n",
    "matrix = __shift_and_append_column(matrix, grouped_columns, 'item_price_mean', [1, 2, 3], drop=True)\n",
    "matrix = __shift_and_append_column(matrix, grouped_columns, 'item_price_max', [1, 2, 3], drop=True)"
   ]
  },
  {
   "cell_type": "code",
   "execution_count": 26,
   "metadata": {},
   "outputs": [
    {
     "name": "stdout",
     "output_type": "stream",
     "text": [
      "<class 'pandas.core.frame.DataFrame'>\n",
      "Int64Index: 11056277 entries, 0 to 11056276\n",
      "Data columns (total 27 columns):\n",
      "date_block_num                 int8\n",
      "shop_id                        int8\n",
      "item_id                        int16\n",
      "item_cnt_month                 float16\n",
      "city_id                        uint8\n",
      "item_category_id               uint8\n",
      "category_id                    uint8\n",
      "subcategory_id                 uint8\n",
      "subsubcategory_id              uint8\n",
      "item_cnt_month previous 1      float16\n",
      "item_cnt_month previous 2      float16\n",
      "item_cnt_month previous 3      float16\n",
      "item_price_open previous 1     float16\n",
      "item_price_open previous 2     float16\n",
      "item_price_open previous 3     float16\n",
      "item_price_close previous 1    float16\n",
      "item_price_close previous 2    float16\n",
      "item_price_close previous 3    float16\n",
      "item_price_min previous 1      float16\n",
      "item_price_min previous 2      float16\n",
      "item_price_min previous 3      float16\n",
      "item_price_mean previous 1     float16\n",
      "item_price_mean previous 2     float16\n",
      "item_price_mean previous 3     float16\n",
      "item_price_max previous 1      float16\n",
      "item_price_max previous 2      float16\n",
      "item_price_max previous 3      float16\n",
      "dtypes: float16(19), int16(1), int8(2), uint8(5)\n",
      "memory usage: 899.9 MB\n"
     ]
    }
   ],
   "source": [
    "matrix.info()"
   ]
  },
  {
   "cell_type": "markdown",
   "metadata": {
    "_uuid": "c67bf4dbcef884ffe9d19c65d37bc4de1f287ef6"
   },
   "source": [
    "## Mean encoded features"
   ]
  },
  {
   "cell_type": "code",
   "execution_count": 18,
   "metadata": {},
   "outputs": [],
   "source": [
    "def __add_grouped_basics(df, columns, shift_size=None):\n",
    "    _group_values = df.groupby(columns).agg({'item_cnt_month': ['min', 'mean', 'max']})\n",
    "\n",
    "    column_base_name = '+'.join(columns)\n",
    "    new_columns = [\n",
    "        'item_cnt_month min per {}'.format(column_base_name),\n",
    "        'item_cnt_month mean per {}'.format(column_base_name),\n",
    "        'item_cnt_month max per {}'.format(column_base_name),\n",
    "    ]\n",
    "\n",
    "    _group_values.columns = new_columns\n",
    "    _group_values.reset_index(inplace=True)\n",
    "    \n",
    "    df = pd.merge(df, _group_values, on=columns, how='left')\n",
    "    del _group_values\n",
    "    \n",
    "    _shift_columns = ['shop_id', 'item_id']\n",
    "    if shift_size is not None:\n",
    "        df = __shift_and_append_column(df, _shift_columns, new_columns[0], shift_size, drop=True)\n",
    "        df = __shift_and_append_column(df, _shift_columns, new_columns[1], shift_size, drop=True)\n",
    "        df = __shift_and_append_column(df, _shift_columns, new_columns[2], shift_size, drop=True)\n",
    "\n",
    "    return df"
   ]
  },
  {
   "cell_type": "code",
   "execution_count": 28,
   "metadata": {},
   "outputs": [],
   "source": [
    "shifts = [1, 2, 3]"
   ]
  },
  {
   "cell_type": "code",
   "execution_count": 29,
   "metadata": {},
   "outputs": [
    {
     "data": {
      "text/plain": [
       "291.7171037197113"
      ]
     },
     "execution_count": 29,
     "metadata": {},
     "output_type": "execute_result"
    }
   ],
   "source": [
    "ts = time.time()\n",
    "matrix = __add_grouped_basics(matrix, ['date_block_num', 'item_id'], shifts)\n",
    "matrix = __add_grouped_basics(matrix, ['date_block_num', 'shop_id'], shifts)\n",
    "matrix = __add_grouped_basics(matrix, ['date_block_num', 'city_id'], shifts)\n",
    "matrix = __add_grouped_basics(matrix, ['date_block_num', 'category_id'], shifts)\n",
    "time.time() - ts"
   ]
  },
  {
   "cell_type": "code",
   "execution_count": 30,
   "metadata": {},
   "outputs": [
    {
     "data": {
      "text/plain": [
       "247.36629843711853"
      ]
     },
     "execution_count": 30,
     "metadata": {},
     "output_type": "execute_result"
    }
   ],
   "source": [
    "ts = time.time()\n",
    "matrix = __add_grouped_basics(matrix, ['date_block_num', 'shop_id', 'category_id'], shifts)\n",
    "matrix = __add_grouped_basics(matrix, ['date_block_num', 'shop_id', 'category_id', 'subcategory_id'], shifts)\n",
    "matrix = __add_grouped_basics(matrix, ['date_block_num', 'shop_id', 'city_id'], shifts)\n",
    "time.time() - ts"
   ]
  },
  {
   "cell_type": "code",
   "execution_count": 31,
   "metadata": {},
   "outputs": [
    {
     "data": {
      "text/plain": [
       "402.47475361824036"
      ]
     },
     "execution_count": 31,
     "metadata": {},
     "output_type": "execute_result"
    }
   ],
   "source": [
    "ts = time.time()\n",
    "matrix = __add_grouped_basics(matrix, ['date_block_num', 'category_id', 'city_id'], shifts)\n",
    "matrix = __add_grouped_basics(matrix, ['date_block_num', 'category_id', 'item_id'], shifts)\n",
    "matrix = __add_grouped_basics(matrix, ['date_block_num', 'category_id', 'subcategory_id'], shifts)\n",
    "matrix = __add_grouped_basics(matrix, ['date_block_num', 'category_id', 'subcategory_id', 'city_id'], shifts)\n",
    "time.time() - ts"
   ]
  },
  {
   "cell_type": "code",
   "execution_count": 32,
   "metadata": {},
   "outputs": [
    {
     "name": "stdout",
     "output_type": "stream",
     "text": [
      "<class 'pandas.core.frame.DataFrame'>\n",
      "Int64Index: 11056277 entries, 0 to 11056276\n",
      "Columns: 126 entries, date_block_num to item_cnt_month max per date_block_num+category_id+subcategory_id+city_id previous 3\n",
      "dtypes: float16(118), int16(1), int8(2), uint8(5)\n",
      "memory usage: 2.9 GB\n"
     ]
    }
   ],
   "source": [
    "matrix.info()"
   ]
  },
  {
   "cell_type": "code",
   "execution_count": 34,
   "metadata": {},
   "outputs": [
    {
     "data": {
      "text/plain": [
       "214.96916365623474"
      ]
     },
     "execution_count": 34,
     "metadata": {},
     "output_type": "execute_result"
    }
   ],
   "source": [
    "ts = time.time()\n",
    "matrix = __add_grouped_basics(matrix, ['date_block_num'], shifts)\n",
    "matrix = __add_grouped_basics(matrix, ['date_block_num', 'shop_id', 'subcategory_id'], shifts)\n",
    "\n",
    "time.time() - ts"
   ]
  },
  {
   "cell_type": "code",
   "execution_count": 35,
   "metadata": {},
   "outputs": [
    {
     "data": {
      "text/plain": [
       "248.14375948905945"
      ]
     },
     "execution_count": 35,
     "metadata": {},
     "output_type": "execute_result"
    }
   ],
   "source": [
    "ts = time.time()\n",
    "matrix = __add_grouped_basics(matrix, ['date_block_num', 'shop_id', 'subsubcategory_id'], shifts)\n",
    "matrix = __add_grouped_basics(matrix, ['date_block_num', 'item_id', 'city_id'], shifts)\n",
    "\n",
    "time.time() - ts"
   ]
  },
  {
   "cell_type": "code",
   "execution_count": 36,
   "metadata": {},
   "outputs": [
    {
     "data": {
      "text/plain": [
       "264.661105632782"
      ]
     },
     "execution_count": 36,
     "metadata": {},
     "output_type": "execute_result"
    }
   ],
   "source": [
    "ts = time.time()\n",
    "matrix = __add_grouped_basics(matrix, ['date_block_num', 'subcategory_id'], shifts)\n",
    "matrix = __add_grouped_basics(matrix, ['date_block_num', 'subsubcategory_id'], shifts)\n",
    "\n",
    "time.time() - ts"
   ]
  },
  {
   "cell_type": "code",
   "execution_count": 37,
   "metadata": {},
   "outputs": [],
   "source": [
    "matrix.to_pickle('data_4.pkl')"
   ]
  },
  {
   "cell_type": "markdown",
   "metadata": {
    "_uuid": "6bcea31d93ab035ca3fa1ed7c0afddbf602c414a"
   },
   "source": [
    "## Trend features"
   ]
  },
  {
   "cell_type": "markdown",
   "metadata": {
    "_uuid": "0504e9613087237c255914d9ebd165fac4e88cd0"
   },
   "source": [
    "Price trend for the last six months."
   ]
  },
  {
   "cell_type": "code",
   "execution_count": 1,
   "metadata": {},
   "outputs": [
    {
     "ename": "NameError",
     "evalue": "name 'matrix' is not defined",
     "output_type": "error",
     "traceback": [
      "\u001b[1;31m---------------------------------------------------------------------------\u001b[0m",
      "\u001b[1;31mNameError\u001b[0m                                 Traceback (most recent call last)",
      "\u001b[1;32m<ipython-input-1-03ca97cf4f2d>\u001b[0m in \u001b[0;36m<module>\u001b[1;34m\u001b[0m\n\u001b[1;32m----> 1\u001b[1;33m \u001b[1;32mdel\u001b[0m \u001b[0mmatrix\u001b[0m\u001b[1;33m\u001b[0m\u001b[1;33m\u001b[0m\u001b[0m\n\u001b[0m",
      "\u001b[1;31mNameError\u001b[0m: name 'matrix' is not defined"
     ]
    }
   ],
   "source": [
    "del matrix"
   ]
  },
  {
   "cell_type": "code",
   "execution_count": 12,
   "metadata": {},
   "outputs": [],
   "source": [
    "matrix = pd.read_pickle('data_4.pkl')"
   ]
  },
  {
   "cell_type": "code",
   "execution_count": 13,
   "metadata": {},
   "outputs": [
    {
     "data": {
      "text/plain": [
       "33.56819438934326"
      ]
     },
     "execution_count": 13,
     "metadata": {},
     "output_type": "execute_result"
    }
   ],
   "source": [
    "ts = time.time()\n",
    "grouped_columns = ['date_block_num','item_id']\n",
    "methods = ['first', 'last', 'min', 'mean', 'max']\n",
    "group = train.groupby(grouped_columns).agg({'item_price': methods})\n",
    "\n",
    "new_columns = ['item_{}_item_price'.format(method) for method in methods]\n",
    "group.columns = new_columns\n",
    "group.reset_index(inplace=True)\n",
    "\n",
    "matrix = pd.merge(matrix, group, on=grouped_columns, how='left')\n",
    "matrix[new_columns] = matrix[new_columns].astype(np.float16)\n",
    "\n",
    "time.time() - ts"
   ]
  },
  {
   "cell_type": "code",
   "execution_count": 14,
   "metadata": {},
   "outputs": [
    {
     "name": "stdout",
     "output_type": "stream",
     "text": [
      "<class 'pandas.core.frame.DataFrame'>\n",
      "Int64Index: 11056277 entries, 0 to 11056276\n",
      "Columns: 185 entries, date_block_num to item_max_item_price\n",
      "dtypes: float16(177), int16(1), int8(2), uint8(5)\n",
      "memory usage: 3.8 GB\n"
     ]
    }
   ],
   "source": [
    "matrix.info()"
   ]
  },
  {
   "cell_type": "code",
   "execution_count": 15,
   "metadata": {},
   "outputs": [],
   "source": [
    "del test\n",
    "del items\n",
    "del cats\n",
    "del shops"
   ]
  },
  {
   "cell_type": "code",
   "execution_count": 43,
   "metadata": {},
   "outputs": [],
   "source": [
    "_columns = [column for column in matrix.columns if ('min' not in column) and ('max' not in column)]\n",
    "matrix = matrix[_columns]"
   ]
  },
  {
   "cell_type": "code",
   "execution_count": 19,
   "metadata": {
    "scrolled": true
   },
   "outputs": [
    {
     "name": "stdout",
     "output_type": "stream",
     "text": [
      "<class 'pandas.core.frame.DataFrame'>\n",
      "Int64Index: 11056277 entries, 0 to 11056276\n",
      "Columns: 185 entries, date_block_num to item_max_item_price\n",
      "dtypes: float16(177), int16(1), int8(2), uint8(5)\n",
      "memory usage: 3.8 GB\n"
     ]
    }
   ],
   "source": [
    "matrix.info()"
   ]
  },
  {
   "cell_type": "code",
   "execution_count": 20,
   "metadata": {
    "_uuid": "0da2ded8502e273137991fd2bebbadaf19c19622"
   },
   "outputs": [
    {
     "data": {
      "text/plain": [
       "1617.1448323726654"
      ]
     },
     "execution_count": 20,
     "metadata": {},
     "output_type": "execute_result"
    }
   ],
   "source": [
    "grouped_columns = ['date_block_num', 'shop_id', 'item_id']\n",
    "shifts = [1, 2, 3]\n",
    "for column in new_columns:\n",
    "    if column in matrix.columns:\n",
    "        matrix = __shift_and_append_column(matrix, grouped_columns, column, [1, 2, 3], drop=True)\n",
    "        matrix['delta_{} previous {}'.format(column, 1)] = (matrix['{} previous {}'.format(column, 1)] - matrix['{} previous {}'.format(column, 2)]) / matrix['{} previous {}'.format(column, 2)]\n",
    "        matrix['delta_{} previous {}'.format(column, 2)] = matrix['{} previous {}'.format(column, 2)] - matrix['{} previous {}'.format(column, 3)] / matrix['{} previous {}'.format(column, 3)]\n",
    "    \n",
    "matrix.fillna(0, inplace=True)\n",
    "\n",
    "time.time() - ts"
   ]
  },
  {
   "cell_type": "markdown",
   "metadata": {
    "_uuid": "17765ddb48f52abd88847a42c0a3ffe974e5b121"
   },
   "source": [
    "Last month shop revenue trend"
   ]
  },
  {
   "cell_type": "code",
   "execution_count": 21,
   "metadata": {
    "_uuid": "e633be47f1a22b41487866ce67fb874bd296339e"
   },
   "outputs": [
    {
     "data": {
      "text/plain": [
       "32.89003801345825"
      ]
     },
     "execution_count": 21,
     "metadata": {},
     "output_type": "execute_result"
    }
   ],
   "source": [
    "train['revenue'] = train['item_price'] *  train['item_cnt_day']\n",
    "\n",
    "\n",
    "ts = time.time()\n",
    "grouped_columns = ['date_block_num', 'shop_id']\n",
    "methods = ['sum']\n",
    "group = train.groupby(grouped_columns).agg({'revenue': methods})\n",
    "\n",
    "new_columns = ['date_shop_revenue_{}'.format(method) for method in methods]\n",
    "group.columns = new_columns\n",
    "group.reset_index(inplace=True)\n",
    "\n",
    "matrix = pd.merge(matrix, group, on=grouped_columns, how='left')\n",
    "matrix[new_columns] = matrix[new_columns].astype(np.float16)\n",
    "\n",
    "time.time() - ts"
   ]
  },
  {
   "cell_type": "code",
   "execution_count": 22,
   "metadata": {},
   "outputs": [
    {
     "data": {
      "text/plain": [
       "92.0269935131073"
      ]
     },
     "execution_count": 22,
     "metadata": {},
     "output_type": "execute_result"
    }
   ],
   "source": [
    "grouped_columns = ['date_block_num', 'shop_id', 'item_id']\n",
    "shifts = [1, 2, 3]\n",
    "for column in new_columns:\n",
    "    if column in matrix.columns:\n",
    "        matrix = __shift_and_append_column(matrix, grouped_columns, column, [1, 2, 3], drop=True)\n",
    "        matrix['delta_{} previous {}'.format(column, 1)] = (matrix['{} previous {}'.format(column, 1)] - matrix['{} previous {}'.format(column, 2)]) / matrix['{} previous {}'.format(column, 2)]\n",
    "        matrix['delta_{} previous {}'.format(column, 2)] = matrix['{} previous {}'.format(column, 2)] - matrix['{} previous {}'.format(column, 3)] / matrix['{} previous {}'.format(column, 3)]\n",
    "    \n",
    "matrix.fillna(0, inplace=True)\n",
    "\n",
    "time.time() - ts"
   ]
  },
  {
   "cell_type": "code",
   "execution_count": 23,
   "metadata": {},
   "outputs": [
    {
     "name": "stdout",
     "output_type": "stream",
     "text": [
      "<class 'pandas.core.frame.DataFrame'>\n",
      "Int64Index: 11056277 entries, 0 to 11056276\n",
      "Columns: 210 entries, date_block_num to delta_date_shop_revenue_sum previous 2\n",
      "dtypes: float16(202), int16(1), int8(2), uint8(5)\n",
      "memory usage: 4.6 GB\n"
     ]
    }
   ],
   "source": [
    "matrix.info()"
   ]
  },
  {
   "cell_type": "code",
   "execution_count": 24,
   "metadata": {},
   "outputs": [],
   "source": [
    "matrix.to_pickle('data_41.pkl')"
   ]
  },
  {
   "cell_type": "markdown",
   "metadata": {
    "_uuid": "47e06af411b7d26cd93dad3d6735e48e5fbdee50"
   },
   "source": [
    "## Special features"
   ]
  },
  {
   "cell_type": "code",
   "execution_count": 25,
   "metadata": {
    "_uuid": "bb521e1f33d4124a3b90b47447bdb29150770b6e"
   },
   "outputs": [],
   "source": [
    "matrix['month'] = matrix['date_block_num'] % 12"
   ]
  },
  {
   "cell_type": "markdown",
   "metadata": {
    "_uuid": "b4dc4d2ff86483989c4b74fc02a0d01ca68a5c75"
   },
   "source": [
    "Number of days in a month. There are no leap years."
   ]
  },
  {
   "cell_type": "code",
   "execution_count": 26,
   "metadata": {
    "_uuid": "e23f0201056b73368e3b70d4c36c6bb9e4a55291"
   },
   "outputs": [],
   "source": [
    "days = pd.Series([31,28,31,30,31,30,31,31,30,31,30,31])\n",
    "matrix['days'] = matrix['month'].map(days).astype(np.int8)"
   ]
  },
  {
   "cell_type": "code",
   "execution_count": 27,
   "metadata": {},
   "outputs": [],
   "source": [
    "seasons = pd.Series([0, 0, 1, 1, 1, 2, 2, 2, 3, 3, 3, 0])\n",
    "matrix['season'] = matrix['month'].map(seasons).astype(np.int8)"
   ]
  },
  {
   "cell_type": "code",
   "execution_count": 28,
   "metadata": {},
   "outputs": [
    {
     "name": "stdout",
     "output_type": "stream",
     "text": [
      "<class 'pandas.core.frame.DataFrame'>\n",
      "Int64Index: 11056277 entries, 0 to 11056276\n",
      "Columns: 213 entries, date_block_num to season\n",
      "dtypes: float16(202), int16(1), int8(5), uint8(5)\n",
      "memory usage: 4.7 GB\n"
     ]
    }
   ],
   "source": [
    "matrix.info()"
   ]
  },
  {
   "cell_type": "code",
   "execution_count": 29,
   "metadata": {},
   "outputs": [],
   "source": [
    "matrix.to_pickle('data_4full.pkl')"
   ]
  },
  {
   "cell_type": "markdown",
   "metadata": {
    "_uuid": "7c096e86eb0043c0f6eeb899de24e28ca4c4e044"
   },
   "source": [
    "Months since the last sale for each shop/item pair and for item only. I use programing approach.\n",
    "\n",
    "<i>Create HashTable with key equals to {shop_id,item_id} and value equals to date_block_num. Iterate data from the top. Foreach row if {row.shop_id,row.item_id} is not present in the table, then add it to the table and set its value to row.date_block_num. if HashTable contains key, then calculate the difference beteween cached value and row.date_block_num.</i>"
   ]
  },
  {
   "cell_type": "code",
   "execution_count": 30,
   "metadata": {
    "_uuid": "3458a7056c963167760921417d1f863f074f2b39"
   },
   "outputs": [
    {
     "data": {
      "text/plain": [
       "917.5164849758148"
      ]
     },
     "execution_count": 30,
     "metadata": {},
     "output_type": "execute_result"
    }
   ],
   "source": [
    "ts = time.time()\n",
    "cache = {}\n",
    "matrix['item_shop_last_sale'] = -1\n",
    "matrix['item_shop_last_sale'] = matrix['item_shop_last_sale'].astype(np.int8)\n",
    "for idx, row in matrix.iterrows():    \n",
    "    key = str(row.item_id)+' '+str(row.shop_id)\n",
    "    if key not in cache:\n",
    "        if row.item_cnt_month!=0:\n",
    "            cache[key] = row.date_block_num\n",
    "    else:\n",
    "        last_date_block_num = cache[key]\n",
    "        matrix.at[idx, 'item_shop_last_sale'] = row.date_block_num - last_date_block_num\n",
    "        cache[key] = row.date_block_num         \n",
    "time.time() - ts"
   ]
  },
  {
   "cell_type": "code",
   "execution_count": 31,
   "metadata": {
    "_uuid": "28b29fae3906d870b4dc3064a7f359b6d3abf623"
   },
   "outputs": [
    {
     "data": {
      "text/plain": [
       "630.8715617656708"
      ]
     },
     "execution_count": 31,
     "metadata": {},
     "output_type": "execute_result"
    }
   ],
   "source": [
    "ts = time.time()\n",
    "cache = {}\n",
    "matrix['item_last_sale'] = -1\n",
    "matrix['item_last_sale'] = matrix['item_last_sale'].astype(np.int8)\n",
    "for idx, row in matrix.iterrows():    \n",
    "    key = row.item_id\n",
    "    if key not in cache:\n",
    "        if row.item_cnt_month!=0:\n",
    "            cache[key] = row.date_block_num\n",
    "    else:\n",
    "        last_date_block_num = cache[key]\n",
    "        if row.date_block_num>last_date_block_num:\n",
    "            matrix.at[idx, 'item_last_sale'] = row.date_block_num - last_date_block_num\n",
    "            cache[key] = row.date_block_num         \n",
    "time.time() - ts"
   ]
  },
  {
   "cell_type": "markdown",
   "metadata": {
    "_uuid": "61987e6adc1bec2ea897eec837c0253f7f73fdb5"
   },
   "source": [
    "Months since the first sale for each shop/item pair and for item only."
   ]
  },
  {
   "cell_type": "code",
   "execution_count": 32,
   "metadata": {
    "_uuid": "ad0869709bbada35726d5ca41dd913d817249f8e"
   },
   "outputs": [
    {
     "data": {
      "text/plain": [
       "2.285884141921997"
      ]
     },
     "execution_count": 32,
     "metadata": {},
     "output_type": "execute_result"
    }
   ],
   "source": [
    "ts = time.time()\n",
    "matrix['item_shop_first_sale'] = matrix['date_block_num'] - matrix.groupby(['item_id','shop_id'])['date_block_num'].transform('min')\n",
    "matrix['item_first_sale'] = matrix['date_block_num'] - matrix.groupby('item_id')['date_block_num'].transform('min')\n",
    "time.time() - ts"
   ]
  },
  {
   "cell_type": "code",
   "execution_count": 33,
   "metadata": {},
   "outputs": [
    {
     "name": "stdout",
     "output_type": "stream",
     "text": [
      "<class 'pandas.core.frame.DataFrame'>\n",
      "Int64Index: 11056277 entries, 0 to 11056276\n",
      "Columns: 217 entries, date_block_num to item_first_sale\n",
      "dtypes: float16(202), int16(1), int8(9), uint8(5)\n",
      "memory usage: 4.7 GB\n"
     ]
    }
   ],
   "source": [
    "matrix.info()"
   ]
  },
  {
   "cell_type": "markdown",
   "metadata": {
    "_uuid": "966cb34ccfe849fbb3707d93270691cb8eef7a89"
   },
   "source": [
    "## Final preparations\n",
    "Because of the using 12 as lag value drop first 12 months. Also drop all the columns with this month calculated values (other words which can not be calcucated for the test set)."
   ]
  },
  {
   "cell_type": "markdown",
   "metadata": {
    "_uuid": "48a14784050901f878b40f093e4bc34e07ecce05"
   },
   "source": [
    "Producing lags brings a lot of nulls."
   ]
  },
  {
   "cell_type": "code",
   "execution_count": 34,
   "metadata": {
    "_uuid": "8e5d8cb5cea9be28af4a0486cc1bf797e5b5c7ee"
   },
   "outputs": [
    {
     "data": {
      "text/plain": [
       "4.30059552192688"
      ]
     },
     "execution_count": 34,
     "metadata": {},
     "output_type": "execute_result"
    }
   ],
   "source": [
    "ts = time.time()\n",
    "def fill_na(df):\n",
    "    for col in df.columns:\n",
    "        if ('_lag_' in col) & (df[col].isnull().any()):\n",
    "            if ('item_cnt' in col):\n",
    "                df[col].fillna(0, inplace=True)         \n",
    "    return df\n",
    "\n",
    "matrix = fill_na(matrix)\n",
    "time.time() - ts"
   ]
  },
  {
   "cell_type": "code",
   "execution_count": 67,
   "metadata": {
    "_uuid": "00bf3fffc1b143d0555d03b9d79b5fd00d9d0dc9"
   },
   "outputs": [
    {
     "data": {
      "text/plain": [
       "Index(['date_block_num', 'shop_id', 'item_id', 'item_cnt_month', 'city_id',\n",
       "       'item_category_id', 'category_id', 'subcategory_id',\n",
       "       'subsubcategory_id', 'item_cnt_month previous 1',\n",
       "       'item_cnt_month previous 2', 'item_cnt_month previous 3',\n",
       "       'item_price_open previous 1', 'item_price_open previous 2',\n",
       "       'item_price_open previous 3', 'item_price_close previous 1',\n",
       "       'item_price_close previous 2', 'item_price_close previous 3',\n",
       "       'item_price_mean previous 1', 'item_price_mean previous 2',\n",
       "       'item_price_mean previous 3',\n",
       "       'item_cnt_month mean per date_block_num+item_id previous 1',\n",
       "       'item_cnt_month mean per date_block_num+item_id previous 2',\n",
       "       'item_cnt_month mean per date_block_num+item_id previous 3',\n",
       "       'item_cnt_month mean per date_block_num+shop_id previous 1',\n",
       "       'item_cnt_month mean per date_block_num+shop_id previous 2',\n",
       "       'item_cnt_month mean per date_block_num+shop_id previous 3',\n",
       "       'item_cnt_month mean per date_block_num+city_id previous 1',\n",
       "       'item_cnt_month mean per date_block_num+city_id previous 2',\n",
       "       'item_cnt_month mean per date_block_num+city_id previous 3',\n",
       "       'item_cnt_month mean per date_block_num+category_id previous 1',\n",
       "       'item_cnt_month mean per date_block_num+category_id previous 2',\n",
       "       'item_cnt_month mean per date_block_num+category_id previous 3',\n",
       "       'item_cnt_month mean per date_block_num+shop_id+category_id previous 1',\n",
       "       'item_cnt_month mean per date_block_num+shop_id+category_id previous 2',\n",
       "       'item_cnt_month mean per date_block_num+shop_id+category_id previous 3',\n",
       "       'item_cnt_month mean per date_block_num+shop_id+category_id+subcategory_id previous 1',\n",
       "       'item_cnt_month mean per date_block_num+shop_id+category_id+subcategory_id previous 2',\n",
       "       'item_cnt_month mean per date_block_num+shop_id+category_id+subcategory_id previous 3',\n",
       "       'item_cnt_month mean per date_block_num+shop_id+city_id previous 1',\n",
       "       'item_cnt_month mean per date_block_num+shop_id+city_id previous 2',\n",
       "       'item_cnt_month mean per date_block_num+shop_id+city_id previous 3',\n",
       "       'item_cnt_month mean per date_block_num+category_id+city_id previous 1',\n",
       "       'item_cnt_month mean per date_block_num+category_id+city_id previous 2',\n",
       "       'item_cnt_month mean per date_block_num+category_id+city_id previous 3',\n",
       "       'item_cnt_month mean per date_block_num+category_id+item_id previous 1',\n",
       "       'item_cnt_month mean per date_block_num+category_id+item_id previous 2',\n",
       "       'item_cnt_month mean per date_block_num+category_id+item_id previous 3',\n",
       "       'item_cnt_month mean per date_block_num+category_id+subcategory_id previous 1',\n",
       "       'item_cnt_month mean per date_block_num+category_id+subcategory_id previous 2',\n",
       "       'item_cnt_month mean per date_block_num+category_id+subcategory_id previous 3',\n",
       "       'item_cnt_month mean per date_block_num+category_id+subcategory_id+city_id previous 1',\n",
       "       'item_cnt_month mean per date_block_num+category_id+subcategory_id+city_id previous 2',\n",
       "       'item_cnt_month mean per date_block_num+category_id+subcategory_id+city_id previous 3',\n",
       "       'item_cnt_month mean per date_block_num previous 1',\n",
       "       'item_cnt_month mean per date_block_num previous 2',\n",
       "       'item_cnt_month mean per date_block_num previous 3',\n",
       "       'item_cnt_month mean per date_block_num+shop_id+subcategory_id previous 1',\n",
       "       'item_cnt_month mean per date_block_num+shop_id+subcategory_id previous 2',\n",
       "       'item_cnt_month mean per date_block_num+shop_id+subcategory_id previous 3',\n",
       "       'item_cnt_month mean per date_block_num+shop_id+subsubcategory_id previous 1',\n",
       "       'item_cnt_month mean per date_block_num+shop_id+subsubcategory_id previous 2',\n",
       "       'item_cnt_month mean per date_block_num+shop_id+subsubcategory_id previous 3',\n",
       "       'item_cnt_month mean per date_block_num+item_id+city_id previous 1',\n",
       "       'item_cnt_month mean per date_block_num+item_id+city_id previous 2',\n",
       "       'item_cnt_month mean per date_block_num+item_id+city_id previous 3',\n",
       "       'item_cnt_month mean per date_block_num+subcategory_id previous 1',\n",
       "       'item_cnt_month mean per date_block_num+subcategory_id previous 2',\n",
       "       'item_cnt_month mean per date_block_num+subcategory_id previous 3',\n",
       "       'item_cnt_month mean per date_block_num+subsubcategory_id previous 1',\n",
       "       'item_cnt_month mean per date_block_num+subsubcategory_id previous 2',\n",
       "       'item_cnt_month mean per date_block_num+subsubcategory_id previous 3',\n",
       "       'item_first_item_price previous 1', 'item_first_item_price previous 2',\n",
       "       'item_first_item_price previous 3',\n",
       "       'delta_item_first_item_price previous 1',\n",
       "       'delta_item_first_item_price previous 2',\n",
       "       'item_last_item_price previous 1', 'item_last_item_price previous 2',\n",
       "       'item_last_item_price previous 3',\n",
       "       'delta_item_last_item_price previous 1',\n",
       "       'delta_item_last_item_price previous 2',\n",
       "       'item_mean_item_price previous 1', 'item_mean_item_price previous 2',\n",
       "       'item_mean_item_price previous 3',\n",
       "       'delta_item_mean_item_price previous 1',\n",
       "       'delta_item_mean_item_price previous 2',\n",
       "       'date_shop_revenue_sum previous 1', 'date_shop_revenue_sum previous 2',\n",
       "       'date_shop_revenue_sum previous 3',\n",
       "       'delta_date_shop_revenue_sum previous 1',\n",
       "       'delta_date_shop_revenue_sum previous 2', 'month', 'days', 'season'],\n",
       "      dtype='object')"
      ]
     },
     "execution_count": 67,
     "metadata": {},
     "output_type": "execute_result"
    }
   ],
   "source": [
    "matrix.columns"
   ]
  },
  {
   "cell_type": "code",
   "execution_count": 68,
   "metadata": {
    "_uuid": "5f4e4c5c552daf8d4da6999ae4b63f13459b2887"
   },
   "outputs": [
    {
     "name": "stdout",
     "output_type": "stream",
     "text": [
      "<class 'pandas.core.frame.DataFrame'>\n",
      "Int64Index: 7497000 entries, 0 to 7496999\n",
      "Data columns (total 95 columns):\n",
      "date_block_num                                                                          int8\n",
      "shop_id                                                                                 int8\n",
      "item_id                                                                                 int16\n",
      "item_cnt_month                                                                          float16\n",
      "city_id                                                                                 uint8\n",
      "item_category_id                                                                        uint8\n",
      "category_id                                                                             uint8\n",
      "subcategory_id                                                                          uint8\n",
      "subsubcategory_id                                                                       uint8\n",
      "item_cnt_month previous 1                                                               float16\n",
      "item_cnt_month previous 2                                                               float16\n",
      "item_cnt_month previous 3                                                               float16\n",
      "item_price_open previous 1                                                              float16\n",
      "item_price_open previous 2                                                              float16\n",
      "item_price_open previous 3                                                              float16\n",
      "item_price_close previous 1                                                             float16\n",
      "item_price_close previous 2                                                             float16\n",
      "item_price_close previous 3                                                             float16\n",
      "item_price_mean previous 1                                                              float16\n",
      "item_price_mean previous 2                                                              float16\n",
      "item_price_mean previous 3                                                              float16\n",
      "item_cnt_month mean per date_block_num+item_id previous 1                               float16\n",
      "item_cnt_month mean per date_block_num+item_id previous 2                               float16\n",
      "item_cnt_month mean per date_block_num+item_id previous 3                               float16\n",
      "item_cnt_month mean per date_block_num+shop_id previous 1                               float16\n",
      "item_cnt_month mean per date_block_num+shop_id previous 2                               float16\n",
      "item_cnt_month mean per date_block_num+shop_id previous 3                               float16\n",
      "item_cnt_month mean per date_block_num+city_id previous 1                               float16\n",
      "item_cnt_month mean per date_block_num+city_id previous 2                               float16\n",
      "item_cnt_month mean per date_block_num+city_id previous 3                               float16\n",
      "item_cnt_month mean per date_block_num+category_id previous 1                           float16\n",
      "item_cnt_month mean per date_block_num+category_id previous 2                           float16\n",
      "item_cnt_month mean per date_block_num+category_id previous 3                           float16\n",
      "item_cnt_month mean per date_block_num+shop_id+category_id previous 1                   float16\n",
      "item_cnt_month mean per date_block_num+shop_id+category_id previous 2                   float16\n",
      "item_cnt_month mean per date_block_num+shop_id+category_id previous 3                   float16\n",
      "item_cnt_month mean per date_block_num+shop_id+category_id+subcategory_id previous 1    float16\n",
      "item_cnt_month mean per date_block_num+shop_id+category_id+subcategory_id previous 2    float16\n",
      "item_cnt_month mean per date_block_num+shop_id+category_id+subcategory_id previous 3    float16\n",
      "item_cnt_month mean per date_block_num+shop_id+city_id previous 1                       float16\n",
      "item_cnt_month mean per date_block_num+shop_id+city_id previous 2                       float16\n",
      "item_cnt_month mean per date_block_num+shop_id+city_id previous 3                       float16\n",
      "item_cnt_month mean per date_block_num+category_id+city_id previous 1                   float16\n",
      "item_cnt_month mean per date_block_num+category_id+city_id previous 2                   float16\n",
      "item_cnt_month mean per date_block_num+category_id+city_id previous 3                   float16\n",
      "item_cnt_month mean per date_block_num+category_id+item_id previous 1                   float16\n",
      "item_cnt_month mean per date_block_num+category_id+item_id previous 2                   float16\n",
      "item_cnt_month mean per date_block_num+category_id+item_id previous 3                   float16\n",
      "item_cnt_month mean per date_block_num+category_id+subcategory_id previous 1            float16\n",
      "item_cnt_month mean per date_block_num+category_id+subcategory_id previous 2            float16\n",
      "item_cnt_month mean per date_block_num+category_id+subcategory_id previous 3            float16\n",
      "item_cnt_month mean per date_block_num+category_id+subcategory_id+city_id previous 1    float16\n",
      "item_cnt_month mean per date_block_num+category_id+subcategory_id+city_id previous 2    float16\n",
      "item_cnt_month mean per date_block_num+category_id+subcategory_id+city_id previous 3    float16\n",
      "item_cnt_month mean per date_block_num previous 1                                       float16\n",
      "item_cnt_month mean per date_block_num previous 2                                       float16\n",
      "item_cnt_month mean per date_block_num previous 3                                       float16\n",
      "item_cnt_month mean per date_block_num+shop_id+subcategory_id previous 1                float16\n",
      "item_cnt_month mean per date_block_num+shop_id+subcategory_id previous 2                float16\n",
      "item_cnt_month mean per date_block_num+shop_id+subcategory_id previous 3                float16\n",
      "item_cnt_month mean per date_block_num+shop_id+subsubcategory_id previous 1             float16\n",
      "item_cnt_month mean per date_block_num+shop_id+subsubcategory_id previous 2             float16\n",
      "item_cnt_month mean per date_block_num+shop_id+subsubcategory_id previous 3             float16\n",
      "item_cnt_month mean per date_block_num+item_id+city_id previous 1                       float16\n",
      "item_cnt_month mean per date_block_num+item_id+city_id previous 2                       float16\n",
      "item_cnt_month mean per date_block_num+item_id+city_id previous 3                       float16\n",
      "item_cnt_month mean per date_block_num+subcategory_id previous 1                        float16\n",
      "item_cnt_month mean per date_block_num+subcategory_id previous 2                        float16\n",
      "item_cnt_month mean per date_block_num+subcategory_id previous 3                        float16\n",
      "item_cnt_month mean per date_block_num+subsubcategory_id previous 1                     float16\n",
      "item_cnt_month mean per date_block_num+subsubcategory_id previous 2                     float16\n",
      "item_cnt_month mean per date_block_num+subsubcategory_id previous 3                     float16\n",
      "item_first_item_price previous 1                                                        float16\n",
      "item_first_item_price previous 2                                                        float16\n",
      "item_first_item_price previous 3                                                        float16\n",
      "delta_item_first_item_price previous 1                                                  float16\n",
      "delta_item_first_item_price previous 2                                                  float16\n",
      "item_last_item_price previous 1                                                         float16\n",
      "item_last_item_price previous 2                                                         float16\n",
      "item_last_item_price previous 3                                                         float16\n",
      "delta_item_last_item_price previous 1                                                   float16\n",
      "delta_item_last_item_price previous 2                                                   float16\n",
      "item_mean_item_price previous 1                                                         float16\n",
      "item_mean_item_price previous 2                                                         float16\n",
      "item_mean_item_price previous 3                                                         float16\n",
      "delta_item_mean_item_price previous 1                                                   float16\n",
      "delta_item_mean_item_price previous 2                                                   float16\n",
      "date_shop_revenue_sum previous 1                                                        float16\n",
      "date_shop_revenue_sum previous 2                                                        float16\n",
      "date_shop_revenue_sum previous 3                                                        float16\n",
      "delta_date_shop_revenue_sum previous 1                                                  float16\n",
      "delta_date_shop_revenue_sum previous 2                                                  float16\n",
      "month                                                                                   int8\n",
      "days                                                                                    int8\n",
      "season                                                                                  int8\n",
      "dtypes: float16(84), int16(1), int8(5), uint8(5)\n",
      "memory usage: 1.6 GB\n"
     ]
    }
   ],
   "source": [
    "matrix.info()"
   ]
  },
  {
   "cell_type": "code",
   "execution_count": 35,
   "metadata": {
    "_uuid": "5d9988f8da8876f74092fbf827ceb6c61dd09d5e"
   },
   "outputs": [
    {
     "ename": "NameError",
     "evalue": "name 'items' is not defined",
     "output_type": "error",
     "traceback": [
      "\u001b[1;31m---------------------------------------------------------------------------\u001b[0m",
      "\u001b[1;31mNameError\u001b[0m                                 Traceback (most recent call last)",
      "\u001b[1;32m<ipython-input-35-960d22a9cb64>\u001b[0m in \u001b[0;36m<module>\u001b[1;34m\u001b[0m\n\u001b[0;32m      3\u001b[0m \u001b[1;31m# del cache\u001b[0m\u001b[1;33m\u001b[0m\u001b[1;33m\u001b[0m\u001b[1;33m\u001b[0m\u001b[0m\n\u001b[0;32m      4\u001b[0m \u001b[1;32mdel\u001b[0m \u001b[0mgroup\u001b[0m\u001b[1;33m\u001b[0m\u001b[1;33m\u001b[0m\u001b[0m\n\u001b[1;32m----> 5\u001b[1;33m \u001b[1;32mdel\u001b[0m \u001b[0mitems\u001b[0m\u001b[1;33m\u001b[0m\u001b[1;33m\u001b[0m\u001b[0m\n\u001b[0m\u001b[0;32m      6\u001b[0m \u001b[1;32mdel\u001b[0m \u001b[0mshops\u001b[0m\u001b[1;33m\u001b[0m\u001b[1;33m\u001b[0m\u001b[0m\n\u001b[0;32m      7\u001b[0m \u001b[1;32mdel\u001b[0m \u001b[0mcats\u001b[0m\u001b[1;33m\u001b[0m\u001b[1;33m\u001b[0m\u001b[0m\n",
      "\u001b[1;31mNameError\u001b[0m: name 'items' is not defined"
     ]
    }
   ],
   "source": [
    "matrix.to_pickle('data_full.pkl')\n",
    "del matrix\n",
    "# del cache\n",
    "del group\n",
    "del items\n",
    "del shops\n",
    "del cats\n",
    "del train\n",
    "# leave test for submission\n",
    "gc.collect();"
   ]
  },
  {
   "cell_type": "code",
   "execution_count": null,
   "metadata": {},
   "outputs": [],
   "source": []
  }
 ],
 "metadata": {
  "kernelspec": {
   "display_name": "Python 3",
   "language": "python",
   "name": "python3"
  },
  "language_info": {
   "codemirror_mode": {
    "name": "ipython",
    "version": 3
   },
   "file_extension": ".py",
   "mimetype": "text/x-python",
   "name": "python",
   "nbconvert_exporter": "python",
   "pygments_lexer": "ipython3",
   "version": "3.7.6"
  }
 },
 "nbformat": 4,
 "nbformat_minor": 1
}
